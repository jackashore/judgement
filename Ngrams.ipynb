{
  "nbformat": 4,
  "nbformat_minor": 0,
  "metadata": {
    "colab": {
      "name": "Ngrams.ipynb",
      "version": "0.3.2",
      "provenance": [],
      "collapsed_sections": [],
      "include_colab_link": true
    },
    "kernelspec": {
      "name": "python3",
      "display_name": "Python 3"
    }
  },
  "cells": [
    {
      "cell_type": "markdown",
      "metadata": {
        "id": "view-in-github",
        "colab_type": "text"
      },
      "source": [
        "<a href=\"https://colab.research.google.com/github/jackashore/judgement/blob/develop/Ngrams.ipynb\" target=\"_parent\"><img src=\"https://colab.research.google.com/assets/colab-badge.svg\" alt=\"Open In Colab\"/></a>"
      ]
    },
    {
      "metadata": {
        "id": "p3pgEmL40YHg",
        "colab_type": "code",
        "outputId": "29cd96ad-cbc1-43de-f76f-b2299735e963",
        "colab": {
          "base_uri": "https://localhost:8080/",
          "height": 272
        }
      },
      "cell_type": "code",
      "source": [
        "# Скачиваем данные\n",
        "\n",
        "# papaver_all_with_tags\n",
        "!wget https://drive.google.com/open?id=1muuQI5SdgqPui3nCYzkO8AVwChjHf6A4\n",
        "  \n",
        "# Code to read csv file into Colaboratory:\n",
        "!pip install -U -q PyDrive\n",
        "from pydrive.auth import GoogleAuth\n",
        "from pydrive.drive import GoogleDrive\n",
        "from google.colab import auth\n",
        "from oauth2client.client import GoogleCredentials\n",
        "# Authenticate and create the PyDrive client.\n",
        "auth.authenticate_user()\n",
        "gauth = GoogleAuth()\n",
        "gauth.credentials = GoogleCredentials.get_application_default()\n",
        "drive = GoogleDrive(gauth)\n",
        "\n",
        "#link = 'https://drive.google.com/open?id=1DPZZQ43w8brRhbEMolgLqOWKbZbE-IQu' # The shareable link\n",
        "\n",
        "downloaded = drive.CreateFile({'id':'1muuQI5SdgqPui3nCYzkO8AVwChjHf6A4'}) \n",
        "downloaded.GetContentFile('hg.zip')  "
      ],
      "execution_count": 0,
      "outputs": [
        {
          "output_type": "stream",
          "text": [
            "--2019-04-03 13:55:42--  https://drive.google.com/open?id=1muuQI5SdgqPui3nCYzkO8AVwChjHf6A4\n",
            "Resolving drive.google.com (drive.google.com)... 74.125.141.101, 74.125.141.139, 74.125.141.113, ...\n",
            "Connecting to drive.google.com (drive.google.com)|74.125.141.101|:443... connected.\n",
            "HTTP request sent, awaiting response... 307 OK\n",
            "Location: https://drive.google.com/file/d/1muuQI5SdgqPui3nCYzkO8AVwChjHf6A4/view?usp=drive_open [following]\n",
            "--2019-04-03 13:55:42--  https://drive.google.com/file/d/1muuQI5SdgqPui3nCYzkO8AVwChjHf6A4/view?usp=drive_open\n",
            "Reusing existing connection to drive.google.com:443.\n",
            "HTTP request sent, awaiting response... 200 OK\n",
            "Length: unspecified [text/html]\n",
            "Saving to: ‘open?id=1muuQI5SdgqPui3nCYzkO8AVwChjHf6A4.6’\n",
            "\n",
            "\r          open?id=1     [<=>                 ]       0  --.-KB/s               \ropen?id=1muuQI5Sdgq     [ <=>                ] 131.24K  --.-KB/s    in 0.008s  \n",
            "\n",
            "2019-04-03 13:55:42 (15.3 MB/s) - ‘open?id=1muuQI5SdgqPui3nCYzkO8AVwChjHf6A4.6’ saved [134388]\n",
            "\n"
          ],
          "name": "stdout"
        }
      ]
    },
    {
      "metadata": {
        "id": "FK-Lu88ktAPw",
        "colab_type": "code",
        "colab": {}
      },
      "cell_type": "code",
      "source": [
        "import zipfile\n",
        "zip_ref = zipfile.ZipFile('hg.zip', 'r')\n",
        "zip_ref.extractall('files')\n",
        "zip_ref.close()"
      ],
      "execution_count": 0,
      "outputs": []
    },
    {
      "metadata": {
        "id": "lqXenzbApzpb",
        "colab_type": "code",
        "outputId": "3c6591a4-6097-44e2-80f3-0ffe771c6b23",
        "colab": {
          "base_uri": "https://localhost:8080/",
          "height": 272
        }
      },
      "cell_type": "code",
      "source": [
        "# Скачиваем данные main_parts_without_tags\n",
        "\n",
        "!wget https://drive.google.com/open?id=1qjs-tJN-Yh4B-DnqOOzyJwxgAprx4TOf\n",
        "  \n",
        "# Code to read csv file into Colaboratory:\n",
        "!pip install -U -q PyDrive\n",
        "from pydrive.auth import GoogleAuth\n",
        "from pydrive.drive import GoogleDrive\n",
        "from google.colab import auth\n",
        "from oauth2client.client import GoogleCredentials\n",
        "# Authenticate and create the PyDrive client.\n",
        "auth.authenticate_user()\n",
        "gauth = GoogleAuth()\n",
        "gauth.credentials = GoogleCredentials.get_application_default()\n",
        "drive = GoogleDrive(gauth)\n",
        "downloaded = drive.CreateFile({'id':'1qjs-tJN-Yh4B-DnqOOzyJwxgAprx4TOf'}) \n",
        "downloaded.GetContentFile('main_parts_untagged.rar')"
      ],
      "execution_count": 0,
      "outputs": [
        {
          "output_type": "stream",
          "text": [
            "--2019-04-03 13:55:58--  https://drive.google.com/open?id=1qjs-tJN-Yh4B-DnqOOzyJwxgAprx4TOf\n",
            "Resolving drive.google.com (drive.google.com)... 74.125.141.101, 74.125.141.139, 74.125.141.113, ...\n",
            "Connecting to drive.google.com (drive.google.com)|74.125.141.101|:443... connected.\n",
            "HTTP request sent, awaiting response... 307 OK\n",
            "Location: https://drive.google.com/file/d/1qjs-tJN-Yh4B-DnqOOzyJwxgAprx4TOf/view?usp=drive_open [following]\n",
            "--2019-04-03 13:55:58--  https://drive.google.com/file/d/1qjs-tJN-Yh4B-DnqOOzyJwxgAprx4TOf/view?usp=drive_open\n",
            "Reusing existing connection to drive.google.com:443.\n",
            "HTTP request sent, awaiting response... 200 OK\n",
            "Length: unspecified [text/html]\n",
            "Saving to: ‘open?id=1qjs-tJN-Yh4B-DnqOOzyJwxgAprx4TOf.6’\n",
            "\n",
            "\r          open?id=1     [<=>                 ]       0  --.-KB/s               \ropen?id=1qjs-tJN-Yh     [ <=>                ] 131.20K  --.-KB/s    in 0.01s   \n",
            "\n",
            "2019-04-03 13:55:58 (11.0 MB/s) - ‘open?id=1qjs-tJN-Yh4B-DnqOOzyJwxgAprx4TOf.6’ saved [134345]\n",
            "\n"
          ],
          "name": "stdout"
        }
      ]
    },
    {
      "metadata": {
        "id": "BVT0ujGlRVuF",
        "colab_type": "code",
        "outputId": "c0ca1709-f645-4798-bd4e-442b44157fd6",
        "colab": {
          "base_uri": "https://localhost:8080/",
          "height": 272
        }
      },
      "cell_type": "code",
      "source": [
        "!unrar e main_parts_untagged.rar\n",
        "!rm main_parts_untagged.rar"
      ],
      "execution_count": 0,
      "outputs": [
        {
          "output_type": "stream",
          "text": [
            "\n",
            "UNRAR 5.50 freeware      Copyright (c) 1993-2017 Alexander Roshal\n",
            "\n",
            "\n",
            "Extracting from main_parts_untagged.rar\n",
            "\n",
            "\n",
            "Would you like to replace the existing file main_1.txt\n",
            " 96833 bytes, modified on 2019-01-31 22:10\n",
            "with a new one\n",
            " 96833 bytes, modified on 2019-01-31 22:10\n",
            "\n",
            "[Y]es, [N]o, [A]ll, n[E]ver, [R]ename, [Q]uit E\n",
            "\n",
            "No files to extract\n"
          ],
          "name": "stdout"
        }
      ]
    },
    {
      "metadata": {
        "id": "LMTQ5ZpERvnp",
        "colab_type": "code",
        "colab": {}
      },
      "cell_type": "code",
      "source": [
        "# Функция для чтения именно Вериного обучающего датасета\n",
        "import re, os\n",
        "\n",
        "def read_main_parts_untagged(path):\n",
        "    files = []\n",
        "    for i in os.listdir(path):\n",
        "        if \"txt\" in i:\n",
        "            files.append(i)\n",
        "    texts = []\n",
        "    for i in files:\n",
        "        with open(path+\"/\"+i, \"r\", encoding = 'UTF-8') as f:\n",
        "            text = \"\"\n",
        "            for line in f.readlines():\n",
        "                if line.strip():\n",
        "                    text += line.replace('\\xa0', '').replace('\\ufeff', '').replace('\\n', '').replace('У С Т А Н О В И Л', '') + ' '\n",
        "            texts.append(text)\n",
        "    return texts \n",
        "  \n",
        "segmentator_train_data = read_main_parts_untagged('.')"
      ],
      "execution_count": 0,
      "outputs": []
    },
    {
      "metadata": {
        "colab_type": "code",
        "id": "XNVT8KyyxMAT",
        "colab": {}
      },
      "cell_type": "code",
      "source": [
        "# Пример чтения\n",
        "\n",
        "# with open('files//11.txt', encoding='utf8') as f:\n",
        "#  for line in f:\n",
        "#    print(line)"
      ],
      "execution_count": 0,
      "outputs": []
    },
    {
      "metadata": {
        "id": "kJ2SR1WnjInE",
        "colab_type": "code",
        "colab": {}
      },
      "cell_type": "code",
      "source": [
        "# Ячейка на всякий случай\n",
        "#!pip install nltk\n",
        "#!pip install pymorphy2[fast]\n",
        "#!pip install pandas"
      ],
      "execution_count": 0,
      "outputs": []
    },
    {
      "metadata": {
        "id": "NoQTkfyEsHvi",
        "colab_type": "code",
        "colab": {}
      },
      "cell_type": "code",
      "source": [
        "import nltk\n",
        "import pandas as pd"
      ],
      "execution_count": 0,
      "outputs": []
    },
    {
      "metadata": {
        "id": "p3ERnzrZebr1",
        "colab_type": "code",
        "outputId": "c11f1823-359e-4ae8-f0a2-79049fbf75b5",
        "colab": {
          "base_uri": "https://localhost:8080/",
          "height": 68
        }
      },
      "cell_type": "code",
      "source": [
        "nltk.download('stopwords')"
      ],
      "execution_count": 0,
      "outputs": [
        {
          "output_type": "stream",
          "text": [
            "[nltk_data] Downloading package stopwords to /root/nltk_data...\n",
            "[nltk_data]   Package stopwords is already up-to-date!\n"
          ],
          "name": "stdout"
        },
        {
          "output_type": "execute_result",
          "data": {
            "text/plain": [
              "True"
            ]
          },
          "metadata": {
            "tags": []
          },
          "execution_count": 6
        }
      ]
    },
    {
      "metadata": {
        "id": "TO1jFyK7aaOp",
        "colab_type": "code",
        "colab": {}
      },
      "cell_type": "code",
      "source": [
        "df = pd.DataFrame()"
      ],
      "execution_count": 0,
      "outputs": []
    },
    {
      "metadata": {
        "id": "963ybMP14sGs",
        "colab_type": "code",
        "colab": {}
      },
      "cell_type": "code",
      "source": [
        "# Функция для чтения датасета\n",
        "\n",
        "def read_files(path):\n",
        "    files = []\n",
        "    for i in os.listdir(path):\n",
        "        if \"txt\" in i:\n",
        "            files.append(i)\n",
        "    texts = []\n",
        "    for i in files:\n",
        "        with open(path+\"/\"+i, \"r\") as f:\n",
        "            text = \"\"\n",
        "            for line in f.readlines():\n",
        "                if line.strip():\n",
        "                    text += line + \"\\n\"\n",
        "            texts.append(text)\n",
        "    return texts "
      ],
      "execution_count": 0,
      "outputs": []
    },
    {
      "metadata": {
        "id": "RW_UaxlDzqQ1",
        "colab_type": "code",
        "colab": {}
      },
      "cell_type": "code",
      "source": [
        "data = read_files('files')\n",
        "df['raw_texts'] = data"
      ],
      "execution_count": 0,
      "outputs": []
    },
    {
      "metadata": {
        "id": "SiVIuOFWz8Xj",
        "colab_type": "code",
        "colab": {}
      },
      "cell_type": "code",
      "source": [
        "def find_main_part(text): \n",
        "    lines = [line for line in text.split('\\n')]\n",
        "    beg, end = 0, 0 \n",
        "    for num, line in enumerate(lines): \n",
        "      # lines[num] = re.sub(r'\\\\[a-z]+', '', line)\n",
        "      if 'установил' in line.lower() or 'у с т а н о в и л' in line.lower(): \n",
        "        beg = num + 1\n",
        "      if 'приговорил' in line.lower() or 'п р и г о в о р и л' in line.lower(): \n",
        "        end = num + 2\n",
        "      if beg and end: \n",
        "          main_part = [stroka.strip() for stroka in lines[beg:end]]\n",
        "          return ' '.join(main_part)"
      ],
      "execution_count": 0,
      "outputs": []
    },
    {
      "metadata": {
        "id": "goTwFSEWx-2b",
        "colab_type": "code",
        "colab": {}
      },
      "cell_type": "code",
      "source": [
        "df['raw_main_part'] = df['raw_texts'].apply(find_main_part)"
      ],
      "execution_count": 0,
      "outputs": []
    },
    {
      "metadata": {
        "id": "eT-GnFex4xnM",
        "colab_type": "code",
        "outputId": "c3d2612a-3ac7-471f-d2c1-fe8f57b40285",
        "colab": {
          "base_uri": "https://localhost:8080/",
          "height": 289
        }
      },
      "cell_type": "code",
      "source": [
        "# Функция для очистки датасета от стоп-слов\n",
        "from string import punctuation\n",
        "from nltk.corpus import stopwords\n",
        "from pymorphy2 import MorphAnalyzer\n",
        "morph = MorphAnalyzer()\n",
        "punct = punctuation+'«»—…“”*№–'\n",
        "stops = set(stopwords.words('russian'))\n",
        "\n",
        "def normalize(text):\n",
        "    if text:\n",
        "      words = [word.strip(punct) for word in text.lower().split()] \n",
        "      words = [word for word in words if word and word not in stops]\n",
        "      words = [morph.parse(word)[0].normal_form for word in words if word and word not in stops]\n",
        "\n",
        "      return words\n",
        "\n",
        "normalize(\"Господи, почему я такая тупая и не нахожу в себе силы даже написать поганые регулярки, пока более успешные коллеги уже сдают статью в середине апреля.\")"
      ],
      "execution_count": 0,
      "outputs": [
        {
          "output_type": "execute_result",
          "data": {
            "text/plain": [
              "['господь',\n",
              " 'почему',\n",
              " 'такой',\n",
              " 'тупой',\n",
              " 'находить',\n",
              " 'сила',\n",
              " 'написать',\n",
              " 'поганый',\n",
              " 'регулярка',\n",
              " 'пока',\n",
              " 'успешный',\n",
              " 'коллега',\n",
              " 'сдавать',\n",
              " 'статья',\n",
              " 'середина',\n",
              " 'апрель']"
            ]
          },
          "metadata": {
            "tags": []
          },
          "execution_count": 11
        }
      ]
    },
    {
      "metadata": {
        "id": "WYePH8pL6us4",
        "colab_type": "code",
        "colab": {}
      },
      "cell_type": "code",
      "source": [
        "def del_tags(text):\n",
        "    pattern = re.compile(r'\\\\[a-z]+')\n",
        "    # new_text = re.sub(pattern, '', text)\n",
        "    # Небольшая правка: привела текст к строке -- иначе выдавало ошибку (Настя)\n",
        "    new_text = re.sub(pattern, '', str(text))\n",
        "    return new_text"
      ],
      "execution_count": 0,
      "outputs": []
    },
    {
      "metadata": {
        "id": "99Ca1pXf7yH-",
        "colab_type": "code",
        "colab": {}
      },
      "cell_type": "code",
      "source": [
        "df['main_part_no_tags'] = df['raw_main_part'].apply(del_tags)"
      ],
      "execution_count": 0,
      "outputs": []
    },
    {
      "metadata": {
        "id": "BUEU3cVyOCgI",
        "colab_type": "code",
        "colab": {}
      },
      "cell_type": "code",
      "source": [
        "df['tokens_main_part'] = df.main_part_no_tags.apply(normalize)"
      ],
      "execution_count": 0,
      "outputs": []
    },
    {
      "metadata": {
        "id": "qG63JseFrcV4",
        "colab_type": "code",
        "outputId": "234a2b87-ce37-4285-bcdd-b9bb016eada3",
        "colab": {
          "base_uri": "https://localhost:8080/",
          "height": 204
        }
      },
      "cell_type": "code",
      "source": [
        "df.head()"
      ],
      "execution_count": 0,
      "outputs": [
        {
          "output_type": "execute_result",
          "data": {
            "text/html": [
              "<div>\n",
              "<style scoped>\n",
              "    .dataframe tbody tr th:only-of-type {\n",
              "        vertical-align: middle;\n",
              "    }\n",
              "\n",
              "    .dataframe tbody tr th {\n",
              "        vertical-align: top;\n",
              "    }\n",
              "\n",
              "    .dataframe thead th {\n",
              "        text-align: right;\n",
              "    }\n",
              "</style>\n",
              "<table border=\"1\" class=\"dataframe\">\n",
              "  <thead>\n",
              "    <tr style=\"text-align: right;\">\n",
              "      <th></th>\n",
              "      <th>raw_texts</th>\n",
              "      <th>raw_main_part</th>\n",
              "      <th>main_part_no_tags</th>\n",
              "      <th>tokens_main_part</th>\n",
              "    </tr>\n",
              "  </thead>\n",
              "  <tbody>\n",
              "    <tr>\n",
              "      <th>0</th>\n",
              "      <td>﻿Дело № 1-37/2012 г.\\n\\nП Р И Г О В О Р\\n\\n\\in...</td>\n",
              "      <td>\\fabb Подсудимый С.Н.Ю. совершил два преступл...</td>\n",
              "      <td>Подсудимый С.Н.Ю. совершил два преступления ...</td>\n",
              "      <td>[подсудимый, с.н.ть, совершить, преступление, ...</td>\n",
              "    </tr>\n",
              "    <tr>\n",
              "      <th>1</th>\n",
              "      <td>﻿Копия\\n\\nДело № 1-141\\n\\nП Р И Г О В О Р\\n\\n\\...</td>\n",
              "      <td>\\fabb Шериева И.Г. незаконно изготовила и хра...</td>\n",
              "      <td>Шериева И.Г. незаконно изготовила и хранила ...</td>\n",
              "      <td>[шериева, и.г, незаконно, изготовить, хранить,...</td>\n",
              "    </tr>\n",
              "    <tr>\n",
              "      <th>2</th>\n",
              "      <td>Уголовное дело №1-504/2012\\n\\nПРИГОВОР\\n\\nИмен...</td>\n",
              "      <td>\\fabb  ФИО1 имея преступный умысел на незакон...</td>\n",
              "      <td>ФИО1 имея преступный умысел на незаконный с...</td>\n",
              "      <td>[фио1, иметь, преступный, умысел, незаконный, ...</td>\n",
              "    </tr>\n",
              "    <tr>\n",
              "      <th>3</th>\n",
              "      <td>Дело № 1-107/2012 ПРИГОВОР Именем Российской Ф...</td>\n",
              "      <td>\\fabb Усатов С.В. содержал притон для потребл...</td>\n",
              "      <td>Усатов С.В. содержал притон для потребления ...</td>\n",
              "      <td>[усат, с.в, содержимый, притон, потребление, н...</td>\n",
              "    </tr>\n",
              "    <tr>\n",
              "      <th>4</th>\n",
              "      <td>К делу № 1-444/10\\n\\nПРИГОВОР\\n\\nИменем Россий...</td>\n",
              "      <td>\\fabb В.Н. Лобиян совершил незаконное изготов...</td>\n",
              "      <td>В.Н. Лобиян совершил незаконное изготовление...</td>\n",
              "      <td>[в.н, лобиян, совершить, незаконный, изготовле...</td>\n",
              "    </tr>\n",
              "  </tbody>\n",
              "</table>\n",
              "</div>"
            ],
            "text/plain": [
              "                                           raw_texts  \\\n",
              "0  ﻿Дело № 1-37/2012 г.\\n\\nП Р И Г О В О Р\\n\\n\\in...   \n",
              "1  ﻿Копия\\n\\nДело № 1-141\\n\\nП Р И Г О В О Р\\n\\n\\...   \n",
              "2  Уголовное дело №1-504/2012\\n\\nПРИГОВОР\\n\\nИмен...   \n",
              "3  Дело № 1-107/2012 ПРИГОВОР Именем Российской Ф...   \n",
              "4  К делу № 1-444/10\\n\\nПРИГОВОР\\n\\nИменем Россий...   \n",
              "\n",
              "                                       raw_main_part  \\\n",
              "0   \\fabb Подсудимый С.Н.Ю. совершил два преступл...   \n",
              "1   \\fabb Шериева И.Г. незаконно изготовила и хра...   \n",
              "2   \\fabb  ФИО1 имея преступный умысел на незакон...   \n",
              "3   \\fabb Усатов С.В. содержал притон для потребл...   \n",
              "4   \\fabb В.Н. Лобиян совершил незаконное изготов...   \n",
              "\n",
              "                                   main_part_no_tags  \\\n",
              "0    Подсудимый С.Н.Ю. совершил два преступления ...   \n",
              "1    Шериева И.Г. незаконно изготовила и хранила ...   \n",
              "2     ФИО1 имея преступный умысел на незаконный с...   \n",
              "3    Усатов С.В. содержал притон для потребления ...   \n",
              "4    В.Н. Лобиян совершил незаконное изготовление...   \n",
              "\n",
              "                                    tokens_main_part  \n",
              "0  [подсудимый, с.н.ть, совершить, преступление, ...  \n",
              "1  [шериева, и.г, незаконно, изготовить, хранить,...  \n",
              "2  [фио1, иметь, преступный, умысел, незаконный, ...  \n",
              "3  [усат, с.в, содержимый, притон, потребление, н...  \n",
              "4  [в.н, лобиян, совершить, незаконный, изготовле...  "
            ]
          },
          "metadata": {
            "tags": []
          },
          "execution_count": 16
        }
      ]
    },
    {
      "metadata": {
        "id": "Oh7SCnKPt_NJ",
        "colab_type": "code",
        "colab": {}
      },
      "cell_type": "code",
      "source": [
        "df = df.dropna()"
      ],
      "execution_count": 0,
      "outputs": []
    },
    {
      "metadata": {
        "id": "kBC5q_NFuCI9",
        "colab_type": "code",
        "outputId": "0c1e9ab2-2023-4efb-b195-c78fff57aece",
        "colab": {
          "base_uri": "https://localhost:8080/",
          "height": 34
        }
      },
      "cell_type": "code",
      "source": [
        "df.shape"
      ],
      "execution_count": 0,
      "outputs": [
        {
          "output_type": "execute_result",
          "data": {
            "text/plain": [
              "(639, 4)"
            ]
          },
          "metadata": {
            "tags": []
          },
          "execution_count": 18
        }
      ]
    },
    {
      "metadata": {
        "id": "Yee7ITc3rg2t",
        "colab_type": "code",
        "colab": {}
      },
      "cell_type": "code",
      "source": [
        "# Чё пацаны нлтк коллокейшнс\n",
        "collocations = pd.DataFrame()"
      ],
      "execution_count": 0,
      "outputs": []
    },
    {
      "metadata": {
        "id": "Iu3mc4uprlWk",
        "colab_type": "code",
        "colab": {}
      },
      "cell_type": "code",
      "source": [
        "from nltk.collocations import *\n",
        "trigram_measures = nltk.collocations.TrigramAssocMeasures()\n",
        "finder3 = TrigramCollocationFinder.from_documents(df.tokens_main_part)"
      ],
      "execution_count": 0,
      "outputs": []
    },
    {
      "metadata": {
        "id": "3rFyfJpbugu0",
        "colab_type": "code",
        "colab": {}
      },
      "cell_type": "code",
      "source": [
        "collocations['raw_freq'] = finder3.nbest(trigram_measures.raw_freq, 20)\n",
        "collocations['poisson_stirling'] = finder3.nbest(trigram_measures.poisson_stirling, 20)\n",
        "collocations['student_t'] = finder3.nbest(trigram_measures.student_t, 20)"
      ],
      "execution_count": 0,
      "outputs": []
    },
    {
      "metadata": {
        "id": "S6YiuUZXBW37",
        "colab_type": "code",
        "outputId": "46adad59-fa43-46c5-8c1d-6925b45c69e3",
        "colab": {
          "base_uri": "https://localhost:8080/",
          "height": 669
        }
      },
      "cell_type": "code",
      "source": [
        "collocations"
      ],
      "execution_count": 0,
      "outputs": [
        {
          "output_type": "execute_result",
          "data": {
            "text/html": [
              "<div>\n",
              "<style scoped>\n",
              "    .dataframe tbody tr th:only-of-type {\n",
              "        vertical-align: middle;\n",
              "    }\n",
              "\n",
              "    .dataframe tbody tr th {\n",
              "        vertical-align: top;\n",
              "    }\n",
              "\n",
              "    .dataframe thead th {\n",
              "        text-align: right;\n",
              "    }\n",
              "</style>\n",
              "<table border=\"1\" class=\"dataframe\">\n",
              "  <thead>\n",
              "    <tr style=\"text-align: right;\">\n",
              "      <th></th>\n",
              "      <th>raw_freq</th>\n",
              "      <th>poisson_stirling</th>\n",
              "      <th>student_t</th>\n",
              "    </tr>\n",
              "  </thead>\n",
              "  <tbody>\n",
              "    <tr>\n",
              "      <th>0</th>\n",
              "      <td>(сбыт, наркотический, средство)</td>\n",
              "      <td>(сбыт, наркотический, средство)</td>\n",
              "      <td>(сбыт, наркотический, средство)</td>\n",
              "    </tr>\n",
              "    <tr>\n",
              "      <th>1</th>\n",
              "      <td>(наркотический, средство, маковый)</td>\n",
              "      <td>(экстракт, маковый, солома)</td>\n",
              "      <td>(наркотический, средство, маковый)</td>\n",
              "    </tr>\n",
              "    <tr>\n",
              "      <th>2</th>\n",
              "      <td>(экстракт, маковый, солома)</td>\n",
              "      <td>(особо, крупный, размер)</td>\n",
              "      <td>(экстракт, маковый, солома)</td>\n",
              "    </tr>\n",
              "    <tr>\n",
              "      <th>3</th>\n",
              "      <td>(средство, маковый, солома)</td>\n",
              "      <td>(средство, маковый, солома)</td>\n",
              "      <td>(средство, маковый, солома)</td>\n",
              "    </tr>\n",
              "    <tr>\n",
              "      <th>4</th>\n",
              "      <td>(потребление, наркотический, средство)</td>\n",
              "      <td>(средство, психотропный, вещество)</td>\n",
              "      <td>(потребление, наркотический, средство)</td>\n",
              "    </tr>\n",
              "    <tr>\n",
              "      <th>5</th>\n",
              "      <td>(наркотический, средство, психотропный)</td>\n",
              "      <td>(потребление, наркотический, средство)</td>\n",
              "      <td>(наркотический, средство, психотропный)</td>\n",
              "    </tr>\n",
              "    <tr>\n",
              "      <th>6</th>\n",
              "      <td>(средство, психотропный, вещество)</td>\n",
              "      <td>(семя, кондитерский, мак)</td>\n",
              "      <td>(средство, психотропный, вещество)</td>\n",
              "    </tr>\n",
              "    <tr>\n",
              "      <th>7</th>\n",
              "      <td>(наркотический, средство, экстракт)</td>\n",
              "      <td>(наркотический, средство, маковый)</td>\n",
              "      <td>(наркотический, средство, экстракт)</td>\n",
              "    </tr>\n",
              "    <tr>\n",
              "      <th>8</th>\n",
              "      <td>(особо, крупный, размер)</td>\n",
              "      <td>(средство, экстракт, маковый)</td>\n",
              "      <td>(особо, крупный, размер)</td>\n",
              "    </tr>\n",
              "    <tr>\n",
              "      <th>9</th>\n",
              "      <td>(средство, экстракт, маковый)</td>\n",
              "      <td>(наркотический, средство, психотропный)</td>\n",
              "      <td>(средство, экстракт, маковый)</td>\n",
              "    </tr>\n",
              "    <tr>\n",
              "      <th>10</th>\n",
              "      <td>(семя, кондитерский, мак)</td>\n",
              "      <td>(степень, общественный, опасность)</td>\n",
              "      <td>(семя, кондитерский, мак)</td>\n",
              "    </tr>\n",
              "    <tr>\n",
              "      <th>11</th>\n",
              "      <td>(цель, сбыт, наркотический)</td>\n",
              "      <td>(наркотический, средство, экстракт)</td>\n",
              "      <td>(цель, сбыт, наркотический)</td>\n",
              "    </tr>\n",
              "    <tr>\n",
              "      <th>12</th>\n",
              "      <td>(незаконный, сбыт, наркотический)</td>\n",
              "      <td>(число, 1, ст)</td>\n",
              "      <td>(незаконный, сбыт, наркотический)</td>\n",
              "    </tr>\n",
              "    <tr>\n",
              "      <th>13</th>\n",
              "      <td>(число, 1, ст)</td>\n",
              "      <td>(цель, сбыт, наркотический)</td>\n",
              "      <td>(число, 1, ст)</td>\n",
              "    </tr>\n",
              "    <tr>\n",
              "      <th>14</th>\n",
              "      <td>(проведение, судебный, разбирательство)</td>\n",
              "      <td>(проведение, судебный, разбирательство)</td>\n",
              "      <td>(проведение, судебный, разбирательство)</td>\n",
              "    </tr>\n",
              "    <tr>\n",
              "      <th>15</th>\n",
              "      <td>(семя, растение, мак)</td>\n",
              "      <td>(незаконный, сбыт, наркотический)</td>\n",
              "      <td>(семя, растение, мак)</td>\n",
              "    </tr>\n",
              "    <tr>\n",
              "      <th>16</th>\n",
              "      <td>(средство, ацетилировать, опий)</td>\n",
              "      <td>(характер, степень, общественный)</td>\n",
              "      <td>(средство, ацетилировать, опий)</td>\n",
              "    </tr>\n",
              "    <tr>\n",
              "      <th>17</th>\n",
              "      <td>(степень, общественный, опасность)</td>\n",
              "      <td>(крупный, особо, крупный)</td>\n",
              "      <td>(степень, общественный, опасность)</td>\n",
              "    </tr>\n",
              "    <tr>\n",
              "      <th>18</th>\n",
              "      <td>(наркотический, средство, ацетилировать)</td>\n",
              "      <td>(средство, ацетилировать, опий)</td>\n",
              "      <td>(наркотический, средство, ацетилировать)</td>\n",
              "    </tr>\n",
              "    <tr>\n",
              "      <th>19</th>\n",
              "      <td>(изготовить, наркотический, средство)</td>\n",
              "      <td>(орм, проверочный, закупка)</td>\n",
              "      <td>(изготовить, наркотический, средство)</td>\n",
              "    </tr>\n",
              "  </tbody>\n",
              "</table>\n",
              "</div>"
            ],
            "text/plain": [
              "                                    raw_freq  \\\n",
              "0            (сбыт, наркотический, средство)   \n",
              "1         (наркотический, средство, маковый)   \n",
              "2                (экстракт, маковый, солома)   \n",
              "3                (средство, маковый, солома)   \n",
              "4     (потребление, наркотический, средство)   \n",
              "5    (наркотический, средство, психотропный)   \n",
              "6         (средство, психотропный, вещество)   \n",
              "7        (наркотический, средство, экстракт)   \n",
              "8                   (особо, крупный, размер)   \n",
              "9              (средство, экстракт, маковый)   \n",
              "10                 (семя, кондитерский, мак)   \n",
              "11               (цель, сбыт, наркотический)   \n",
              "12         (незаконный, сбыт, наркотический)   \n",
              "13                            (число, 1, ст)   \n",
              "14   (проведение, судебный, разбирательство)   \n",
              "15                     (семя, растение, мак)   \n",
              "16           (средство, ацетилировать, опий)   \n",
              "17        (степень, общественный, опасность)   \n",
              "18  (наркотический, средство, ацетилировать)   \n",
              "19     (изготовить, наркотический, средство)   \n",
              "\n",
              "                           poisson_stirling  \\\n",
              "0           (сбыт, наркотический, средство)   \n",
              "1               (экстракт, маковый, солома)   \n",
              "2                  (особо, крупный, размер)   \n",
              "3               (средство, маковый, солома)   \n",
              "4        (средство, психотропный, вещество)   \n",
              "5    (потребление, наркотический, средство)   \n",
              "6                 (семя, кондитерский, мак)   \n",
              "7        (наркотический, средство, маковый)   \n",
              "8             (средство, экстракт, маковый)   \n",
              "9   (наркотический, средство, психотропный)   \n",
              "10       (степень, общественный, опасность)   \n",
              "11      (наркотический, средство, экстракт)   \n",
              "12                           (число, 1, ст)   \n",
              "13              (цель, сбыт, наркотический)   \n",
              "14  (проведение, судебный, разбирательство)   \n",
              "15        (незаконный, сбыт, наркотический)   \n",
              "16        (характер, степень, общественный)   \n",
              "17                (крупный, особо, крупный)   \n",
              "18          (средство, ацетилировать, опий)   \n",
              "19              (орм, проверочный, закупка)   \n",
              "\n",
              "                                   student_t  \n",
              "0            (сбыт, наркотический, средство)  \n",
              "1         (наркотический, средство, маковый)  \n",
              "2                (экстракт, маковый, солома)  \n",
              "3                (средство, маковый, солома)  \n",
              "4     (потребление, наркотический, средство)  \n",
              "5    (наркотический, средство, психотропный)  \n",
              "6         (средство, психотропный, вещество)  \n",
              "7        (наркотический, средство, экстракт)  \n",
              "8                   (особо, крупный, размер)  \n",
              "9              (средство, экстракт, маковый)  \n",
              "10                 (семя, кондитерский, мак)  \n",
              "11               (цель, сбыт, наркотический)  \n",
              "12         (незаконный, сбыт, наркотический)  \n",
              "13                            (число, 1, ст)  \n",
              "14   (проведение, судебный, разбирательство)  \n",
              "15                     (семя, растение, мак)  \n",
              "16           (средство, ацетилировать, опий)  \n",
              "17        (степень, общественный, опасность)  \n",
              "18  (наркотический, средство, ацетилировать)  \n",
              "19     (изготовить, наркотический, средство)  "
            ]
          },
          "metadata": {
            "tags": []
          },
          "execution_count": 22
        }
      ]
    },
    {
      "metadata": {
        "id": "ZwLmHQrJCKVV",
        "colab_type": "code",
        "colab": {}
      },
      "cell_type": "code",
      "source": [
        "from nltk.util import everygrams\n",
        "from collections import Counter\n",
        "\n",
        "all_t = []\n",
        "for text in df.tokens_main_part:\n",
        "  all_t.extend(text)\n"
      ],
      "execution_count": 0,
      "outputs": []
    },
    {
      "metadata": {
        "id": "__fxoTESIeNL",
        "colab_type": "code",
        "outputId": "6b683086-2148-46e5-a3b5-dfe179cad458",
        "colab": {
          "base_uri": "https://localhost:8080/",
          "height": 17017
        }
      },
      "cell_type": "code",
      "source": [
        "colloc_1000 = []\n",
        "for col in Counter(list(everygrams(all_t, min_len=3, max_len=10))).most_common(1000):\n",
        "  print(col)\n",
        "  colloc_1000.append(col[0])"
      ],
      "execution_count": 0,
      "outputs": [
        {
          "output_type": "stream",
          "text": [
            "(('сбыт', 'наркотический', 'средство'), 2997)\n",
            "(('наркотический', 'средство', 'маковый'), 1888)\n",
            "(('экстракт', 'маковый', 'солома'), 1875)\n",
            "(('средство', 'маковый', 'солома'), 1874)\n",
            "(('наркотический', 'средство', 'маковый', 'солома'), 1868)\n",
            "(('потребление', 'наркотический', 'средство'), 1797)\n",
            "(('наркотический', 'средство', 'психотропный'), 1565)\n",
            "(('средство', 'психотропный', 'вещество'), 1531)\n",
            "(('наркотический', 'средство', 'психотропный', 'вещество'), 1529)\n",
            "(('наркотический', 'средство', 'экстракт'), 1376)\n",
            "(('особо', 'крупный', 'размер'), 1370)\n",
            "(('средство', 'экстракт', 'маковый'), 1345)\n",
            "(('наркотический', 'средство', 'экстракт', 'маковый'), 1340)\n",
            "(('средство', 'экстракт', 'маковый', 'солома'), 1333)\n",
            "(('наркотический', 'средство', 'экстракт', 'маковый', 'солома'), 1328)\n",
            "(('семя', 'кондитерский', 'мак'), 1324)\n",
            "(('цель', 'сбыт', 'наркотический'), 1241)\n",
            "(('цель', 'сбыт', 'наркотический', 'средство'), 1236)\n",
            "(('незаконный', 'сбыт', 'наркотический'), 1190)\n",
            "(('незаконный', 'сбыт', 'наркотический', 'средство'), 1180)\n",
            "(('число', '1', 'ст'), 1018)\n",
            "(('проведение', 'судебный', 'разбирательство'), 915)\n",
            "(('семя', 'растение', 'мак'), 896)\n",
            "(('средство', 'ацетилировать', 'опий'), 852)\n",
            "(('степень', 'общественный', 'опасность'), 848)\n",
            "(('наркотический', 'средство', 'ацетилировать'), 847)\n",
            "(('наркотический', 'средство', 'ацетилировать', 'опий'), 846)\n",
            "(('изготовить', 'наркотический', 'средство'), 842)\n",
            "(('маковый', 'солома', 'масса'), 825)\n",
            "(('являться', 'наркотический', 'средство'), 822)\n",
            "(('притон', 'потребление', 'наркотический'), 801)\n",
            "(('притон', 'потребление', 'наркотический', 'средство'), 798)\n",
            "(('крупный', 'особо', 'крупный'), 795)\n",
            "(('крупный', 'особо', 'крупный', 'размер'), 792)\n",
            "(('изготовление', 'наркотический', 'средство'), 784)\n",
            "(('наркотический', 'средство', 'крупный'), 763)\n",
            "(('хранение', 'цель', 'сбыт'), 762)\n",
            "(('употребление', 'наркотический', 'средство'), 758)\n",
            "(('средство', 'крупный', 'размер'), 755)\n",
            "(('наркотический', 'средство', 'крупный', 'размер'), 755)\n",
            "(('содержимый', 'наркотический', 'средство'), 749)\n",
            "(('орм', 'проверочный', 'закупка'), 749)\n",
            "(('приговор', 'проведение', 'судебный'), 740)\n",
            "(('мероприятие', 'проверочный', 'закупка'), 740)\n",
            "(('приговор', 'проведение', 'судебный', 'разбирательство'), 736)\n",
            "(('хранение', 'цель', 'сбыт', 'наркотический'), 731)\n",
            "(('хранение', 'цель', 'сбыт', 'наркотический', 'средство'), 730)\n",
            "(('постановление', 'правительство', 'рф'), 713)\n",
            "(('228', 'ук', 'рф'), 710)\n",
            "(('осмотр', 'место', 'происшествие'), 689)\n",
            "(('характер', 'степень', 'общественный'), 686)\n",
            "(('характер', 'степень', 'общественный', 'опасность'), 686)\n",
            "(('постановление', 'приговор', 'проведение'), 654)\n",
            "(('постановление', 'приговор', 'проведение', 'судебный'), 654)\n",
            "(('постановление', 'приговор', 'проведение', 'судебный', 'разбирательство'), 651)\n",
            "(('размер', 'наркотический', 'средство'), 649)\n",
            "(('употреблять', 'наркотический', 'средство'), 637)\n",
            "(('кондитерский', 'мак', 'растворитель'), 627)\n",
            "(('упк', 'рф', 'суд'), 619)\n",
            "(('ст', '228', 'ук'), 618)\n",
            "(('ст', '228', 'ук', 'рф'), 618)\n",
            "(('содержание', 'притон', 'потребление'), 617)\n",
            "(('проведение', 'оперативно-розыскной', 'мероприятие'), 611)\n",
            "(('крупный', 'размер', 'наркотический'), 608)\n",
            "(('содержание', 'притон', 'потребление', 'наркотический'), 608)\n",
            "(('сбыт', 'наркотический', 'средство', 'крупный'), 607)\n",
            "(('содержание', 'притон', 'потребление', 'наркотический', 'средство'), 605)\n",
            "(('крупный', 'размер', 'наркотический', 'средство'), 604)\n",
            "(('оперативно-розыскной', 'мероприятие', 'проверочный'), 603)\n",
            "(('сбыт', 'наркотический', 'средство', 'крупный', 'размер'), 603)\n",
            "(('оперативно-розыскной', 'мероприятие', 'проверочный', 'закупка'), 601)\n",
            "(('денежный', 'средство', 'сумма'), 588)\n",
            "(('незаконный', 'изготовление', 'хранение'), 578)\n",
            "(('особо', 'крупный', 'размер', 'наркотический'), 578)\n",
            "(('пакет', 'семя', 'мак'), 575)\n",
            "(('особо', 'крупный', 'размер', 'наркотический', 'средство'), 575)\n",
            "(('ук', 'рф', 'суд'), 564)\n",
            "(('обстоятельство', 'смягчающий', 'наказание'), 559)\n",
            "(('крупный', 'особо', 'крупный', 'размер', 'наркотический'), 549)\n",
            "(('наркотический', 'средство', 'который'), 546)\n",
            "(('дд.мм.гггга', 'согласно', 'который'), 546)\n",
            "(('крупный', 'особо', 'крупный', 'размер', 'наркотический', 'средство'), 546)\n",
            "(('размер', 'наркотический', 'средство', 'психотропный'), 545)\n",
            "(('размер', 'наркотический', 'средство', 'психотропный', 'вещество'), 543)\n",
            "(('крупный', 'размер', 'наркотический', 'средство', 'психотропный'), 539)\n",
            "(('крупный', 'размер', 'наркотический', 'средство', 'психотропный', 'вещество'), 537)\n",
            "(('особо', 'крупный', 'размер', 'наркотический', 'средство', 'психотропный'), 536)\n",
            "(('крупный', 'особо', 'крупный', 'размер', 'наркотический', 'средство', 'психотропный'), 535)\n",
            "(('группа', 'лицо', 'предварительный'), 534)\n",
            "(('особо', 'крупный', 'размер', 'наркотический', 'средство', 'психотропный', 'вещество'), 534)\n",
            "(('лицо', 'предварительный', 'сговор'), 533)\n",
            "(('группа', 'лицо', 'предварительный', 'сговор'), 533)\n",
            "(('крупный', 'особо', 'крупный', 'размер', 'наркотический', 'средство', 'психотропный', 'вещество'), 533)\n",
            "(('часы', '30', 'минута'), 530)\n",
            "(('семя', 'кондитерский', 'мак', 'растворитель'), 528)\n",
            "(('дать', 'изъять', 'рубль'), 526)\n",
            "(('психотропный', 'вещество', 'цель'), 517)\n",
            "(('средство', 'психотропный', 'вещество', 'цель'), 514)\n",
            "(('наркотический', 'средство', 'психотропный', 'вещество', 'цель'), 514)\n",
            "(('путём', 'внутривенный', 'инъекция'), 513)\n",
            "(('мро', 'уфскна', 'рф'), 496)\n",
            "(('цель', 'сбыт', 'наркотический', 'средство', 'крупный'), 494)\n",
            "(('цель', 'сбыт', 'наркотический', 'средство', 'крупный', 'размер'), 492)\n",
            "(('общественный', 'опасность', 'совершенный'), 488)\n",
            "(('вещество', 'растительный', 'происхождение'), 484)\n",
            "(('обстоятельство', 'отягчать', 'наказание'), 473)\n",
            "(('прозрачный', 'полимерный', 'пакет'), 463)\n",
            "(('дата', 'обезличить', 'год'), 460)\n",
            "(('основание', 'изложить', 'руководствоваться'), 459)\n",
            "(('степень', 'общественный', 'опасность', 'совершенный'), 456)\n",
            "(('закупка', 'наркотический', 'средство'), 455)\n",
            "(('число', '2', 'ст'), 454)\n",
            "(('изготовление', 'хранение', 'цель'), 447)\n",
            "(('вид', 'лишение', 'свобода'), 446)\n",
            "(('ход', 'предварительный', 'следствие'), 446)\n",
            "(('изготовление', 'хранение', 'цель', 'сбыт'), 446)\n",
            "(('изготовление', 'хранение', 'цель', 'сбыт', 'наркотический'), 442)\n",
            "(('год', 'согласно', 'который'), 441)\n",
            "(('изготовление', 'хранение', 'цель', 'сбыт', 'наркотический', 'средство'), 441)\n",
            "(('экстракт', 'маковый', 'солома', 'масса'), 432)\n",
            "(('число', '3', 'ст'), 430)\n",
            "(('покушение', 'незаконный', 'сбыт'), 430)\n",
            "(('кодекс', 'российский', 'федерация'), 430)\n",
            "(('незаконный', 'изготовление', 'хранение', 'цель'), 426)\n",
            "(('учитывать', 'характер', 'степень'), 425)\n",
            "(('незаконный', 'изготовление', 'хранение', 'цель', 'сбыт'), 425)\n",
            "(('учитывать', 'характер', 'степень', 'общественный'), 424)\n",
            "(('учитывать', 'характер', 'степень', 'общественный', 'опасность'), 424)\n",
            "(('вещество', 'цель', 'стать'), 422)\n",
            "(('том', '1', 'л.д'), 421)\n",
            "(('незаконный', 'изготовление', 'хранение', 'цель', 'сбыт', 'наркотический'), 421)\n",
            "(('незаконный', 'изготовление', 'хранение', 'цель', 'сбыт', 'наркотический', 'средство'), 420)\n",
            "(('психотропный', 'вещество', 'цель', 'стать'), 416)\n",
            "(('средство', 'психотропный', 'вещество', 'цель', 'стать'), 415)\n",
            "(('характер', 'степень', 'общественный', 'опасность', 'совершенный'), 415)\n",
            "(('наркотический', 'средство', 'психотропный', 'вещество', 'цель', 'стать'), 415)\n",
            "(('содержимый', 'наркотический', 'средство', 'психотропный'), 412)\n",
            "(('содержимый', 'наркотический', 'средство', 'психотропный', 'вещество'), 412)\n",
            "(('материал', 'уголовный', 'дело'), 411)\n",
            "(('согласно', 'постановление', 'правительство'), 410)\n",
            "(('покушение', 'незаконный', 'сбыт', 'наркотический'), 410)\n",
            "(('заключение', 'эксперт', 'дд.мм.гггга'), 408)\n",
            "(('покушение', 'незаконный', 'сбыт', 'наркотический', 'средство'), 408)\n",
            "(('ук', 'рф', 'незаконный'), 400)\n",
            "(('цель', 'стать', '228'), 399)\n",
            "(('хранение', 'наркотический', 'средство'), 396)\n",
            "(('вещество', 'цель', 'стать', '228'), 396)\n",
            "(('протокол', 'осмотр', 'предмет'), 394)\n",
            "(('психотропный', 'вещество', 'цель', 'стать', '228'), 390)\n",
            "(('средство', 'психотропный', 'вещество', 'цель', 'стать', '228'), 389)\n",
            "(('наркотический', 'средство', 'психотропный', 'вещество', 'цель', 'стать', '228'), 389)\n",
            "(('незаконный', 'приобретение', 'хранение'), 388)\n",
            "(('наказание', 'вид', 'лишение'), 382)\n",
            "(('часы', '00', 'минута'), 380)\n",
            "(('свой', 'преступный', 'умысел'), 379)\n",
            "(('суд', 'приходить', 'вывод'), 379)\n",
            "(('наказание', 'вид', 'лишение', 'свобода'), 370)\n",
            "(('ст.228', 'ук', 'рф'), 367)\n",
            "(('проведение', 'проверочный', 'закупка'), 367)\n",
            "(('316', 'упк', 'рф'), 364)\n",
            "(('оборот', 'наркотический', 'средство'), 364)\n",
            "(('согласно', 'заключение', 'эксперт'), 363)\n",
            "(('влияние', 'назначить', 'наказание'), 362)\n",
            "(('проверочный', 'закупка', 'наркотический'), 355)\n",
            "(('утверждение', 'крупный', 'особо'), 353)\n",
            "(('утверждение', 'крупный', 'особо', 'крупный'), 353)\n",
            "(('утверждение', 'крупный', 'особо', 'крупный', 'размер'), 353)\n",
            "(('утверждение', 'крупный', 'особо', 'крупный', 'размер', 'наркотический'), 352)\n",
            "(('суд', 'учитывать', 'характер'), 349)\n",
            "(('уголовный', 'кодекс', 'российский'), 349)\n",
            "(('утверждение', 'крупный', 'особо', 'крупный', 'размер', 'наркотический', 'средство'), 349)\n",
            "(('228', '228.1', '229'), 348)\n",
            "(('проверочный', 'закупка', 'наркотический', 'средство'), 348)\n",
            "(('утверждение', 'крупный', 'особо', 'крупный', 'размер', 'наркотический', 'средство', 'психотропный'), 347)\n",
            "(('назначить', 'наказание', 'исправление'), 346)\n",
            "(('масса', 'наркотический', 'средство'), 346)\n",
            "(('влияние', 'назначить', 'наказание', 'исправление'), 346)\n",
            "(('уголовный', 'кодекс', 'российский', 'федерация'), 346)\n",
            "(('проведение', 'орм', 'проверочный'), 345)\n",
            "(('проведение', 'орм', 'проверочный', 'закупка'), 345)\n",
            "(('утверждение', 'крупный', 'особо', 'крупный', 'размер', 'наркотический', 'средство', 'психотропный', 'вещество'), 345)\n",
            "(('дело', 'особый', 'порядок'), 342)\n",
            "(('расположить', 'адрес', 'адрес'), 342)\n",
            "(('ход', 'личный', 'досмотр'), 340)\n",
            "(('допросить', 'судебный', 'заседание'), 340)\n",
            "(('согласно', 'постановление', 'правительство', 'рф'), 337)\n",
            "(('средство', 'экстракт', 'маковый', 'солома', 'масса'), 337)\n",
            "(('наркотический', 'средство', 'экстракт', 'маковый', 'солома', 'масса'), 337)\n",
            "(('мак', 'наркотический', 'средство'), 335)\n",
            "(('суд', 'учитывать', 'характер', 'степень'), 335)\n",
            "(('наркотический', 'средство', 'дать'), 334)\n",
            "(('суд', 'учитывать', 'характер', 'степень', 'общественный'), 334)\n",
            "(('суд', 'учитывать', 'характер', 'степень', 'общественный', 'опасность'), 334)\n",
            "(('место', 'свой', 'жительство'), 333)\n",
            "(('1', 'ст', '228'), 329)\n",
            "(('число', '1', 'ст', '228'), 329)\n",
            "(('уфскна', 'рф', 'ск'), 327)\n",
            "(('хранение', 'цель', 'сбыт', 'наркотический', 'средство', 'крупный'), 325)\n",
            "(('хранить', 'цель', 'сбыт'), 324)\n",
            "(('хранение', 'цель', 'сбыт', 'наркотический', 'средство', 'крупный', 'размер'), 324)\n",
            "(('средство', 'маковый', 'солома', 'масса'), 323)\n",
            "(('наркотический', 'средство', 'маковый', 'солома', 'масса'), 322)\n",
            "(('плата', 'р', 'год'), 321)\n",
            "(('р', 'год', 'р'), 321)\n",
            "(('год', 'р', 'литр'), 321)\n",
            "(('плата', 'р', 'год', 'р'), 321)\n",
            "(('р', 'год', 'р', 'литр'), 321)\n",
            "(('плата', 'р', 'год', 'р', 'литр'), 321)\n",
            "(('размер', 'наркотический', 'средство', 'психотропный', 'вещество', 'цель'), 321)\n",
            "(('условие', 'жизнь', 'семья'), 318)\n",
            "(('значительный', 'крупный', 'особо'), 318)\n",
            "(('значительный', 'крупный', 'особо', 'крупный'), 318)\n",
            "(('опасность', 'совершенный', 'преступление'), 317)\n",
            "(('значительный', 'крупный', 'особо', 'крупный', 'размер'), 317)\n",
            "(('крупный', 'размер', 'наркотический', 'средство', 'психотропный', 'вещество', 'цель'), 317)\n",
            "(('особо', 'крупный', 'размер', 'наркотический', 'средство', 'психотропный', 'вещество', 'цель'), 316)\n",
            "(('общественный', 'опасность', 'совершенный', 'преступление'), 315)\n",
            "(('крупный', 'особо', 'крупный', 'размер', 'наркотический', 'средство', 'психотропный', 'вещество', 'цель'), 315)\n",
            "(('оглашенный', 'судебный', 'заседание'), 312)\n",
            "(('изготовление', 'потребление', 'наркотический'), 310)\n",
            "(('примесь', 'наркотический', 'средство'), 309)\n",
            "(('преступный', 'умысел', 'направить'), 308)\n",
            "(('изготовление', 'потребление', 'наркотический', 'средство'), 308)\n",
            "(('суд', 'считать', 'возможный'), 307)\n",
            "(('стать', '228', '228.1'), 307)\n",
            "(('стать', '228', '228.1', '229'), 307)\n",
            "(('наркотический', 'средство', 'марихуана'), 306)\n",
            "(('исследовать', 'судебный', 'заседание'), 306)\n",
            "(('данный', 'наркотический', 'средство'), 304)\n",
            "(('средство', 'дать', 'изъять'), 301)\n",
            "(('цель', 'стать', '228', '228.1'), 301)\n",
            "(('цель', 'стать', '228', '228.1', '229'), 301)\n",
            "(('внутри', 'который', 'находиться'), 300)\n",
            "(('1', 'ст', '228', 'ук'), 300)\n",
            "(('число', '1', 'ст', '228', 'ук'), 300)\n",
            "(('1', 'ст', '228', 'ук', 'рф'), 300)\n",
            "(('число', '1', 'ст', '228', 'ук', 'рф'), 300)\n",
            "(('маковый', 'солома', 'общий'), 299)\n",
            "(('употребить', 'наркотический', 'средство'), 299)\n",
            "(('вещество', 'цель', 'стать', '228', '228.1'), 298)\n",
            "(('вещество', 'цель', 'стать', '228', '228.1', '229'), 298)\n",
            "(('состояние', 'наркотический', 'опьянение'), 296)\n",
            "(('наркотический', 'средство', 'цель'), 293)\n",
            "(('73', 'ук', 'рф'), 293)\n",
            "(('запретить', 'гражданский', 'оборот'), 292)\n",
            "(('психотропный', 'вещество', 'цель', 'стать', '228', '228.1'), 292)\n",
            "(('психотропный', 'вещество', 'цель', 'стать', '228', '228.1', '229'), 292)\n",
            "(('степень', 'общественный', 'опасность', 'совершенный', 'преступление'), 291)\n",
            "(('средство', 'психотропный', 'вещество', 'цель', 'стать', '228', '228.1'), 291)\n",
            "(('наркотический', 'средство', 'психотропный', 'вещество', 'цель', 'стать', '228', '228.1'), 291)\n",
            "(('средство', 'психотропный', 'вещество', 'цель', 'стать', '228', '228.1', '229'), 291)\n",
            "(('наркотический', 'средство', 'психотропный', 'вещество', 'цель', 'стать', '228', '228.1', '229'), 291)\n",
            "(('отдел', 'мвд', 'россия'), 290)\n",
            "(('незаконный', 'оборот', 'наркотический'), 289)\n",
            "(('проведение', 'оперативно-розыскной', 'мероприятие', 'проверочный'), 289)\n",
            "(('магазин', 'дать', 'изъять'), 288)\n",
            "(('проведение', 'оперативно-розыскной', 'мероприятие', 'проверочный', 'закупка'), 288)\n",
            "(('учитывать', 'характер', 'степень', 'общественный', 'опасность', 'совершенный'), 288)\n",
            "(('наказание', 'суд', 'учитывать'), 287)\n",
            "(('суд', 'плата', 'р'), 286)\n",
            "(('полимерный', 'пакет', 'семя'), 286)\n",
            "(('суд', 'плата', 'р', 'год'), 286)\n",
            "(('незаконный', 'оборот', 'наркотический', 'средство'), 286)\n",
            "(('суд', 'плата', 'р', 'год', 'р'), 286)\n",
            "(('суд', 'плата', 'р', 'год', 'р', 'литр'), 286)\n",
            "(('жидкость', 'коричневый', 'цвет'), 283)\n",
            "(('наркотический', 'средство', 'совершенный'), 281)\n",
            "(('утверждение', 'крупный', 'особо', 'крупный', 'размер', 'наркотический', 'средство', 'психотропный', 'вещество', 'цель'), 280)\n",
            "(('рф', 'суд', 'плата'), 274)\n",
            "(('рф', 'суд', 'плата', 'р'), 274)\n",
            "(('рф', 'суд', 'плата', 'р', 'год'), 274)\n",
            "(('рф', 'суд', 'плата', 'р', 'год', 'р'), 274)\n",
            "(('рф', 'суд', 'плата', 'р', 'год', 'р', 'литр'), 274)\n",
            "(('наказание', 'исправление', 'осудить'), 273)\n",
            "(('232', 'ук', 'рф'), 273)\n",
            "(('покупатель', 'наркотический', 'средство'), 272)\n",
            "(('наркотический', 'средство', 'дать', 'изъять'), 272)\n",
            "(('дать', 'ход', 'предварительный'), 270)\n",
            "(('281', 'упк', 'рф'), 265)\n",
            "(('характер', 'степень', 'общественный', 'опасность', 'совершенный', 'преступление'), 265)\n",
            "(('приобрести', 'наркотический', 'средство'), 264)\n",
            "(('суд', 'считать', 'необходимый'), 264)\n",
            "(('размер', 'наркотический', 'средство', 'психотропный', 'вещество', 'цель', 'стать'), 264)\n",
            "(('указанный', 'наркотический', 'средство'), 263)\n",
            "(('довести', 'конец', 'независящий'), 263)\n",
            "(('рф', 'суд', 'приговорить'), 263)\n",
            "(('дд.мм.гггга', 'период', 'время'), 262)\n",
            "(('упк', 'рф', 'суд', 'плата'), 262)\n",
            "(('примесь', 'наркотический', 'средство', 'маковый'), 262)\n",
            "(('упк', 'рф', 'суд', 'плата', 'р'), 262)\n",
            "(('примесь', 'наркотический', 'средство', 'маковый', 'солома'), 262)\n",
            "(('упк', 'рф', 'суд', 'плата', 'р', 'год'), 262)\n",
            "(('упк', 'рф', 'суд', 'плата', 'р', 'год', 'р'), 262)\n",
            "(('упк', 'рф', 'суд', 'плата', 'р', 'год', 'р', 'литр'), 262)\n",
            "(('растение', 'содержимый', 'наркотический'), 261)\n",
            "(('судебный', 'заседание', 'подсудимый'), 261)\n",
            "(('упк', 'рф', 'суд', 'приговорить'), 261)\n",
            "(('крупный', 'размер', 'наркотический', 'средство', 'психотропный', 'вещество', 'цель', 'стать'), 261)\n",
            "(('мро', 'уфскна', 'рф', 'ск'), 260)\n",
            "(('особо', 'крупный', 'размер', 'наркотический', 'средство', 'психотропный', 'вещество', 'цель', 'стать'), 260)\n",
            "(('умысел', 'направить', 'незаконный'), 259)\n",
            "(('семя', 'мак', 'который'), 259)\n",
            "(('крупный', 'особо', 'крупный', 'размер', 'наркотический', 'средство', 'психотропный', 'вещество', 'цель', 'стать'), 259)\n",
            "(('приобретение', 'наркотический', 'средство'), 257)\n",
            "(('наркотический', 'средство', 'значительный'), 257)\n",
            "(('год', 'лишение', 'свобода'), 254)\n",
            "(('незаконно', 'изготовить', 'наркотический'), 254)\n",
            "(('средство', 'значительный', 'размер'), 254)\n",
            "(('наркотический', 'средство', 'значительный', 'размер'), 254)\n",
            "(('назначить', 'наказание', 'исправление', 'осудить'), 253)\n",
            "(('влияние', 'назначить', 'наказание', 'исправление', 'осудить'), 253)\n",
            "(('сумма', 'дать', 'изъять'), 252)\n",
            "(('незаконно', 'изготовить', 'наркотический', 'средство'), 252)\n",
            "(('растение', 'содержимый', 'наркотический', 'средство'), 251)\n",
            "(('размер', 'наркотический', 'средство', 'психотропный', 'вещество', 'цель', 'стать', '228'), 251)\n",
            "(('маковый', 'солома', 'который'), 250)\n",
            "(('протокол', 'осмотр', 'место'), 250)\n",
            "(('полимерный', 'пакет', 'который'), 248)\n",
            "(('протокол', 'осмотр', 'место', 'происшествие'), 248)\n",
            "(('крупный', 'размер', 'наркотический', 'средство', 'психотропный', 'вещество', 'цель', 'стать', '228'), 248)\n",
            "(('особо', 'крупный', 'размер', 'наркотический', 'средство', 'психотропный', 'вещество', 'цель', 'стать', '228'), 247)\n",
            "(('ст', '232', 'ук'), 245)\n",
            "(('пакет', 'который', 'находиться'), 245)\n",
            "(('ст', '232', 'ук', 'рф'), 245)\n",
            "(('маковый', 'солома', 'вес'), 244)\n",
            "(('сбыт', 'наркотический', 'средство', 'совершенный'), 244)\n",
            "(('произвести', 'личный', 'досмотр'), 243)\n",
            "(('дать', 'изъять', 'дать'), 243)\n",
            "(('ст', '316', 'упк'), 242)\n",
            "(('жидкость', 'светло-коричневый', 'цвет'), 242)\n",
            "(('дать', 'изъять', 'минута'), 242)\n",
            "(('ст', '281', 'упк'), 241)\n",
            "(('ст', '281', 'упк', 'рф'), 241)\n",
            "(('чёрный', 'полимерный', 'пакет'), 240)\n",
            "(('ст', '316', 'упк', 'рф'), 240)\n",
            "(('изъять', 'дать', 'изъять'), 238)\n",
            "(('наркотический', 'средство', 'особо'), 235)\n",
            "(('средство', 'особо', 'крупный'), 235)\n",
            "(('наркотический', 'средство', 'особо', 'крупный'), 235)\n",
            "(('суд', 'учитывать', 'характер', 'степень', 'общественный', 'опасность', 'совершенный'), 235)\n",
            "(('след', 'палец', 'рука'), 234)\n",
            "(('средство', 'особо', 'крупный', 'размер'), 233)\n",
            "(('наркотический', 'средство', 'особо', 'крупный', 'размер'), 233)\n",
            "(('приобретение', 'хранение', 'цель'), 231)\n",
            "(('семя', 'мак', 'примесь'), 231)\n",
            "(('приобретение', 'хранение', 'цель', 'сбыт'), 231)\n",
            "(('направить', 'незаконный', 'сбыт'), 230)\n",
            "(('229', 'ук', 'рф'), 229)\n",
            "(('также', 'влияние', 'назначить'), 229)\n",
            "(('предложить', 'добровольно', 'выдать'), 229)\n",
            "(('изготавливать', 'наркотический', 'средство'), 229)\n",
            "(('смесь', 'семя', 'растение'), 229)\n",
            "(('также', 'влияние', 'назначить', 'наказание'), 229)\n",
            "(('ч.1', 'ст.228', 'ук'), 228)\n",
            "(('ч.1', 'ст.228', 'ук', 'рф'), 228)\n",
            "(('мак', 'наркотический', 'средство', 'маковый'), 228)\n",
            "(('изложить', 'руководствоваться', 'ст'), 227)\n",
            "(('незаконный', 'приобретение', 'хранение', 'цель'), 227)\n",
            "(('незаконный', 'приобретение', 'хранение', 'цель', 'сбыт'), 227)\n",
            "(('мак', 'наркотический', 'средство', 'маковый', 'солома'), 227)\n",
            "(('личный', 'потребление', 'цель'), 225)\n",
            "(('наркотический', 'средство', 'каннабис'), 225)\n",
            "(('также', 'влияние', 'назначить', 'наказание', 'исправление'), 225)\n",
            "(('дать', 'изъять', 'часы'), 224)\n",
            "(('протокол', 'медицинский', 'освидетельствование'), 224)\n",
            "(('являться', 'крупный', 'размер'), 222)\n",
            "(('разъяснить', 'право', 'обязанность'), 222)\n",
            "(('основание', 'изложить', 'руководствоваться', 'ст'), 222)\n",
            "(('растение', 'содержимый', 'наркотический', 'средство', 'психотропный'), 222)\n",
            "(('растение', 'содержимый', 'наркотический', 'средство', 'психотропный', 'вещество'), 222)\n",
            "(('сбыт', 'наркотический', 'средство', 'значительный'), 220)\n",
            "(('приобретение', 'хранение', 'цель', 'сбыт', 'наркотический'), 220)\n",
            "(('приобретение', 'хранение', 'цель', 'сбыт', 'наркотический', 'средство'), 220)\n",
            "(('61', 'ук', 'рф'), 219)\n",
            "(('сбыт', 'наркотический', 'средство', 'значительный', 'размер'), 219)\n",
            "(('особый', 'порядок', 'судебный'), 218)\n",
            "(('часы', '20', 'минута'), 217)\n",
            "(('потребление', 'цель', 'сбыт'), 216)\n",
            "(('цель', 'сбыт', 'наркотический', 'средство', 'значительный'), 216)\n",
            "(('цель', 'сбыт', 'наркотический', 'средство', 'значительный', 'размер'), 216)\n",
            "(('незаконный', 'приобретение', 'хранение', 'цель', 'сбыт', 'наркотический'), 216)\n",
            "(('незаконный', 'приобретение', 'хранение', 'цель', 'сбыт', 'наркотический', 'средство'), 216)\n",
            "(('смягчающий', 'отягчать', 'наказание'), 215)\n",
            "(('вещество', 'коричневый', 'цвет'), 214)\n",
            "(('присутствие', 'два', 'понятой'), 214)\n",
            "(('изготовление', 'хранение', 'цель', 'сбыт', 'наркотический', 'средство', 'крупный'), 214)\n",
            "(('смягчающий', 'наказание', 'обстоятельство'), 213)\n",
            "(('дополнительный', 'наказание', 'вид'), 213)\n",
            "(('совершение', 'преступление', 'предусмотренный'), 213)\n",
            "(('дать', 'изъять', 'дать', 'изъять'), 213)\n",
            "(('изготовление', 'хранение', 'цель', 'сбыт', 'наркотический', 'средство', 'крупный', 'размер'), 213)\n",
            "(('228', 'ук', 'рф', 'незаконный'), 212)\n",
            "(('ходатайство', 'постановление', 'приговор'), 211)\n",
            "(('личный', 'потребление', 'цель', 'сбыт'), 211)\n",
            "(('обвинение', 'который', 'согласиться'), 209)\n",
            "(('ход', 'предварительный', 'расследование'), 209)\n",
            "(('средство', 'каннабис', 'марихуана'), 209)\n",
            "(('пакет', 'чёрный', 'цвет'), 209)\n",
            "(('исправление', 'осудить', 'условие'), 208)\n",
            "(('проверочный', 'закупка', 'дд.мм.гггга'), 208)\n",
            "(('наказание', 'исправление', 'осудить', 'условие'), 208)\n",
            "(('осудить', 'условие', 'жизнь'), 207)\n",
            "(('исправление', 'осудить', 'условие', 'жизнь'), 207)\n",
            "(('наркотический', 'средство', 'каннабис', 'марихуана'), 207)\n",
            "(('наказание', 'исправление', 'осудить', 'условие', 'жизнь'), 207)\n",
            "(('принятие', 'судебный', 'решение'), 206)\n",
            "(('оттиск', 'печать', 'пакет'), 206)\n",
            "(('психотропный', 'вещество', 'либо'), 205)\n",
            "(('около', 'дать', 'изъять'), 205)\n",
            "(('согласно', 'который', 'представить'), 205)\n",
            "(('упаковать', 'полимерный', 'пакет'), 205)\n",
            "(('средство', 'психотропный', 'вещество', 'либо'), 205)\n",
            "(('направить', 'незаконный', 'сбыт', 'наркотический'), 205)\n",
            "(('наркотический', 'средство', 'психотропный', 'вещество', 'либо'), 205)\n",
            "(('направить', 'незаконный', 'сбыт', 'наркотический', 'средство'), 205)\n",
            "(('крупный', 'размер', 'растение'), 204)\n",
            "(('порядок', 'судебный', 'разбирательство'), 204)\n",
            "(('раствор', 'наркотический', 'средство'), 204)\n",
            "(('особый', 'порядок', 'судебный', 'разбирательство'), 204)\n",
            "(('незаконный', 'изготовление', 'хранение', 'цель', 'сбыт', 'наркотический', 'средство', 'крупный'), 204)\n",
            "(('незаконный', 'изготовление', 'хранение', 'цель', 'сбыт', 'наркотический', 'средство', 'крупный', 'размер'), 204)\n",
            "(('размер', 'растение', 'содержимый'), 203)\n",
            "(('осознать', 'характер', 'последствие'), 203)\n",
            "(('психотропный', 'вещество', 'прекурсор'), 203)\n",
            "(('крупный', 'размер', 'растение', 'содержимый'), 203)\n",
            "(('размер', 'растение', 'содержимый', 'наркотический'), 203)\n",
            "(('316', 'упк', 'рф', 'суд'), 203)\n",
            "(('крупный', 'размер', 'растение', 'содержимый', 'наркотический'), 203)\n",
            "(('228.1', 'ук', 'рф'), 202)\n",
            "(('содержимый', 'наркотический', 'средство', 'психотропный', 'вещество', 'либо'), 202)\n",
            "(('растение', 'содержимый', 'наркотический', 'средство', 'психотропный', 'вещество', 'либо'), 202)\n",
            "(('изъять', 'наркотический', 'средство'), 201)\n",
            "(('часы', '40', 'минута'), 201)\n",
            "(('назначение', 'наказание', 'суд'), 200)\n",
            "(('растение', 'род', 'мак'), 200)\n",
            "(('особо', 'крупный', 'размер', 'растение'), 200)\n",
            "(('размер', 'растение', 'содержимый', 'наркотический', 'средство'), 200)\n",
            "(('крупный', 'размер', 'растение', 'содержимый', 'наркотический', 'средство'), 200)\n",
            "(('средство', 'психотропный', 'вещество', 'прекурсор'), 199)\n",
            "(('особо', 'крупный', 'размер', 'растение', 'содержимый'), 199)\n",
            "(('особо', 'крупный', 'размер', 'растение', 'содержимый', 'наркотический'), 199)\n",
            "(('часы', '50', 'минута'), 198)\n",
            "(('назначить', 'наказание', 'исправление', 'осудить', 'условие'), 198)\n",
            "(('наркотический', 'средство', 'психотропный', 'вещество', 'прекурсор'), 198)\n",
            "(('влияние', 'назначить', 'наказание', 'исправление', 'осудить', 'условие'), 198)\n",
            "(('назначить', 'наказание', 'исправление', 'осудить', 'условие', 'жизнь'), 198)\n",
            "(('влияние', 'назначить', 'наказание', 'исправление', 'осудить', 'условие', 'жизнь'), 198)\n",
            "(('место', 'жительство', 'характеризоваться'), 197)\n",
            "(('прекурсор', 'подлежащее', 'контроль'), 197)\n",
            "(('особо', 'крупный', 'размер', 'растение', 'содержимый', 'наркотический', 'средство'), 197)\n",
            "(('крупный', 'особо', 'крупный', 'размер', 'растение'), 196)\n",
            "(('крупный', 'особо', 'крупный', 'размер', 'растение', 'содержимый'), 196)\n",
            "(('крупный', 'особо', 'крупный', 'размер', 'растение', 'содержимый', 'наркотический'), 196)\n",
            "(('который', 'согласиться', 'подсудимый'), 195)\n",
            "(('присутствие', 'пригласить', 'гражданин'), 195)\n",
            "(('размер', 'растение', 'содержимый', 'наркотический', 'средство', 'психотропный'), 195)\n",
            "(('крупный', 'размер', 'растение', 'содержимый', 'наркотический', 'средство', 'психотропный'), 195)\n",
            "(('размер', 'растение', 'содержимый', 'наркотический', 'средство', 'психотропный', 'вещество'), 195)\n",
            "(('крупный', 'размер', 'растение', 'содержимый', 'наркотический', 'средство', 'психотропный', 'вещество'), 195)\n",
            "(('вещество', 'либо', 'часть'), 194)\n",
            "(('часть', 'содержимый', 'наркотический'), 194)\n",
            "(('обстоятельство', 'смягчающий', 'отягчать'), 194)\n",
            "(('правительство', 'российский', 'федерация'), 194)\n",
            "(('психотропный', 'вещество', 'либо', 'часть'), 194)\n",
            "(('средство', 'психотропный', 'вещество', 'либо', 'часть'), 194)\n",
            "(('наркотический', 'средство', 'психотропный', 'вещество', 'либо', 'часть'), 194)\n",
            "(('крупный', 'особо', 'крупный', 'размер', 'растение', 'содержимый', 'наркотический', 'средство'), 194)\n",
            "(('особо', 'крупный', 'размер', 'растение', 'содержимый', 'наркотический', 'средство', 'психотропный'), 194)\n",
            "(('крупный', 'особо', 'крупный', 'размер', 'растение', 'содержимый', 'наркотический', 'средство', 'психотропный'), 194)\n",
            "(('особо', 'крупный', 'размер', 'растение', 'содержимый', 'наркотический', 'средство', 'психотропный', 'вещество'), 194)\n",
            "(('крупный', 'особо', 'крупный', 'размер', 'растение', 'содержимый', 'наркотический', 'средство', 'психотропный', 'вещество'), 194)\n",
            "(('либо', 'часть', 'содержимый'), 193)\n",
            "(('перечень', 'наркотический', 'средство'), 193)\n",
            "(('судебный', 'заседание', 'свидетель'), 193)\n",
            "(('который', 'представить', 'исследование'), 193)\n",
            "(('часть', 'содержимый', 'наркотический', 'средство'), 193)\n",
            "(('ст', '61', 'ук'), 192)\n",
            "(('вещество', 'прекурсор', 'подлежащее'), 192)\n",
            "(('наказание', 'вид', 'штраф'), 192)\n",
            "(('содержимый', 'свой', 'состав'), 192)\n",
            "(('вещество', 'либо', 'часть', 'содержимый'), 192)\n",
            "(('либо', 'часть', 'содержимый', 'наркотический'), 192)\n",
            "(('ст', '61', 'ук', 'рф'), 192)\n",
            "(('вещество', 'прекурсор', 'подлежащее', 'контроль'), 192)\n",
            "(('свой', 'преступный', 'умысел', 'направить'), 192)\n",
            "(('обстоятельство', 'смягчающий', 'отягчать', 'наказание'), 192)\n",
            "(('психотропный', 'вещество', 'либо', 'часть', 'содержимый'), 192)\n",
            "(('вещество', 'либо', 'часть', 'содержимый', 'наркотический'), 192)\n",
            "(('средство', 'психотропный', 'вещество', 'либо', 'часть', 'содержимый'), 192)\n",
            "(('психотропный', 'вещество', 'либо', 'часть', 'содержимый', 'наркотический'), 192)\n",
            "(('наркотический', 'средство', 'психотропный', 'вещество', 'либо', 'часть', 'содержимый'), 192)\n",
            "(('средство', 'психотропный', 'вещество', 'либо', 'часть', 'содержимый', 'наркотический'), 192)\n",
            "(('наркотический', 'средство', 'психотропный', 'вещество', 'либо', 'часть', 'содержимый', 'наркотический'), 192)\n",
            "(('употребить', 'путём', 'внутривенный'), 191)\n",
            "(('преступление', 'предусмотренный', 'число'), 191)\n",
            "(('осудить', 'условие', 'жизнь', 'семья'), 191)\n",
            "(('психотропный', 'вещество', 'прекурсор', 'подлежащее'), 191)\n",
            "(('либо', 'часть', 'содержимый', 'наркотический', 'средство'), 191)\n",
            "(('исправление', 'осудить', 'условие', 'жизнь', 'семья'), 191)\n",
            "(('психотропный', 'вещество', 'прекурсор', 'подлежащее', 'контроль'), 191)\n",
            "(('вещество', 'либо', 'часть', 'содержимый', 'наркотический', 'средство'), 191)\n",
            "(('наказание', 'исправление', 'осудить', 'условие', 'жизнь', 'семья'), 191)\n",
            "(('содержимый', 'наркотический', 'средство', 'психотропный', 'вещество', 'либо', 'часть'), 191)\n",
            "(('психотропный', 'вещество', 'либо', 'часть', 'содержимый', 'наркотический', 'средство'), 191)\n",
            "(('растение', 'содержимый', 'наркотический', 'средство', 'психотропный', 'вещество', 'либо', 'часть'), 191)\n",
            "(('средство', 'психотропный', 'вещество', 'либо', 'часть', 'содержимый', 'наркотический', 'средство'), 191)\n",
            "(('наркотический', 'средство', 'психотропный', 'вещество', 'либо', 'часть', 'содержимый', 'наркотический', 'средство'), 191)\n",
            "(('утвердить', 'постановление', 'правительство'), 190)\n",
            "(('перечень', 'наркотический', 'средство', 'психотропный'), 190)\n",
            "(('часть', 'содержимый', 'наркотический', 'средство', 'психотропный'), 190)\n",
            "(('перечень', 'наркотический', 'средство', 'психотропный', 'вещество'), 190)\n",
            "(('либо', 'часть', 'содержимый', 'наркотический', 'средство', 'психотропный'), 190)\n",
            "(('часть', 'содержимый', 'наркотический', 'средство', 'психотропный', 'вещество'), 190)\n",
            "(('вещество', 'либо', 'часть', 'содержимый', 'наркотический', 'средство', 'психотропный'), 190)\n",
            "(('либо', 'часть', 'содержимый', 'наркотический', 'средство', 'психотропный', 'вещество'), 190)\n",
            "(('психотропный', 'вещество', 'либо', 'часть', 'содержимый', 'наркотический', 'средство', 'психотропный'), 190)\n",
            "(('вещество', 'либо', 'часть', 'содержимый', 'наркотический', 'средство', 'психотропный', 'вещество'), 190)\n",
            "(('средство', 'психотропный', 'вещество', 'либо', 'часть', 'содержимый', 'наркотический', 'средство', 'психотропный'), 190)\n",
            "(('психотропный', 'вещество', 'либо', 'часть', 'содержимый', 'наркотический', 'средство', 'психотропный', 'вещество'), 190)\n",
            "(('наркотический', 'средство', 'психотропный', 'вещество', 'либо', 'часть', 'содержимый', 'наркотический', 'средство', 'психотропный'), 190)\n",
            "(('средство', 'психотропный', 'вещество', 'либо', 'часть', 'содержимый', 'наркотический', 'средство', 'психотропный', 'вещество'), 190)\n",
            "(('судебный', 'заседание', 'показать'), 189)\n",
            "(('содержимый', 'наркотический', 'средство', 'психотропный', 'вещество', 'либо', 'часть', 'содержимый'), 189)\n",
            "(('растение', 'содержимый', 'наркотический', 'средство', 'психотропный', 'вещество', 'либо', 'часть', 'содержимый'), 189)\n",
            "(('содержимый', 'наркотический', 'средство', 'психотропный', 'вещество', 'либо', 'часть', 'содержимый', 'наркотический'), 189)\n",
            "(('растение', 'содержимый', 'наркотический', 'средство', 'психотропный', 'вещество', 'либо', 'часть', 'содержимый', 'наркотический'), 189)\n",
            "(('одноразовый', 'медицинский', 'шприц'), 188)\n",
            "(('дать', 'изъять', 'грамм'), 188)\n",
            "(('содержимый', 'наркотический', 'средство', 'психотропный', 'вещество', 'либо', 'часть', 'содержимый', 'наркотический', 'средство'), 188)\n",
            "(('15', 'ук', 'рф'), 187)\n",
            "(('постановление', 'правительство', 'российский'), 187)\n",
            "(('изготовить', 'наркотический', 'средство', 'экстракт'), 187)\n",
            "(('постановление', 'правительство', 'российский', 'федерация'), 187)\n",
            "(('сумма', 'дать', 'изъять', 'рубль'), 187)\n",
            "(('средство', 'психотропный', 'вещество', 'прекурсор', 'подлежащее'), 187)\n",
            "(('средство', 'психотропный', 'вещество', 'прекурсор', 'подлежащее', 'контроль'), 187)\n",
            "(('семя', 'растение', 'род'), 186)\n",
            "(('часы', 'дать', 'изъять'), 186)\n",
            "(('употребить', 'путём', 'внутривенный', 'инъекция'), 186)\n",
            "(('содержимый', 'наркотический', 'средство', 'психотропный', 'вещество', 'цель'), 186)\n",
            "(('наркотический', 'средство', 'психотропный', 'вещество', 'прекурсор', 'подлежащее'), 186)\n",
            "(('наркотический', 'средство', 'психотропный', 'вещество', 'прекурсор', 'подлежащее', 'контроль'), 186)\n",
            "(('учитывать', 'характер', 'степень', 'общественный', 'опасность', 'совершенный', 'преступление'), 186)\n",
            "(('изготовить', 'наркотический', 'средство', 'экстракт', 'маковый'), 185)\n",
            "(('перечень', 'наркотический', 'средство', 'психотропный', 'вещество', 'прекурсор'), 185)\n",
            "(('домовладение', 'расположить', 'адрес'), 184)\n",
            "(('изготовить', 'наркотический', 'средство', 'экстракт', 'маковый', 'солома'), 184)\n",
            "(('ход', 'осмотр', 'место'), 183)\n",
            "(('семя', 'растение', 'род', 'мак'), 183)\n",
            "(('психотропный', 'вещество', 'также'), 182)\n",
            "(('строгий', 'вид', 'наказание'), 182)\n",
            "(('дать', 'личность', 'подсудимый'), 182)\n",
            "(('реализовать', 'свой', 'преступный'), 182)\n",
            "(('изъять', 'часы', 'дать'), 182)\n",
            "(('дать', 'изъять', 'часы', 'дать'), 182)\n",
            "(('изъять', 'часы', 'дать', 'изъять'), 182)\n",
            "(('часы', 'дать', 'изъять', 'минута'), 182)\n",
            "(('ст', '228', 'ук', 'рф', 'незаконный'), 182)\n",
            "(('дать', 'изъять', 'часы', 'дать', 'изъять'), 182)\n",
            "(('изъять', 'часы', 'дать', 'изъять', 'минута'), 182)\n",
            "(('дать', 'изъять', 'часы', 'дать', 'изъять', 'минута'), 182)\n",
            "(('назначить', 'наказание', 'исправление', 'осудить', 'условие', 'жизнь', 'семья'), 182)\n",
            "(('влияние', 'назначить', 'наказание', 'исправление', 'осудить', 'условие', 'жизнь', 'семья'), 182)\n",
            "(('добровольно', 'консультация', 'защитник'), 181)\n",
            "(('рф', 'незаконный', 'изготовление'), 181)\n",
            "(('средство', 'психотропный', 'вещество', 'также'), 181)\n",
            "(('ук', 'рф', 'незаконный', 'изготовление'), 181)\n",
            "(('перечень', 'наркотический', 'средство', 'психотропный', 'вещество', 'прекурсор', 'подлежащее'), 181)\n",
            "(('перечень', 'наркотический', 'средство', 'психотропный', 'вещество', 'прекурсор', 'подлежащее', 'контроль'), 181)\n",
            "(('солома', 'общий', 'масса'), 180)\n",
            "(('наркотический', 'средство', 'также'), 180)\n",
            "(('ход', 'осмотр', 'место', 'происшествие'), 180)\n",
            "(('наркотический', 'средство', 'психотропный', 'вещество', 'также'), 180)\n",
            "(('особый', 'порядок', 'принятие'), 179)\n",
            "(('примесь', 'маковый', 'солома'), 179)\n",
            "(('обвинение', 'который', 'согласиться', 'подсудимый'), 179)\n",
            "(('маковый', 'солома', 'общий', 'масса'), 179)\n",
            "(('дать', 'изъять', 'который'), 178)\n",
            "(('ходатайство', 'постановление', 'приговор', 'проведение'), 178)\n",
            "(('ходатайство', 'постановление', 'приговор', 'проведение', 'судебный'), 178)\n",
            "(('порядок', 'принятие', 'судебный'), 177)\n",
            "(('3', 'ст', '30'), 177)\n",
            "(('растение', 'мак', 'наркотический'), 177)\n",
            "(('порядок', 'принятие', 'судебный', 'решение'), 177)\n",
            "(('размер', 'наркотический', 'средство', 'психотропный', 'вещество', 'также'), 177)\n",
            "(('ходатайство', 'постановление', 'приговор', 'проведение', 'судебный', 'разбирательство'), 177)\n",
            "(('крупный', 'размер', 'наркотический', 'средство', 'психотропный', 'вещество', 'также'), 177)\n",
            "(('размер', 'растение', 'содержимый', 'наркотический', 'средство', 'психотропный', 'вещество', 'либо'), 177)\n",
            "(('крупный', 'размер', 'растение', 'содержимый', 'наркотический', 'средство', 'психотропный', 'вещество', 'либо'), 177)\n",
            "(('размер', 'растение', 'содержимый', 'наркотический', 'средство', 'психотропный', 'вещество', 'либо', 'часть'), 177)\n",
            "(('крупный', 'размер', 'растение', 'содержимый', 'наркотический', 'средство', 'психотропный', 'вещество', 'либо', 'часть'), 177)\n",
            "(('адрес', 'адрес', 'адрес'), 176)\n",
            "(('характер', 'последствие', 'заявить'), 176)\n",
            "(('дать', 'изъять', 'адрес'), 176)\n",
            "(('число', '3', 'ст', '30'), 176)\n",
            "(('особо', 'крупный', 'размер', 'растение', 'содержимый', 'наркотический', 'средство', 'психотропный', 'вещество', 'либо'), 176)\n",
            "(('наказание', 'также', 'влияние'), 175)\n",
            "(('масса', 'дать', 'изъять'), 175)\n",
            "(('средство', 'цель', 'сбыт'), 175)\n",
            "(('особый', 'порядок', 'принятие', 'судебный'), 175)\n",
            "(('особый', 'порядок', 'принятие', 'судебный', 'решение'), 175)\n",
            "(('особо', 'крупный', 'размер', 'наркотический', 'средство', 'психотропный', 'вещество', 'также'), 175)\n",
            "(('крупный', 'особо', 'крупный', 'размер', 'наркотический', 'средство', 'психотропный', 'вещество', 'также'), 175)\n",
            "(('размер', 'растение', 'содержимый', 'наркотический', 'средство', 'психотропный', 'вещество', 'либо', 'часть', 'содержимый'), 175)\n",
            "(('преступление', 'средний', 'тяжесть'), 174)\n",
            "(('утверждение', 'значительный', 'крупный'), 174)\n",
            "(('сбыт', 'наркотический', 'средство', 'особо'), 174)\n",
            "(('рф', 'незаконный', 'изготовление', 'хранение'), 174)\n",
            "(('утверждение', 'значительный', 'крупный', 'особо'), 174)\n",
            "(('наркотический', 'средство', 'цель', 'сбыт'), 174)\n",
            "(('согласно', 'который', 'представить', 'исследование'), 174)\n",
            "(('сбыт', 'наркотический', 'средство', 'особо', 'крупный'), 174)\n",
            "(('ук', 'рф', 'незаконный', 'изготовление', 'хранение'), 174)\n",
            "(('утверждение', 'значительный', 'крупный', 'особо', 'крупный'), 174)\n",
            "(('утверждение', 'значительный', 'крупный', 'особо', 'крупный', 'размер'), 174)\n",
            "(('реализовать', 'свой', 'преступный', 'умысел'), 173)\n",
            "(('растение', 'мак', 'наркотический', 'средство'), 173)\n",
            "(('иметь', 'умысел', 'незаконный'), 172)\n",
            "(('63', 'ук', 'рф'), 172)\n",
            "(('запретить', 'свободный', 'оборот'), 172)\n",
            "(('семя', 'мак', 'содержимый'), 172)\n",
            "(('преступный', 'умысел', 'направить', 'незаконный'), 172)\n",
            "(('семя', 'растение', 'мак', 'наркотический'), 172)\n",
            "(('сбыт', 'наркотический', 'средство', 'особо', 'крупный', 'размер'), 172)\n",
            "(('вина', 'раскаяние', 'содеять'), 171)\n",
            "(('дать', 'предварительный', 'следствие'), 171)\n",
            "(('хранить', 'цель', 'сбыт', 'наркотический'), 171)\n",
            "(('дать', 'ход', 'предварительный', 'следствие'), 171)\n",
            "(('семя', 'растение', 'мак', 'наркотический', 'средство'), 171)\n",
            "(('последствие', 'заявить', 'ходатайство'), 170)\n",
            "(('изъять', 'незаконный', 'оборот'), 170)\n",
            "(('размер', 'наркотический', 'средство', 'психотропный', 'вещество', 'цель', 'стать', '228', '228.1'), 170)\n",
            "(('размер', 'наркотический', 'средство', 'психотропный', 'вещество', 'цель', 'стать', '228', '228.1', '229'), 170)\n",
            "(('применение', 'особый', 'порядок'), 169)\n",
            "(('изготовление', 'хранение', 'наркотический'), 169)\n",
            "(('провести', 'личный', 'досмотр'), 169)\n",
            "(('ст', '228.1', 'ук'), 169)\n",
            "(('изготовление', 'хранение', 'наркотический', 'средство'), 169)\n",
            "(('хранить', 'цель', 'сбыт', 'наркотический', 'средство'), 169)\n",
            "(('уфскна', 'рф', 'кбр'), 168)\n",
            "(('изготовление', 'цель', 'сбыт'), 168)\n",
            "(('наркотический', 'средство', 'путём'), 168)\n",
            "(('ст', '228.1', 'ук', 'рф'), 168)\n",
            "(('также', 'влияние', 'назначить', 'наказание', 'исправление', 'осудить'), 168)\n",
            "(('значительный', 'крупный', 'особо', 'крупный', 'размер', 'наркотический'), 168)\n",
            "(('значительный', 'крупный', 'особо', 'крупный', 'размер', 'наркотический', 'средство'), 168)\n",
            "(('наркотический', 'средство', 'опийный'), 167)\n",
            "(('утверждение', 'значительный', 'крупный', 'особо', 'крупный', 'размер', 'наркотический'), 167)\n",
            "(('утверждение', 'значительный', 'крупный', 'особо', 'крупный', 'размер', 'наркотический', 'средство'), 167)\n",
            "(('крупный', 'размер', 'наркотический', 'средство', 'психотропный', 'вещество', 'цель', 'стать', '228', '228.1'), 167)\n",
            "(('шприц', 'наркотический', 'средство'), 166)\n",
            "(('часть', 'содержимый', 'наркотический', 'средство', 'психотропный', 'вещество', 'цель'), 166)\n",
            "(('либо', 'часть', 'содержимый', 'наркотический', 'средство', 'психотропный', 'вещество', 'цель'), 166)\n",
            "(('вещество', 'либо', 'часть', 'содержимый', 'наркотический', 'средство', 'психотропный', 'вещество', 'цель'), 166)\n",
            "(('психотропный', 'вещество', 'либо', 'часть', 'содержимый', 'наркотический', 'средство', 'психотропный', 'вещество', 'цель'), 166)\n",
            "(('ст', '15', 'ук'), 165)\n",
            "(('изготовление', 'употребление', 'наркотический'), 165)\n",
            "(('семя', 'мак', 'растворитель'), 165)\n",
            "(('протокол', 'личный', 'досмотр'), 165)\n",
            "(('ст', '15', 'ук', 'рф'), 165)\n",
            "(('изготовление', 'цель', 'сбыт', 'наркотический'), 165)\n",
            "(('часы', '10', 'минута'), 164)\n",
            "(('подтверждаться', 'доказательство', 'собранный'), 164)\n",
            "(('собранный', 'уголовный', 'дело'), 164)\n",
            "(('общественный', 'опасность', 'преступление'), 164)\n",
            "(('конец', 'независящий', 'обстоятельство'), 164)\n",
            "(('преступление', 'довести', 'конец'), 164)\n",
            "(('наказание', 'суд', 'учитывать', 'характер'), 164)\n",
            "(('смесь', 'семя', 'растение', 'мак'), 164)\n",
            "(('изготовление', 'цель', 'сбыт', 'наркотический', 'средство'), 164)\n",
            "(('значительный', 'крупный', 'особо', 'крупный', 'размер', 'наркотический', 'средство', 'психотропный'), 164)\n",
            "(('значительный', 'крупный', 'особо', 'крупный', 'размер', 'наркотический', 'средство', 'психотропный', 'вещество'), 164)\n",
            "(('преступление', 'личность', 'виновный'), 163)\n",
            "(('1', 'ст', '232'), 163)\n",
            "(('ацетилировать', 'опий', 'масса'), 163)\n",
            "(('полимерный', 'пакет', 'опечатать'), 163)\n",
            "(('сооружение', 'участок', 'местность'), 163)\n",
            "(('средство', 'опийный', 'группа'), 163)\n",
            "(('наказание', 'также', 'влияние', 'назначить'), 163)\n",
            "(('наркотический', 'средство', 'опийный', 'группа'), 163)\n",
            "(('наказание', 'также', 'влияние', 'назначить', 'наказание'), 163)\n",
            "(('утверждение', 'значительный', 'крупный', 'особо', 'крупный', 'размер', 'наркотический', 'средство', 'психотропный'), 163)\n",
            "(('утверждение', 'значительный', 'крупный', 'особо', 'крупный', 'размер', 'наркотический', 'средство', 'психотропный', 'вещество'), 163)\n",
            "(('наркотический', 'средство', 'личный'), 162)\n",
            "(('семя', 'растительный', 'происхождение'), 162)\n",
            "(('число', '1', 'ст', '232'), 162)\n",
            "(('растение', 'мак', 'наркотический', 'средство', 'маковый'), 162)\n",
            "(('растение', 'мак', 'наркотический', 'средство', 'маковый', 'солома'), 162)\n",
            "(('наркотический', 'средство', 'дд.мм.гггга'), 161)\n",
            "(('ст.281', 'упк', 'рф'), 161)\n",
            "(('масса', 'сухой', 'остаток'), 161)\n",
            "(('ук', 'рф', 'признак'), 161)\n",
            "(('ход', 'судебный', 'разбирательство'), 161)\n",
            "(('сбыт', 'наркотический', 'средство', 'маковый'), 161)\n",
            "(('заявить', 'добровольно', 'консультация'), 160)\n",
            "(('наркотический', 'средство', 'изъять'), 160)\n",
            "(('ст.228.1', 'ук', 'рф'), 160)\n",
            "(('наказание', 'суд', 'учитывать', 'характер', 'степень'), 160)\n",
            "(('рф', 'незаконный', 'изготовление', 'хранение', 'цель'), 160)\n",
            "(('сбыт', 'наркотический', 'средство', 'маковый', 'солома'), 160)\n",
            "(('наказание', 'также', 'влияние', 'назначить', 'наказание', 'исправление'), 160)\n",
            "(('ук', 'рф', 'незаконный', 'изготовление', 'хранение', 'цель'), 160)\n",
            "(('рф', 'незаконный', 'изготовление', 'хранение', 'цель', 'сбыт'), 160)\n",
            "(('семя', 'растение', 'мак', 'наркотический', 'средство', 'маковый'), 160)\n",
            "(('ук', 'рф', 'незаконный', 'изготовление', 'хранение', 'цель', 'сбыт'), 160)\n",
            "(('рф', 'незаконный', 'изготовление', 'хранение', 'цель', 'сбыт', 'наркотический'), 160)\n",
            "(('семя', 'растение', 'мак', 'наркотический', 'средство', 'маковый', 'солома'), 160)\n",
            "(('ук', 'рф', 'незаконный', 'изготовление', 'хранение', 'цель', 'сбыт', 'наркотический'), 160)\n",
            "(('рф', 'незаконный', 'изготовление', 'хранение', 'цель', 'сбыт', 'наркотический', 'средство'), 160)\n",
            "(('ук', 'рф', 'незаконный', 'изготовление', 'хранение', 'цель', 'сбыт', 'наркотический', 'средство'), 160)\n",
            "(('рассмотрение', 'уголовный', 'дело'), 159)\n",
            "(('помещение', 'здание', 'сооружение'), 159)\n",
            "(('смесь', 'семя', 'мак'), 159)\n",
            "(('пакет', 'семя', 'растение'), 159)\n",
            "(('наказание', 'суд', 'учитывать', 'характер', 'степень', 'общественный'), 159)\n",
            "(('наказание', 'суд', 'учитывать', 'характер', 'степень', 'общественный', 'опасность'), 159)\n",
            "(('ук', 'рф', 'покушение'), 158)\n",
            "(('адрес', 'кбр', 'адрес'), 158)\n",
            "(('наркотический', 'средство', 'морфин'), 158)\n",
            "(('незаконно', 'хранить', 'цель'), 158)\n",
            "(('совершение', 'новый', 'преступление'), 157)\n",
            "(('обследование', 'помещение', 'здание'), 157)\n",
            "(('здание', 'сооружение', 'участок'), 157)\n",
            "(('согласно', 'который', 'осмотреть'), 157)\n",
            "(('размер', 'следующий', 'обстоятельство'), 156)\n",
            "(('судебный', 'заседание', 'доказательство'), 156)\n",
            "(('оперативно', 'розыскной', 'мероприятие'), 156)\n",
            "(('ст', '73', 'ук'), 156)\n",
            "(('согласно', 'справка', 'исследование'), 156)\n",
            "(('справка', 'исследование', 'дд.мм.гггга'), 156)\n",
            "(('предусмотренный', 'число', '1'), 156)\n",
            "(('полимерный', 'пакет', 'чёрный'), 156)\n",
            "(('достоинство', '100', 'рубль'), 156)\n",
            "(('ст', '73', 'ук', 'рф'), 156)\n",
            "(('суд', 'учитывать', 'характер', 'степень', 'общественный', 'опасность', 'совершенный', 'преступление'), 156)\n",
            "(('2', 'ст', '228'), 155)\n",
            "(('вид', 'ограничение', 'свобода'), 155)\n",
            "(('ход', 'проведение', 'орм'), 155)\n",
            "(('здание', 'сооружение', 'участок', 'местность'), 155)\n",
            "(('полимерный', 'пакет', 'чёрный', 'цвет'), 155)\n",
            "(('февраль', '2006', 'год'), 154)\n",
            "(('местность', 'транспортный', 'средство'), 154)\n",
            "(('год', 'период', 'время'), 154)\n",
            "(('сотрудник', 'уфскна', 'рф'), 154)\n",
            "(('согласно', 'который', 'дд.мм.гггга'), 154)\n",
            "(('уфскна', 'рф', 'рсо-алания'), 154)\n",
            "(('обследование', 'помещение', 'здание', 'сооружение'), 154)\n",
            "(('участок', 'местность', 'транспортный'), 153)\n",
            "(('добровольно', 'выдать', 'сотрудник'), 153)\n",
            "(('часть', '1', 'статья'), 153)\n",
            "(('участок', 'местность', 'транспортный', 'средство'), 153)\n",
            "(('характер', 'последствие', 'заявить', 'ходатайство'), 153)\n",
            "(('отягчать', 'наказание', 'обстоятельство'), 152)\n",
            "(('ук', 'рф', 'назначение'), 152)\n",
            "(('1', 'ст', '232', 'ук'), 152)\n",
            "(('1', 'ст', '232', 'ук', 'рф'), 152)\n",
            "(('хранение', 'цель', 'сбыт', 'наркотический', 'средство', 'значительный'), 152)\n",
            "(('хранение', 'цель', 'сбыт', 'наркотический', 'средство', 'значительный', 'размер'), 152)\n",
            "(('вид', 'наркотический', 'средство'), 151)\n",
            "(('вышеуказанный', 'наркотический', 'средство'), 151)\n",
            "(('вид', 'наказание', 'предусмотренный'), 151)\n",
            "(('наказание', 'подсудимый', 'суд'), 151)\n",
            "(('экстракт', 'маковый', 'солома', 'который'), 151)\n",
            "(('число', '2', 'ст', '228'), 151)\n",
            "(('сооружение', 'участок', 'местность', 'транспортный'), 151)\n",
            "(('число', '1', 'ст', '232', 'ук'), 151)\n",
            "(('сооружение', 'участок', 'местность', 'транспортный', 'средство'), 151)\n",
            "(('число', '1', 'ст', '232', 'ук', 'рф'), 151)\n",
            "(('ст', '63', 'ук'), 150)\n",
            "(('свой', 'жительство', 'адрес'), 150)\n",
            "(('степень', 'общественный', 'опасность', 'преступление'), 150)\n",
            "(('ст', '63', 'ук', 'рф'), 150)\n",
            "(('место', 'свой', 'жительство', 'адрес'), 150)\n",
            "(('упаковать', 'бумажный', 'конверт'), 149)\n",
            "(('автомобиль', 'дать', 'изъять'), 149)\n",
            "(('предварительный', 'следствие', 'оглашенный'), 149)\n",
            "(('содержимый', 'наркотический', 'средство', 'психотропный', 'вещество', 'цель', 'стать'), 149)\n",
            "(('наиболее', 'строгий', 'вид'), 148)\n",
            "(('отягчать', 'наказание', 'подсудимый'), 148)\n",
            "(('бутылка', 'из-под', 'растворитель'), 148)\n",
            "(('ук', 'рф', 'являться'), 148)\n",
            "(('наиболее', 'строгий', 'вид', 'наказание'), 148)\n",
            "(('2', 'ст', '228', 'ук'), 148)\n",
            "(('средство', 'ацетилировать', 'опий', 'масса'), 148)\n",
            "(('2', 'ст', '228', 'ук', 'рф'), 148)\n",
            "(('мвд', 'россия', 'адрес'), 147)\n",
            "(('реальный', 'лишение', 'свобода'), 147)\n",
            "(('58', 'ук', 'рф'), 147)\n",
            "(('составить', 'соответствующий', 'акт'), 147)\n",
            "(('проживать', 'адрес', 'адрес'), 147)\n",
            "(('предусмотренный', 'число', '1', 'ст'), 147)\n",
            "(('пересчёт', 'сухой', 'вещество'), 146)\n",
            "(('заявить', 'добровольно', 'консультация', 'защитник'), 146)\n",
            "(('наркотический', 'средство', 'ацетилировать', 'опий', 'масса'), 146)\n",
            "(('число', 'обстоятельство', 'смягчающий'), 145)\n",
            "(('личный', 'употребление', 'цель'), 145)\n",
            "(('употребление', 'цель', 'сбыт'), 145)\n",
            "(('растворитель', 'марка', 'б'), 145)\n",
            "(('пакет', 'опечатать', 'печать'), 145)\n",
            "(('уголовный', 'дело', 'особый'), 145)\n",
            "(('пакет', 'наркотический', 'средство'), 145)\n",
            "(('пакет', 'внутри', 'который'), 145)\n",
            "(('уголовный', 'дело', 'особый', 'порядок'), 145)\n",
            "(('изготовление', 'употребление', 'наркотический', 'средство'), 145)\n",
            "(('осознать', 'характер', 'последствие', 'заявить'), 145)\n",
            "(('здание', 'сооружение', 'участок', 'местность', 'транспортный'), 145)\n",
            "(('здание', 'сооружение', 'участок', 'местность', 'транспортный', 'средство'), 145)\n",
            "(('незаконно', 'изготовить', 'хранить'), 144)\n",
            "(('рф', 'покушение', 'незаконный'), 144)\n",
            "(('мро', 'уфскна', 'россия'), 144)\n",
            "(('март', '2012', 'год'), 144)\n",
            "(('ук', 'рф', 'покушение', 'незаконный'), 144)\n",
            "(('исследовать', 'судебный', 'заседание', 'доказательство'), 144)\n",
            "(('число', '2', 'ст', '228', 'ук'), 144)\n",
            "(('число', '2', 'ст', '228', 'ук', 'рф'), 144)\n",
            "(('доказательство', 'собранный', 'уголовный'), 143)\n",
            "(('общественный', 'опасность', 'свой'), 143)\n",
            "(('предупреждение', 'совершение', 'новый'), 143)\n",
            "(('228.1', '229', '229.1'), 143)\n",
            "(('выделить', 'отдельный', 'производство'), 143)\n",
            "(('доказательство', 'собранный', 'уголовный', 'дело'), 143)\n",
            "(('умысел', 'направить', 'незаконный', 'сбыт'), 143)\n",
            "(('являться', 'наркотический', 'средство', 'экстракт'), 143)\n",
            "(('являться', 'наркотический', 'средство', 'экстракт', 'маковый'), 143)\n",
            "(('являться', 'наркотический', 'средство', 'экстракт', 'маковый', 'солома'), 143)\n",
            "(('ход', 'судебный', 'заседание'), 142)\n",
            "(('назначение', 'наказание', 'суд', 'учитывать'), 142)\n",
            "(('незаконный', 'изготовление', 'хранение', 'наркотический'), 142)\n",
            "(('утвердить', 'постановление', 'правительство', 'рф'), 142)\n",
            "(('незаконный', 'изготовление', 'хранение', 'наркотический', 'средство'), 142)\n",
            "(('последствие', 'постановление', 'приговор'), 141)\n",
            "(('считать', 'необходимый', 'назначить'), 141)\n",
            "(('ук', 'рф', 'редакция'), 141)\n",
            "(('горловина', 'который', 'обвязать'), 141)\n",
            "(('помещение', 'здание', 'сооружение', 'участок'), 141)\n",
            "(('предупреждение', 'совершение', 'новый', 'преступление'), 140)\n",
            "(('обследование', 'помещение', 'здание', 'сооружение', 'участок'), 140)\n",
            "(('солома', 'масса', 'сухой'), 139)\n",
            "(('смягчающий', 'наказание', 'подсудимый'), 139)\n",
            "(('который', 'обвязать', 'нить'), 139)\n",
            "(('мак', 'примесь', 'маковый'), 139)\n",
            "(('маковый', 'солома', 'масса', 'сухой'), 139)\n",
            "(('согласно', 'заключение', 'эксперт', 'дд.мм.гггга'), 139)\n",
            "(('горловина', 'который', 'обвязать', 'нить'), 139)\n",
            "(('помещение', 'здание', 'сооружение', 'участок', 'местность'), 139)\n",
            "(('значительный', 'крупный', 'особо', 'крупный', 'размер', 'растение'), 139)\n",
            "(('значительный', 'крупный', 'особо', 'крупный', 'размер', 'растение', 'содержимый'), 139)\n",
            "(('значительный', 'крупный', 'особо', 'крупный', 'размер', 'растение', 'содержимый', 'наркотический'), 139)\n",
            "(('опасность', 'свой', 'действие'), 138)\n",
            "(('ст', '58', 'ук'), 138)\n",
            "(('качество', 'понятой', 'проведение'), 138)\n",
            "(('находиться', 'наркотический', 'средство'), 138)\n",
            "(('пакет', 'горловина', 'который'), 138)\n",
            "(('общественный', 'опасность', 'свой', 'действие'), 138)\n",
            "(('ст', '58', 'ук', 'рф'), 138)\n",
            "(('обследование', 'помещение', 'здание', 'сооружение', 'участок', 'местность'), 138)\n",
            "(('российский', 'федерация', 'запретить'), 137)\n",
            "(('цвет', 'который', 'находиться'), 137)\n",
            "(('пакет', 'внутри', 'который', 'находиться'), 137)\n",
            "(('содержимый', 'наркотический', 'средство', 'психотропный', 'вещество', 'цель', 'стать', '228'), 137)\n",
            "(('значительный', 'крупный', 'особо', 'крупный', 'размер', 'растение', 'содержимый', 'наркотический', 'средство'), 137)\n",
            "(('значительный', 'крупный', 'особо', 'крупный', 'размер', 'растение', 'содержимый', 'наркотический', 'средство', 'психотропный'), 137)\n",
            "(('путём', 'экстракция', 'семя'), 136)\n",
            "(('76', 'утверждение', 'крупный'), 136)\n",
            "(('наркотический', 'средство', 'изготовить'), 136)\n",
            "(('плата', 'число', '1'), 136)\n",
            "(('ходатайство', 'государственный', 'обвинитель'), 136)\n",
            "(('упк', 'рф', 'показание'), 136)\n",
            "(('личный', 'употребление', 'цель', 'сбыт'), 136)\n",
            "(('ходатайство', 'заявить', 'добровольно'), 135)\n",
            "(('рассмотрение', 'дело', 'особый'), 135)\n",
            "(('рф', 'содержание', 'притон'), 135)\n",
            "(('часы', '15', 'минута'), 135)\n",
            "(('ход', 'проведение', 'оперативно-розыскной'), 135)\n",
            "(('участие', 'качество', 'понятой'), 135)\n",
            "(('том', '2', 'л.д'), 135)\n",
            "(('рассмотрение', 'дело', 'особый', 'порядок'), 135)\n",
            "(('228', '228.1', '229', '229.1'), 135)\n",
            "(('ход', 'проведение', 'оперативно-розыскной', 'мероприятие'), 135)\n",
            "(('незаконно', 'хранить', 'цель', 'сбыт'), 135)\n",
            "(('преступление', 'небольшой', 'тяжесть'), 134)\n",
            "(('активный', 'способствование', 'раскрытие'), 134)\n",
            "(('соответствие', 'постановление', 'правительство'), 134)\n",
            "(('ч.1', 'ст', '228'), 134)\n",
            "(('мак', 'примесь', 'маковый', 'солома'), 134)\n",
            "(('содержимый', 'притон', 'потребление'), 133)\n",
            "(('маковый', 'солома', 'постоянный'), 133)\n",
            "(('руководствоваться', 'ст', 'ст'), 132)\n",
            "(('ук', 'рф', 'содержание'), 132)\n",
            "(('представить', 'исследование', 'вещество'), 132)\n",
            "(('учёт', 'врач', 'нарколог'), 132)\n",
            "(('примерно', '14', 'часы'), 132)\n",
            "(('находиться', 'состояние', 'наркотический'), 132)\n",
            "(('приготовить', 'наркотический', 'средство'), 132)\n",
            "(('наркотический', 'средство', 'обнаружить'), 132)\n",
            "(('отдел', 'мвд', 'россия', 'адрес'), 132)\n",
            "(('76', 'утверждение', 'крупный', 'особо'), 132)\n",
            "(('ук', 'рф', 'содержание', 'притон'), 132)\n",
            "(('76', 'утверждение', 'крупный', 'особо', 'крупный'), 132)\n",
            "(('76', 'утверждение', 'крупный', 'особо', 'крупный', 'размер'), 132)\n",
            "(('помещение', 'здание', 'сооружение', 'участок', 'местность', 'транспортный'), 132)\n",
            "(('76', 'утверждение', 'крупный', 'особо', 'крупный', 'размер', 'наркотический'), 132)\n",
            "(('также', 'влияние', 'назначить', 'наказание', 'исправление', 'осудить', 'условие'), 132)\n",
            "(('помещение', 'здание', 'сооружение', 'участок', 'местность', 'транспортный', 'средство'), 132)\n",
            "(('часть', 'содержимый', 'наркотический', 'средство', 'психотропный', 'вещество', 'цель', 'стать'), 132)\n",
            "(('76', 'утверждение', 'крупный', 'особо', 'крупный', 'размер', 'наркотический', 'средство'), 132)\n",
            "(('также', 'влияние', 'назначить', 'наказание', 'исправление', 'осудить', 'условие', 'жизнь'), 132)\n",
            "(('либо', 'часть', 'содержимый', 'наркотический', 'средство', 'психотропный', 'вещество', 'цель', 'стать'), 132)\n",
            "(('вещество', 'либо', 'часть', 'содержимый', 'наркотический', 'средство', 'психотропный', 'вещество', 'цель', 'стать'), 132)\n",
            "(('часы', '45', 'минута'), 131)\n",
            "(('денежный', 'средство', 'обнаружить'), 131)\n",
            "(('грамм', 'согласно', 'постановление'), 131)\n",
            "(('подтверждаться', 'доказательство', 'собранный', 'уголовный'), 131)\n",
            "(('строгий', 'вид', 'наказание', 'предусмотренный'), 131)\n",
            "(('являться', 'наркотический', 'средство', 'ацетилировать'), 131)\n",
            "(('грамм', 'согласно', 'постановление', 'правительство'), 131)\n",
            "(('полимерный', 'пакет', 'который', 'находиться'), 131)\n",
            "(('подтверждаться', 'доказательство', 'собранный', 'уголовный', 'дело'), 131)\n",
            "(('являться', 'наркотический', 'средство', 'ацетилировать', 'опий'), 131)\n",
            "(('обследование', 'помещение', 'здание', 'сооружение', 'участок', 'местность', 'транспортный'), 131)\n",
            "(('обследование', 'помещение', 'здание', 'сооружение', 'участок', 'местность', 'транспортный', 'средство'), 131)\n",
            "(('228.1', '229', 'ук'), 130)\n",
            "(('наркотический', 'средство', 'являться'), 130)\n",
            "(('денежный', 'купюра', 'достоинство'), 130)\n",
            "(('примерно', '12', 'часы'), 130)\n",
            "(('наркотический', 'средство', 'употреблять'), 130)\n",
            "(('мак', 'содержимый', 'наркотический'), 130)\n",
            "(('плата', 'число', '1', 'ст'), 130)\n",
            "(('средство', 'маковый', 'солома', 'общий'), 130)\n",
            "(('наиболее', 'строгий', 'вид', 'наказание', 'предусмотренный'), 130)\n",
            "(('наркотический', 'средство', 'маковый', 'солома', 'общий'), 130)\n",
            "(('наказание', 'также', 'влияние', 'назначить', 'наказание', 'исправление', 'осудить'), 130)\n",
            "(('76', 'утверждение', 'крупный', 'особо', 'крупный', 'размер', 'наркотический', 'средство', 'психотропный'), 130)\n",
            "(('назначить', 'наказание', 'вид'), 129)\n",
            "(('судья', 'судебный', 'участок'), 129)\n",
            "(('совершенный', 'группа', 'лицо'), 129)\n",
            "(('228', '228.1', '229', 'ук'), 129)\n",
            "(('228.1', '229', 'ук', 'рф'), 129)\n",
            "(('экстракт', 'маковый', 'солома', 'общий'), 129)\n",
            "(('совершенный', 'группа', 'лицо', 'предварительный'), 129)\n",
            "(('находиться', 'состояние', 'наркотический', 'опьянение'), 129)\n",
            "(('хранение', 'наркотический', 'средство', 'цель'), 129)\n",
            "(('характер', 'степень', 'общественный', 'опасность', 'преступление'), 129)\n",
            "(('экстракт', 'маковый', 'солома', 'масса', 'сухой'), 129)\n",
            "(('совершенный', 'группа', 'лицо', 'предварительный', 'сговор'), 129)\n",
            "(('76', 'утверждение', 'крупный', 'особо', 'крупный', 'размер', 'наркотический', 'средство', 'психотропный', 'вещество'), 129)\n",
            "(('солома', 'постоянный', 'масса'), 128)\n",
            "(('наказание', 'вид', 'ограничение'), 128)\n",
            "(('приготовление', 'наркотический', 'средство'), 128)\n",
            "(('обнаружить', 'изъять', 'полимерный'), 128)\n",
            "(('вещество', 'тёмный', 'цвет'), 128)\n",
            "(('обстоятельство', 'отягчать', 'наказание', 'подсудимый'), 128)\n",
            "(('маковый', 'солома', 'постоянный', 'масса'), 128)\n",
            "(('228', '228.1', '229', 'ук', 'рф'), 128)\n",
            "(('средство', 'экстракт', 'маковый', 'солома', 'который'), 128)\n",
            "(('осознать', 'характер', 'последствие', 'заявить', 'ходатайство'), 128)\n",
            "(('обоснованный', 'подтверждаться', 'доказательство'), 127)\n",
            "(('отягчать', 'наказание', 'также'), 127)\n",
            "(('мировой', 'судья', 'судебный'), 127)\n",
            "(('высушить', 'постоянный', 'масса'), 127)\n",
            "(('дело', 'отношение', 'который'), 127)\n",
            "(('проверочный', 'закупка', 'качество'), 127)\n",
            "(('примерно', '17', 'часы'), 127)\n",
            "(('направить', 'содержание', 'притон'), 127)\n",
            "(('глуховченко', 'а.с', 'наливайко'), 127)\n",
            "(('последствие', 'постановление', 'приговор', 'проведение'), 127)\n",
            "(('содержимый', 'притон', 'потребление', 'наркотический'), 127)\n",
            "(('рф', 'содержание', 'притон', 'потребление'), 127)\n",
            "(('наказание', 'вид', 'ограничение', 'свобода'), 127)\n",
            "(('мировой', 'судья', 'судебный', 'участок'), 127)\n",
            "(('последствие', 'постановление', 'приговор', 'проведение', 'судебный'), 127)\n",
            "(('содержимый', 'притон', 'потребление', 'наркотический', 'средство'), 127)\n",
            "(('рф', 'содержание', 'притон', 'потребление', 'наркотический'), 127)\n",
            "(('рф', 'содержание', 'притон', 'потребление', 'наркотический', 'средство'), 127)\n",
            "(('крупный', 'размер', 'следующий'), 126)\n",
            "(('цель', 'сбыт', 'личный'), 126)\n",
            "(('вид', 'размер', 'наказание'), 126)\n",
            "(('также', 'значительный', 'крупный'), 126)\n",
            "(('поставить', 'свой', 'подпись'), 126)\n",
            "(('два', 'представитель', 'общественность'), 126)\n",
            "(('а.с', 'наливайко', 'н.в'), 126)\n",
            "(('глуховченко', 'а.с', 'наливайко', 'н.в'), 126)\n",
            "(('наркотический', 'средство', 'экстракт', 'маковый', 'солома', 'который'), 126)\n",
            "(('кустарный', 'наркотический', 'средство'), 125)\n",
            "(('приговор', 'законный', 'сила'), 125)\n",
            "(('совершенный', 'преступление', 'личность'), 125)\n",
            "(('огласить', 'судебный', 'заседание'), 125)\n",
            "(('автомашина', 'дать', 'изъять'), 125)\n",
            "(('также', 'значительный', 'крупный', 'особо'), 125)\n",
            "(('также', 'значительный', 'крупный', 'особо', 'крупный'), 125)\n",
            "(('последствие', 'постановление', 'приговор', 'проведение', 'судебный', 'разбирательство'), 125)\n",
            "(('лицо', 'употреблять', 'наркотический'), 124)\n",
            "(('место', 'свой', 'проживание'), 124)\n",
            "(('подлежащее', 'контроль', 'российский'), 124)\n",
            "(('контроль', 'российский', 'федерация'), 124)\n",
            "(('колония', 'общий', 'режим'), 124)\n",
            "(('нить', 'конец', 'который'), 124)\n",
            "(('крупный', 'размер', 'следующий', 'обстоятельство'), 124)\n",
            "(('подлежащее', 'контроль', 'российский', 'федерация'), 124)\n",
            "(('довести', 'конец', 'независящий', 'обстоятельство'), 124)\n"
          ],
          "name": "stdout"
        }
      ]
    },
    {
      "metadata": {
        "id": "jJ1xEsZBQvnP",
        "colab_type": "code",
        "outputId": "75e4c506-ea50-4c62-a285-b5e37d55e688",
        "colab": {
          "base_uri": "https://localhost:8080/",
          "height": 187
        }
      },
      "cell_type": "code",
      "source": [
        "colloc_1000[:10]"
      ],
      "execution_count": 0,
      "outputs": [
        {
          "output_type": "execute_result",
          "data": {
            "text/plain": [
              "[('сбыт', 'наркотический', 'средство'),\n",
              " ('наркотический', 'средство', 'маковый'),\n",
              " ('экстракт', 'маковый', 'солома'),\n",
              " ('средство', 'маковый', 'солома'),\n",
              " ('наркотический', 'средство', 'маковый', 'солома'),\n",
              " ('потребление', 'наркотический', 'средство'),\n",
              " ('наркотический', 'средство', 'психотропный'),\n",
              " ('средство', 'психотропный', 'вещество'),\n",
              " ('наркотический', 'средство', 'психотропный', 'вещество'),\n",
              " ('наркотический', 'средство', 'экстракт')]"
            ]
          },
          "metadata": {
            "tags": []
          },
          "execution_count": 25
        }
      ]
    },
    {
      "metadata": {
        "id": "-Tx-R-ztQmyB",
        "colab_type": "code",
        "colab": {}
      },
      "cell_type": "code",
      "source": [
        "from sklearn.feature_extraction.text import TfidfVectorizer\n",
        "from collections import OrderedDict\n",
        "\n",
        "tfidf = TfidfVectorizer(ngram_range=(3,10), min_df=1)"
      ],
      "execution_count": 0,
      "outputs": []
    },
    {
      "metadata": {
        "id": "Whe6TxvKTGCp",
        "colab_type": "code",
        "colab": {}
      },
      "cell_type": "code",
      "source": [
        "df['tokens_str'] = [' '.join(i) for i in df.tokens_main_part]"
      ],
      "execution_count": 0,
      "outputs": []
    },
    {
      "metadata": {
        "id": "UWwMjZzRTdJ5",
        "colab_type": "code",
        "colab": {}
      },
      "cell_type": "code",
      "source": [
        "texts_vectors = tfidf.fit_transform(df['tokens_str'])"
      ],
      "execution_count": 0,
      "outputs": []
    },
    {
      "metadata": {
        "id": "0vU9Gn_8fxCS",
        "colab_type": "code",
        "outputId": "e455b602-8a15-4a7a-e7f1-fe239134c09e",
        "colab": {
          "base_uri": "https://localhost:8080/",
          "height": 51
        }
      },
      "cell_type": "code",
      "source": [
        "texts_vectors"
      ],
      "execution_count": 0,
      "outputs": [
        {
          "output_type": "execute_result",
          "data": {
            "text/plain": [
              "<639x7223947 sparse matrix of type '<class 'numpy.float64'>'\n",
              "\twith 8518739 stored elements in Compressed Sparse Row format>"
            ]
          },
          "metadata": {
            "tags": []
          },
          "execution_count": 29
        }
      ]
    },
    {
      "metadata": {
        "id": "wjWbBACKTia2",
        "colab_type": "code",
        "colab": {}
      },
      "cell_type": "code",
      "source": [
        "id2word = {i:word for i,word in enumerate(tfidf.get_feature_names())}"
      ],
      "execution_count": 0,
      "outputs": []
    },
    {
      "metadata": {
        "id": "Cr2iLr9iTm9L",
        "colab_type": "code",
        "colab": {}
      },
      "cell_type": "code",
      "source": [
        "some_array = []\n",
        "for i in range(len(df.tokens_str)):\n",
        "    some_dict = {}\n",
        "    for num, s in enumerate(texts_vectors.toarray()[i]):\n",
        "        some_dict.setdefault((id2word[num]), s)\n",
        "    sorted_dict = OrderedDict(sorted(some_dict.items(), key=lambda t: t[1])[::-1])    # сортировка значений по убыванию\n",
        "    print(sorted_dict)\n",
        "    # some_array.append(sorted_dict)\n",
        "# df['tf-idf_dict'] = some_array"
      ],
      "execution_count": 0,
      "outputs": []
    },
    {
      "metadata": {
        "id": "OjklmBd5gMQm",
        "colab_type": "code",
        "outputId": "f3945668-29b6-4b15-846d-cca05063be9d",
        "colab": {
          "base_uri": "https://localhost:8080/",
          "height": 34
        }
      },
      "cell_type": "code",
      "source": [
        "len(df.tokens_str)"
      ],
      "execution_count": 0,
      "outputs": [
        {
          "output_type": "execute_result",
          "data": {
            "text/plain": [
              "639"
            ]
          },
          "metadata": {
            "tags": []
          },
          "execution_count": 33
        }
      ]
    },
    {
      "metadata": {
        "id": "tq7iUWHF403E",
        "colab_type": "code",
        "outputId": "36a47947-9c22-4fa8-f1e3-66fc0ce66ee8",
        "colab": {
          "base_uri": "https://localhost:8080/",
          "height": 34
        }
      },
      "cell_type": "code",
      "source": [
        "# Функция для разбиения текста на абзацы по тегам\n",
        "# При этом куски-юридизмы (= текст между тегами \\jurb и \\jure) заменить на JUR или что-то подобное\n",
        "beg_tag = re.compile(r\"\\\\\\w+b\\b\")\n",
        "end_tag = re.compile(r\"\\\\\\w+e\\b\")\n",
        "tag = re.compile(r\"\\\\\\w+[e|b]\\b\")\n",
        "jur_tag = re.compile(r\"\\\\jur[e|b]\\b\")\n",
        "\n",
        "\n",
        "#Заменяем всё внутри тегов на JUR\n",
        "def no_jur(text):\n",
        "    jur_split = re.split(jur_tag, text)\n",
        "    text_without_jur = \"\"\n",
        "    for i in jur_split:\n",
        "        if i in (jur_split[1::2]):\n",
        "            #Не понимаю, почему при этом появляется второй бэкслеш\"\n",
        "            text_without_jur += \"\\jurb JUR \\jure\"\n",
        "        else:\n",
        "            text_without_jur += i\n",
        "    return text_without_jur\n",
        "\n",
        "no_jur(\"Это имитирует \\jurb юридизмы всякие \\jure, от которых нам надо \\jurb юридически \\jure избавляться\")"
      ],
      "execution_count": 0,
      "outputs": [
        {
          "output_type": "execute_result",
          "data": {
            "text/plain": [
              "'Это имитирует \\\\jurb JUR \\\\jure, от которых нам надо \\\\jurb JUR \\\\jure избавляться'"
            ]
          },
          "metadata": {
            "tags": []
          },
          "execution_count": 21
        }
      ]
    },
    {
      "metadata": {
        "id": "RioIn_1asLVz",
        "colab_type": "code",
        "outputId": "02de3f20-e91a-4904-eb3b-b740b534248c",
        "colab": {
          "base_uri": "https://localhost:8080/",
          "height": 136
        }
      },
      "cell_type": "code",
      "source": [
        "#Собственно разбиваем\n",
        "def paragraphs_split(text): \n",
        "    return [par.strip() for par in re.split(tag, text) if par.strip()]\n",
        "    \n",
        "paragraphs_split(no_jur(r\"Эта регулярка просто разбивает \\jurb юридический \\jure \\textb текст \\texte на абзацы по тегам, но при этом никак не подписывает их \\nameb названия \\namee. \\mehb Это затрудняет работу, но улучшать я пока что-то не готова. \\mehe\"))"
      ],
      "execution_count": 0,
      "outputs": [
        {
          "output_type": "execute_result",
          "data": {
            "text/plain": [
              "['Эта регулярка просто разбивает',\n",
              " 'JUR',\n",
              " 'текст',\n",
              " 'на абзацы по тегам, но при этом никак не подписывает их',\n",
              " 'названия',\n",
              " '.',\n",
              " 'Это затрудняет работу, но улучшать я пока что-то не готова.']"
            ]
          },
          "metadata": {
            "tags": []
          },
          "execution_count": 22
        }
      ]
    },
    {
      "metadata": {
        "id": "bn1E8deEjTO5",
        "colab_type": "code",
        "colab": {}
      },
      "cell_type": "code",
      "source": [
        "def split_no_jur(text):\n",
        "  return paragraphs_split(no_jur(str(text)))"
      ],
      "execution_count": 0,
      "outputs": []
    },
    {
      "metadata": {
        "id": "lKHvm25U48bq",
        "colab_type": "code",
        "colab": {}
      },
      "cell_type": "code",
      "source": [
        "# Функция для обучения сегментатора\n",
        "\n",
        "from nltk.tokenize.punkt import PunktSentenceTokenizer, PunktTrainer\n",
        "\n",
        "def segmentate(data):\n",
        "  trainer = PunktTrainer()\n",
        "  trainer.INCLUDE_ALL_COLLOCS = True\n",
        "  trainer.train('\\n'.join(data))\n",
        " \n",
        "  sentence_segmentator = PunktSentenceTokenizer(trainer.get_params())\n",
        "  \n",
        "  return sentence_segmentator\n",
        "  "
      ],
      "execution_count": 0,
      "outputs": []
    },
    {
      "metadata": {
        "id": "VUnmx2KUS5ZI",
        "colab_type": "code",
        "colab": {}
      },
      "cell_type": "code",
      "source": [
        "# Обучаем на Вериных обучающих данных, а не на столбцe df['main_part_no_tags'], чтобы пофиксить проблемы сегментации - потом применим обученный сегментатор ко столбцу.\n",
        "global trained_segmentator\n",
        "trained_segmentator = segmentate(segmentator_train_data)"
      ],
      "execution_count": 0,
      "outputs": []
    },
    {
      "metadata": {
        "id": "fQ35zJnnTU9A",
        "colab_type": "code",
        "colab": {}
      },
      "cell_type": "code",
      "source": [
        "# Функция для разбиения текста на предложения\n",
        "\n",
        "def punkt_tokenize(data):\n",
        "  return trained_segmentator.tokenize(data)"
      ],
      "execution_count": 0,
      "outputs": []
    },
    {
      "metadata": {
        "id": "KyXYjAjopx5N",
        "colab_type": "code",
        "colab": {}
      },
      "cell_type": "code",
      "source": [
        "# df['sentences'] = df['main_part_no_tags'].apply(segmentate)\n",
        "df['sentences'] = df['main_part_no_tags'].apply(punkt_tokenize)"
      ],
      "execution_count": 0,
      "outputs": []
    },
    {
      "metadata": {
        "id": "AhIXOxwLY8QF",
        "colab_type": "code",
        "colab": {}
      },
      "cell_type": "code",
      "source": [
        "def split_txt(text):\n",
        "    txt = []\n",
        "    for sent in text:\n",
        "      for word in sent.split(' '):\n",
        "        word = word.strip(punct).lower()\n",
        "        if word:\n",
        "          txt.append(word)\n",
        "    return txt\n",
        "\n",
        "df['sentences_spl'] = df['sentences'].apply(split_txt)"
      ],
      "execution_count": 0,
      "outputs": []
    },
    {
      "metadata": {
        "id": "CDJCjhzawkFi",
        "colab_type": "text"
      },
      "cell_type": "markdown",
      "source": [
        "(Настя): я пока пропустила кусок кода ниже и до \"обучаем фасттекст\" - запуталась немного в юридизмах и пока делала все с ними не запикивая."
      ]
    },
    {
      "metadata": {
        "id": "nUJrPxaAedP2",
        "colab_type": "code",
        "colab": {}
      },
      "cell_type": "code",
      "source": [
        "# df[''] = df[''].apply(paragraphs_split)"
      ],
      "execution_count": 0,
      "outputs": []
    },
    {
      "metadata": {
        "id": "CWbzAcb9UCrs",
        "colab_type": "code",
        "colab": {}
      },
      "cell_type": "code",
      "source": [
        "# Глумливые регулярки для юридизмов\n",
        "\n",
        "jur = re.compile(\"(ук рф|ук рос|упк рос|упк рф|постановлени.{1,4} правительств|постановлени.{1,4} пленум|федеральн.{2,3} закон|постановлени.{1,4} государственной дум|спис.{2,3}|переч.{2,4}|уголовно-процесс|уголовн.{2,4} кодекс|конституц)\") \n",
        "\n",
        "sentences = [\"В соответствии с ч. 1 ст. 314 УПК РФ, обвиняемый вправе при наличии согласия государственного обвинителя и потерпевшего, заявить о согласии с предъявленным ему обвинением и ходатайствовать о постановлении приговора без проведения судебного разбирательства в общем порядке по уголовным делам о преступлениях, наказание за которые, предусмотренное УК РФ, не превышает десяти лет лишения свободы.\",\n",
        "            \"Экстракт маковой соломы (концентрат маковой соломы) включен в список № 1 «Перечня наркотических средств, психотропных веществ и их прекурсоров, подлежащих контролю в РФ», утвержденного постановлением Правительства РФ № 1002 от 01 октября 2012 года, и относится к наркотическим средствам, оборот которых в Российской Федерации запрещен в соответствии с законодательством Российской Федерации международными договорами Российской Федерации, а наркотическое средство - экстракт маковой соломы общим весом 1, 67 грамма относит к значительному размеру.\",\n",
        "            \"В соответствие с п. 1 ч. 8 ст. 246 УПК РФ, государственный обвинитель до удаления суда в совещательную комнату для постановления приговора может изменить обвинение в сторону смягчения путем исключения из юридической квалификации деяния признаков преступления, отягчающих наказание.\",\n",
        "            \"В этом предложении нет ничего, что соответствует нашим чудесным регуляркам\",\n",
        "            \"Согласно Постановления Правительства Российской Федерации №76 от 07.02.06 г. «Об утверждении крупного и особо крупного размеров наркотических средств и психотропных веществ для целей статей 228, 228.1 и 229 Уголовного кодекса Российской Федерации» (в редакции Постановления Правительства Российской Федерации от 30.10.2010 года № 882), особо крупным размером признается масса каннабис (марихуаны) свыше 100 грамм.\"]"
      ],
      "execution_count": 0,
      "outputs": []
    },
    {
      "metadata": {
        "id": "fI6ohZRyURpq",
        "colab_type": "code",
        "colab": {}
      },
      "cell_type": "code",
      "source": [
        "def reg_jur(sentences):\n",
        "    juridisms = []\n",
        "    for sent in sentences: \n",
        "        if (re.findall(jur, sent.lower())):\n",
        "            # sent = 'JUR'\n",
        "          juridisms.append(sent)\n",
        "    return juridisms\n",
        " \n",
        "# reg_jur(sentences)"
      ],
      "execution_count": 0,
      "outputs": []
    },
    {
      "metadata": {
        "id": "3IZupZZOZwxF",
        "colab_type": "code",
        "colab": {}
      },
      "cell_type": "code",
      "source": [
        "## ВОПЛЬ ОТЧАЯНИЯ\n",
        "\n",
        "def replace_jur(sentences):\n",
        "  sent_bez_jur = []\n",
        "  for sentence in sentences:\n",
        "    if '\\jurb' in sentence:\n",
        "      if '\\jure' in sentence:\n",
        "        jur = sentence[sentence.index('\\jurb'):sentence.index('\\jure')+5]\n",
        "      else:\n",
        "        jur = sentence[sentence.index('\\jurb'):]\n",
        "      sentence = sentence.replace(jur, 'JUR')\n",
        "    if '\\jure' in sentence and '\\jurb' not in sentence:\n",
        "      jur = sentence[:sentence.index('\\jure')+5]\n",
        "      sentence = sentence.replace(jur, 'JUR')\n",
        "    sent_bez_jur.append(sentence)\n",
        "  return sent_bez_jur"
      ],
      "execution_count": 0,
      "outputs": []
    },
    {
      "metadata": {
        "id": "5twqqG7hcIZ6",
        "colab_type": "code",
        "colab": {}
      },
      "cell_type": "code",
      "source": [
        "sent = []\n",
        "for text in df['raw_main_part']:\n",
        "  sent.append(punkt_tokenize(str(text)))\n",
        "\n",
        "df['sentences_with_tags'] = sent"
      ],
      "execution_count": 0,
      "outputs": []
    },
    {
      "metadata": {
        "id": "UslwMVzWasOy",
        "colab_type": "code",
        "colab": {}
      },
      "cell_type": "code",
      "source": [
        "df['sentences_bez_jur'] = df['sentences_with_tags'].apply(replace_jur)"
      ],
      "execution_count": 0,
      "outputs": []
    },
    {
      "metadata": {
        "id": "YSx69rK6jkAs",
        "colab_type": "code",
        "colab": {}
      },
      "cell_type": "code",
      "source": [
        "df['paragraphs'] = df['raw_main_part'].apply(split_no_jur)"
      ],
      "execution_count": 0,
      "outputs": []
    },
    {
      "metadata": {
        "id": "FkeFjdhOkF_0",
        "colab_type": "code",
        "colab": {}
      },
      "cell_type": "code",
      "source": [
        "df['paragraphs_tokens'] = df['paragraphs'].apply(split_txt)"
      ],
      "execution_count": 0,
      "outputs": []
    },
    {
      "metadata": {
        "id": "_o7Yarzba5Fl",
        "colab_type": "code",
        "outputId": "8595946d-ae3b-411a-a13a-002228b04900",
        "colab": {
          "base_uri": "https://localhost:8080/",
          "height": 391
        }
      },
      "cell_type": "code",
      "source": [
        "df.head()"
      ],
      "execution_count": 0,
      "outputs": [
        {
          "output_type": "execute_result",
          "data": {
            "text/html": [
              "<div>\n",
              "<style scoped>\n",
              "    .dataframe tbody tr th:only-of-type {\n",
              "        vertical-align: middle;\n",
              "    }\n",
              "\n",
              "    .dataframe tbody tr th {\n",
              "        vertical-align: top;\n",
              "    }\n",
              "\n",
              "    .dataframe thead th {\n",
              "        text-align: right;\n",
              "    }\n",
              "</style>\n",
              "<table border=\"1\" class=\"dataframe\">\n",
              "  <thead>\n",
              "    <tr style=\"text-align: right;\">\n",
              "      <th></th>\n",
              "      <th>raw_texts</th>\n",
              "      <th>raw_main_part</th>\n",
              "      <th>tokens_main_part</th>\n",
              "      <th>main_part_no_tags</th>\n",
              "      <th>sentences</th>\n",
              "      <th>sentences_spl</th>\n",
              "      <th>sentences_with_tags</th>\n",
              "      <th>sentences_bez_jur</th>\n",
              "      <th>paragraphs</th>\n",
              "      <th>paragraphs_tokens</th>\n",
              "    </tr>\n",
              "  </thead>\n",
              "  <tbody>\n",
              "    <tr>\n",
              "      <th>0</th>\n",
              "      <td>﻿Дело № 1-37/2012 г.\\n\\nП Р И Г О В О Р\\n\\n\\in...</td>\n",
              "      <td>\\fabb Подсудимый С.Н.Ю. совершил два преступл...</td>\n",
              "      <td>[fabb, подсудимый, с.н.ть, совершить, преступл...</td>\n",
              "      <td>Подсудимый С.Н.Ю. совершил два преступления ...</td>\n",
              "      <td>[  Подсудимый С.Н.Ю. совершил два преступления...</td>\n",
              "      <td>[подсудимый, с.н.ю, совершил, два, преступлени...</td>\n",
              "      <td>[ \\fabb Подсудимый С.Н.Ю. совершил два преступ...</td>\n",
              "      <td>[ \\fabb Подсудимый С.Н.Ю. совершил два преступ...</td>\n",
              "      <td>[Подсудимый С.Н.Ю. совершил два преступления н...</td>\n",
              "      <td>[подсудимый, с.н.ю, совершил, два, преступлени...</td>\n",
              "    </tr>\n",
              "    <tr>\n",
              "      <th>1</th>\n",
              "      <td>﻿Копия\\n\\nДело № 1-141\\n\\nП Р И Г О В О Р\\n\\n\\...</td>\n",
              "      <td>\\fabb Шериева И.Г. незаконно изготовила и хра...</td>\n",
              "      <td>[fabb, шериева, и.г, незаконно, изготовить, хр...</td>\n",
              "      <td>Шериева И.Г. незаконно изготовила и хранила ...</td>\n",
              "      <td>[  Шериева И.Г. незаконно изготовила и хранила...</td>\n",
              "      <td>[шериева, и.г, незаконно, изготовила, и, храни...</td>\n",
              "      <td>[ \\fabb Шериева И.Г. незаконно изготовила и хр...</td>\n",
              "      <td>[ \\fabb Шериева И.Г. незаконно изготовила и хр...</td>\n",
              "      <td>[Шериева И.Г. незаконно изготовила и хранила б...</td>\n",
              "      <td>[шериева, и.г, незаконно, изготовила, и, храни...</td>\n",
              "    </tr>\n",
              "    <tr>\n",
              "      <th>2</th>\n",
              "      <td>Уголовное дело №1-504/2012\\n\\nПРИГОВОР\\n\\nИмен...</td>\n",
              "      <td>\\fabb  ФИО1 имея преступный умысел на незакон...</td>\n",
              "      <td>[fabb, фио1, иметь, преступный, умысел, незако...</td>\n",
              "      <td>ФИО1 имея преступный умысел на незаконный с...</td>\n",
              "      <td>[   ФИО1 имея преступный умысел на незаконный ...</td>\n",
              "      <td>[фио1, имея, преступный, умысел, на, незаконны...</td>\n",
              "      <td>[ \\fabb  ФИО1 имея преступный умысел на незако...</td>\n",
              "      <td>[ \\fabb  ФИО1 имея преступный умысел на незако...</td>\n",
              "      <td>[ФИО1 имея преступный умысел на незаконный сбы...</td>\n",
              "      <td>[фио1, имея, преступный, умысел, на, незаконны...</td>\n",
              "    </tr>\n",
              "    <tr>\n",
              "      <th>3</th>\n",
              "      <td>Дело № 1-107/2012 ПРИГОВОР Именем Российской Ф...</td>\n",
              "      <td>\\fabb Усатов С.В. содержал притон для потребл...</td>\n",
              "      <td>[fabb, усат, с.в, содержимый, притон, потребле...</td>\n",
              "      <td>Усатов С.В. содержал притон для потребления ...</td>\n",
              "      <td>[  Усатов С.В. содержал притон для потребления...</td>\n",
              "      <td>[усатов, с.в, содержал, притон, для, потреблен...</td>\n",
              "      <td>[ \\fabb Усатов С.В. содержал притон для потреб...</td>\n",
              "      <td>[ \\fabb Усатов С.В. содержал притон для потреб...</td>\n",
              "      <td>[Усатов С.В. содержал притон для потребления н...</td>\n",
              "      <td>[усатов, с.в, содержал, притон, для, потреблен...</td>\n",
              "    </tr>\n",
              "    <tr>\n",
              "      <th>4</th>\n",
              "      <td>К делу № 1-444/10\\n\\nПРИГОВОР\\n\\nИменем Россий...</td>\n",
              "      <td>\\fabb В.Н. Лобиян совершил незаконное изготов...</td>\n",
              "      <td>[fabb, в.н, лобиян, совершить, незаконный, изг...</td>\n",
              "      <td>В.Н. Лобиян совершил незаконное изготовление...</td>\n",
              "      <td>[  В.Н. Лобиян совершил незаконное изготовлени...</td>\n",
              "      <td>[в.н, лобиян, совершил, незаконное, изготовлен...</td>\n",
              "      <td>[ \\fabb В.Н. Лобиян совершил незаконное изгото...</td>\n",
              "      <td>[ \\fabb В.Н. Лобиян совершил незаконное изгото...</td>\n",
              "      <td>[В.Н. Лобиян совершил незаконное изготовление,...</td>\n",
              "      <td>[в.н, лобиян, совершил, незаконное, изготовлен...</td>\n",
              "    </tr>\n",
              "  </tbody>\n",
              "</table>\n",
              "</div>"
            ],
            "text/plain": [
              "                                           raw_texts  \\\n",
              "0  ﻿Дело № 1-37/2012 г.\\n\\nП Р И Г О В О Р\\n\\n\\in...   \n",
              "1  ﻿Копия\\n\\nДело № 1-141\\n\\nП Р И Г О В О Р\\n\\n\\...   \n",
              "2  Уголовное дело №1-504/2012\\n\\nПРИГОВОР\\n\\nИмен...   \n",
              "3  Дело № 1-107/2012 ПРИГОВОР Именем Российской Ф...   \n",
              "4  К делу № 1-444/10\\n\\nПРИГОВОР\\n\\nИменем Россий...   \n",
              "\n",
              "                                       raw_main_part  \\\n",
              "0   \\fabb Подсудимый С.Н.Ю. совершил два преступл...   \n",
              "1   \\fabb Шериева И.Г. незаконно изготовила и хра...   \n",
              "2   \\fabb  ФИО1 имея преступный умысел на незакон...   \n",
              "3   \\fabb Усатов С.В. содержал притон для потребл...   \n",
              "4   \\fabb В.Н. Лобиян совершил незаконное изготов...   \n",
              "\n",
              "                                    tokens_main_part  \\\n",
              "0  [fabb, подсудимый, с.н.ть, совершить, преступл...   \n",
              "1  [fabb, шериева, и.г, незаконно, изготовить, хр...   \n",
              "2  [fabb, фио1, иметь, преступный, умысел, незако...   \n",
              "3  [fabb, усат, с.в, содержимый, притон, потребле...   \n",
              "4  [fabb, в.н, лобиян, совершить, незаконный, изг...   \n",
              "\n",
              "                                   main_part_no_tags  \\\n",
              "0    Подсудимый С.Н.Ю. совершил два преступления ...   \n",
              "1    Шериева И.Г. незаконно изготовила и хранила ...   \n",
              "2     ФИО1 имея преступный умысел на незаконный с...   \n",
              "3    Усатов С.В. содержал притон для потребления ...   \n",
              "4    В.Н. Лобиян совершил незаконное изготовление...   \n",
              "\n",
              "                                           sentences  \\\n",
              "0  [  Подсудимый С.Н.Ю. совершил два преступления...   \n",
              "1  [  Шериева И.Г. незаконно изготовила и хранила...   \n",
              "2  [   ФИО1 имея преступный умысел на незаконный ...   \n",
              "3  [  Усатов С.В. содержал притон для потребления...   \n",
              "4  [  В.Н. Лобиян совершил незаконное изготовлени...   \n",
              "\n",
              "                                       sentences_spl  \\\n",
              "0  [подсудимый, с.н.ю, совершил, два, преступлени...   \n",
              "1  [шериева, и.г, незаконно, изготовила, и, храни...   \n",
              "2  [фио1, имея, преступный, умысел, на, незаконны...   \n",
              "3  [усатов, с.в, содержал, притон, для, потреблен...   \n",
              "4  [в.н, лобиян, совершил, незаконное, изготовлен...   \n",
              "\n",
              "                                 sentences_with_tags  \\\n",
              "0  [ \\fabb Подсудимый С.Н.Ю. совершил два преступ...   \n",
              "1  [ \\fabb Шериева И.Г. незаконно изготовила и хр...   \n",
              "2  [ \\fabb  ФИО1 имея преступный умысел на незако...   \n",
              "3  [ \\fabb Усатов С.В. содержал притон для потреб...   \n",
              "4  [ \\fabb В.Н. Лобиян совершил незаконное изгото...   \n",
              "\n",
              "                                   sentences_bez_jur  \\\n",
              "0  [ \\fabb Подсудимый С.Н.Ю. совершил два преступ...   \n",
              "1  [ \\fabb Шериева И.Г. незаконно изготовила и хр...   \n",
              "2  [ \\fabb  ФИО1 имея преступный умысел на незако...   \n",
              "3  [ \\fabb Усатов С.В. содержал притон для потреб...   \n",
              "4  [ \\fabb В.Н. Лобиян совершил незаконное изгото...   \n",
              "\n",
              "                                          paragraphs  \\\n",
              "0  [Подсудимый С.Н.Ю. совершил два преступления н...   \n",
              "1  [Шериева И.Г. незаконно изготовила и хранила б...   \n",
              "2  [ФИО1 имея преступный умысел на незаконный сбы...   \n",
              "3  [Усатов С.В. содержал притон для потребления н...   \n",
              "4  [В.Н. Лобиян совершил незаконное изготовление,...   \n",
              "\n",
              "                                   paragraphs_tokens  \n",
              "0  [подсудимый, с.н.ю, совершил, два, преступлени...  \n",
              "1  [шериева, и.г, незаконно, изготовила, и, храни...  \n",
              "2  [фио1, имея, преступный, умысел, на, незаконны...  \n",
              "3  [усатов, с.в, содержал, притон, для, потреблен...  \n",
              "4  [в.н, лобиян, совершил, незаконное, изготовлен...  "
            ]
          },
          "metadata": {
            "tags": []
          },
          "execution_count": 113
        }
      ]
    },
    {
      "metadata": {
        "id": "_29knE_gUkZx",
        "colab_type": "code",
        "outputId": "b6c84bdc-6227-4bc7-83b1-f47d024de375",
        "colab": {
          "base_uri": "https://localhost:8080/",
          "height": 272
        }
      },
      "cell_type": "code",
      "source": [
        "#надо скачать файл по этой ссылке: https://drive.google.com/open?id=1fXzzKUWmSiCnzNuW8HmxuoXWmaGDoJqv\n",
        "!wget https://drive.google.com/open?id=1fXzzKUWmSiCnzNuW8HmxuoXWmaGDoJqv\n",
        "  \n",
        "  \n",
        " # Code to read csv file into Colaboratory:\n",
        "!pip install -U -q PyDrive\n",
        "from pydrive.auth import GoogleAuth\n",
        "from pydrive.drive import GoogleDrive\n",
        "from google.colab import auth\n",
        "from oauth2client.client import GoogleCredentials\n",
        "# Authenticate and create the PyDrive client.\n",
        "auth.authenticate_user()\n",
        "gauth = GoogleAuth()\n",
        "gauth.credentials = GoogleCredentials.get_application_default()\n",
        "drive = GoogleDrive(gauth)\n",
        "\n",
        "downloaded = drive.CreateFile({'id':'1fXzzKUWmSiCnzNuW8HmxuoXWmaGDoJqv'}) \n",
        "downloaded.GetContentFile('jur.txt')  "
      ],
      "execution_count": 0,
      "outputs": [
        {
          "output_type": "stream",
          "text": [
            "--2019-04-03 07:26:10--  https://drive.google.com/open?id=1fXzzKUWmSiCnzNuW8HmxuoXWmaGDoJqv\n",
            "Resolving drive.google.com (drive.google.com)... 74.125.141.101, 74.125.141.102, 74.125.141.138, ...\n",
            "Connecting to drive.google.com (drive.google.com)|74.125.141.101|:443... connected.\n",
            "HTTP request sent, awaiting response... 307 OK\n",
            "Location: https://drive.google.com/file/d/1fXzzKUWmSiCnzNuW8HmxuoXWmaGDoJqv/view?usp=drive_open [following]\n",
            "--2019-04-03 07:26:11--  https://drive.google.com/file/d/1fXzzKUWmSiCnzNuW8HmxuoXWmaGDoJqv/view?usp=drive_open\n",
            "Reusing existing connection to drive.google.com:443.\n",
            "HTTP request sent, awaiting response... 200 OK\n",
            "Length: unspecified [text/html]\n",
            "Saving to: ‘open?id=1fXzzKUWmSiCnzNuW8HmxuoXWmaGDoJqv’\n",
            "\n",
            "\r          open?id=1     [<=>                 ]       0  --.-KB/s               \ropen?id=1fXzzKUWmSi     [ <=>                ] 132.00K  --.-KB/s    in 0.009s  \n",
            "\n",
            "2019-04-03 07:26:11 (14.1 MB/s) - ‘open?id=1fXzzKUWmSiCnzNuW8HmxuoXWmaGDoJqv’ saved [135165]\n",
            "\n"
          ],
          "name": "stdout"
        }
      ]
    },
    {
      "metadata": {
        "id": "gpGNb3TvVpQQ",
        "colab_type": "code",
        "colab": {}
      },
      "cell_type": "code",
      "source": [
        "jur_lines = []\n",
        "\n",
        "with open(\"jur.txt\", \"r\") as f:\n",
        "    for line in f.readlines():\n",
        "        if len(line.strip()) > 10:\n",
        "            jur_lines.append(line)\n",
        "            "
      ],
      "execution_count": 0,
      "outputs": []
    },
    {
      "metadata": {
        "id": "wp890uYjWpyg",
        "colab_type": "code",
        "outputId": "76db907d-8645-4242-8ce2-545641d63301",
        "colab": {
          "base_uri": "https://localhost:8080/",
          "height": 34
        }
      },
      "cell_type": "code",
      "source": [
        "#и тут уже смотрим на полноту\n",
        " \n",
        "len (jur_lines), len(reg_jur(jur_lines))"
      ],
      "execution_count": 0,
      "outputs": [
        {
          "output_type": "execute_result",
          "data": {
            "text/plain": [
              "(319, 308)"
            ]
          },
          "metadata": {
            "tags": []
          },
          "execution_count": 32
        }
      ]
    },
    {
      "metadata": {
        "id": "hbNvW366-ZI6",
        "colab_type": "code",
        "colab": {}
      },
      "cell_type": "code",
      "source": [
        "#Проверям, что из \"эталона\" не попало\n",
        "def not_reg_jur(sentences):\n",
        "    not_juridisms = []\n",
        "    for sent in sentences: \n",
        "        if (re.findall(jur, sent.lower())) == []:  \n",
        "            not_juridisms.append(sent)\n",
        "    return not_juridisms"
      ],
      "execution_count": 0,
      "outputs": []
    },
    {
      "metadata": {
        "id": "L3JhK2sK-n42",
        "colab_type": "code",
        "outputId": "e91ed46a-1705-4f59-a1db-badb42828549",
        "colab": {
          "base_uri": "https://localhost:8080/",
          "height": 224
        }
      },
      "cell_type": "code",
      "source": [
        "not_reg_jur(jur_lines)"
      ],
      "execution_count": 0,
      "outputs": [
        {
          "output_type": "execute_result",
          "data": {
            "text/plain": [
              "['Иванов М.С. осознает характер и последствия заявленного им ходатайства. Данное ходатайство заявлено им добровольно и после проведения консультации с защитником.\\n',\n",
              " 'за оконченное преступление - от максимального срока наиболее строгого вида наказания, предусмотренного за совершенное преступление санкцией соответствующей статьи;\\n',\n",
              " 'По смыслу закона в пользу подсудимого толкуются не только неустранимые сомнения в его виновности в целом, но и неустранимые сомнения, касающиеся отдельных эпизодов предъявленного обвинения, формы вины, степени и характера участия в совершении преступления и.т.д. \\n',\n",
              " 'Обвинительный приговор постановляется лишь при условии, если в ходе судебного разбирательства виновность подсудимого в совершении преступления доказана.  \\\\jure\\n',\n",
              " 'Ни одно из доказательств, не имеет заранее установленной силы, а каждое доказательство должно быть исследовано и сопоставлено с остальными добытыми по делу объективными данными. \\n',\n",
              " 'Оценка доказательства с точки зрения достоверности предполагает, что явившиеся предметом показаний свидетеля обстоятельства, сообщенные им сведения, имеющие значение для дела, согласуются между собой, и другими доказательствами по делу находя в них свое подтверждение и обоснование.  \\\\jure\\n',\n",
              " 'дознания, органов предварительного следствия или суда, в зависимости от сложности уголовного дела, утвержденного приказом Минюста РФ N 174, Минфина РФ N 122н от 5.09.2012 года составляет в 2013 году 550 рублей за один день участия. Следовательно, оплата труда адвоката Арчаковой В.С. и Усачевой С.Н. составляет 550 рублей. \\\\jure\\n',\n",
              " 'Настоящее уголовное дело относится к категории дел, по которому оплата адвоката, осуществляющего защиту интересов подсудимых в соответствии с п. 5 пп. 4 Порядка расчета оплаты труда адвоката, участвующего в качестве защитника в уголовном судопроизводстве по назначению органов дознания, органов предварительного следствия или суда, в зависимости от сложности уголовного дела, утвержденного приказом Минюста РФ N 174, Минфина РФ N 122н от 5.09.2012 года составляет 550 руб. за один день участия. Следовательно, оплата труда адвоката за семь дней участия составляет 3850 руб. \\\\jure\\n',\n",
              " 'Органам (должностным лицам), осуществляющим оперативно-розыскную деятельность, запрещается: подстрекать, склонять, побуждать в прямой или косвенной форме к совершению противоправных действий (провокация).\\n',\n",
              " 'При нарушении органом (должностным лицом), осуществляющим оперативно-розыскную деятельность, прав и законных интересов физических и юридических лиц вышестоящий орган, прокурор либо судья в соответствии с законодательством Российской Федерации обязаны принять меры по восстановлению этих прав и законных интересов, возмещению причиненного вреда.\\n',\n",
              " 'Под незаконным хранением без цели сбыта наркотических средств, психотропных веществ или их аналогов, растений, содержащих наркотические средства или психотропные вещества, либо их частей, содержащих наркотические средства или психотропные вещества, следует понимать действия лица, связанные с незаконным владением этими средствами или веществами, в том числе для личного потребления (содержание при себе, в помещении, тайнике и других местах). При этом не имеет значения, в течение какого времени лицо незаконно хранило наркотическое средство, психотропное вещество или их аналоги, растение, содержащее наркотические средства или психотропные вещества, либо его части, содержащие наркотические средства или психотропные вещества.\\n']"
            ]
          },
          "metadata": {
            "tags": []
          },
          "execution_count": 61
        }
      ]
    },
    {
      "metadata": {
        "id": "XXZ3hrRnw_8g",
        "colab_type": "code",
        "outputId": "78fd4844-45f9-4e0a-8178-9a1da076ca34",
        "colab": {
          "base_uri": "https://localhost:8080/",
          "height": 54
        }
      },
      "cell_type": "code",
      "source": [
        "df['main_part_no_tags'][5]"
      ],
      "execution_count": 0,
      "outputs": [
        {
          "output_type": "execute_result",
          "data": {
            "text/plain": [
              "'  Безруков О.В. совершил незаконное изготовление, хранение без цели сбыта наркотического средства в значительном размере при следующих обстоятельствах.  ДД.ММ.ГГГГ около 15 часов 00 минут Безруков О.В., реализуя умысел на незаконное изготовление и хранение наркотического средства, умышленно, не имея цели сбыта, приобрел необходимые для изготовления наркотического средства компоненты: кондитерский мак - в магазине «Р», расположенном по <адрес>, растворитель - в магазине «Б», расположенном по <адрес>  Продолжая свой преступный умысел, ДД.ММ.ГГГГ около 20 часов 30 минут Безруков О.В., находясь у себя дома по адресу: <адрес>, умышленно, с целью изготовления наркотического средства для личного потребления, путем <данные изъяты>, незаконно изготовил наркотическое средство — экстракт маковой соломы, массой сухого остатка не менее 4,10 грамм.  Данное наркотическое средство Безруков О.В. незаконно хранил при себе до 21 часов 40 минут ДД.ММ.ГГГГ, вплоть до того момента, пока не был задержан сотрудником полиции Отдела МВД России по <адрес> возле подъезда <адрес>, который в ходе осмотра места происшествия в присутствии двух понятых у Безрукова О.В. изъял пластиковую бутылку с наркотическим средством - экстрактом маковой соломы общей массы сухого остатка 4,10 грамм.    Экстракт маковой соломы включен в «Перечень наркотических средств, психотропных веществ и их прекурсоров подлежащих контролю в Российской Федерации», утвержденных Постановлением Правительства РФ от 30 июня 1998 г. № 681 и отнесен к наркотическому средству оборот которого в Российской Федерации запрещен в соответствии с законодательством РФ и международными договорами (Список 1 «Перечня... раздел «наркотические средства»).  Согласно постановления Правительства РФ от 01.10.2012 г. № 1002 «Об утверждении значительного, крупного и особо крупного размеров наркотических средств и психотропных веществ, а также значительного, крупного и особо крупного размеров для растений, содержащих наркотические средства или психотропные вещества, либо их частей, содержащих наркотические средства или психотропные вещества, для целей ст. 228, 228.1 и 229 и 229.1 УК РФ» экстракт маковой соломы массой 4,10 грамм относится к значительному размеру данного наркотического средства    В судебном заседании подсудимый Безруков О.В. поддержал заявленное ранее ходатайство о рассмотрении уголовного дела в особом порядке без проведения судебного разбирательства. В обоснование ходатайства указал, что после консультации с защитником он добровольно и осознанно изъявил желание о рассмотрении дела в особом порядке, с предъявленным обвинением согласен,  вину в совершении преступления признал полностью, с последствиями постановления приговора без проведения судебного разбирательства ознакомлен.  Защитник Басан И.Н. не возражала против удовлетворения заявленного ходатайства Безрукова О.В.  Государственный обвинитель не возражал против принятия судебного решения в отношении Безрукова О.В. в особом порядке без проведения судебного разбирательства.  Обвинение, с которым согласился подсудимый, обоснованно, подтверждается доказательствами, собранными по уголовному делу, виновность Безрукова О.В. в совершении указанного преступления полностью доказана. По делу соблюдены все условия для постановления приговора без проведения судебного разбирательства.  Исследование материалов уголовного дела произведено в пределах правил, установленных ст. 316 УПК РФ. Доказательства собраны в соответствии с нормами уголовно-процессуального кодекса, права и законные интересы подсудимого не нарушены.    Действия Безрукова О.В. суд квалифицирует по ч.1 ст.228 УК РФ - незаконные изготовление и хранение без цели сбыта наркотического средства, в значительном размере.  Как в ходе предварительного следствия, так и в судебном заседании Безруков О.В. вел себя адекватно, в связи, с чем не возникло оснований сомневаться в его психической полноценности, он, будучи вменяемым лицом, подлежит уголовной ответственности.  При назначении наказания суд учитывает положения статей 6, 60 УК РФ, согласно которым назначенное наказание должно быть справедливым, т.е. соответствовать характеру и степени общественной опасности преступления, обстоятельствам его совершения, личности виновного, также влияние назначенного наказания на исправление осужденного и на условия жизни его семьи.  Подсудимый по месту жительства характеризуется с <данные изъяты>  В качестве обстоятельств, смягчающих наказание Безрукова О.В. суд признает признание вины и раскаяние в содеянном, активное способствование раскрытию и расследованию преступлений, наличие заболеваний, имеет <данные изъяты>. Объяснение Безрукова О.В. от ДД.ММ.ГГГГ (л.д. №), данное сотрудникам полиции, следует признать явкой с повинной, поскольку подсудимый до возбуждения уголовного дела сообщил о совершенном им преступлении. При таких обстоятельствах суд явку с повинной учитывает как смягчающее наказание обстоятельство.  Обстоятельством, отягчающим наказание Безрукова О.В. суд признает рецидив преступлений.( по приговору от ДД.ММ.ГГГГ).  Из материалов дела следует, что Безруков О.В приговором мирового судьи судебного участка <адрес> ДД.ММ.ГГГГ осужден по ч. 1 ст. 158 УК РФ, ч.1 ст. 158 УК РФ с применением ч.2 ст. 69 УК РФ к 7 месяцам лишения свободы условно с испытательным сроком на 1 год 6 месяцев.  В период испытательного срока Безруков О.В. совершил умышленное преступление небольшой тяжести.  По сведениям начальника филиала по <адрес> ФКУ УИИ ГУФСИН России по <адрес> Безруков О.В. состоит на учете в инспекции с ДД.ММ.ГГГГ, окончание условно-испытательного срока ДД.ММ.ГГГГ.  Инспектор ФКУ УИИ ГУФСИН России по РБ С. охарактеризовал Безрукова О.В. с отрицательной стороны, отметив, что он допускает нарушения отбывания наказания, за что постановлением <адрес> районного суда от ДД.ММ.ГГГГ условно испытательный срок продлен на 1 месяц.  Принимая во внимание, что Безруков О.В. в период испытательного срока не пожелал своим поведением доказать свое исправление, совершил умышленное преступление, имеет нарушения порядка отбывания наказания, с учетом данных о его личности, характера и степени общественной опасности совершенного им преступления суд, согласно положениям ч.4 ст.74 УК РФ, считает необходимым условное осуждение по приговору от ДД.ММ.ГГГГ отменить и назначить наказание по правилам ч.1 ст.70 УК РФ- по совокупности приговоров.  В целях восстановления социальной справедливости, исправления подсудимого и предупреждения совершения им новых преступлений, суд считает необходимым Безрукову О.В. назначить наказание в пределах санкции вменяемой статьи УК РФ в виде лишения свободы. Основания для назначения подсудимому наказания, исходя из положений ст.ст.64, ч.3 ст. 68, 73 УК РФ отсутствуют, ибо такой вид наказания не сможет обеспечить достижения целей наказания.  Правовых оснований для назначения наказания с применением положений ст. 82, ст. 82.1 УК РФ и освобождения от наказания по основанию ст. 81 УК РФ суд не усматривает.  С учетом обстоятельств совершенного Безруковым О.В. преступления и степени его общественной опасности, суд не находит оснований для изменения категории преступления в порядке ч. 6 ст. 15 УК РФ в редакции Федерального закона от 07.12.2011г.  В соответствии с п. «в» ч. 1 ст. 58 УК РФ отбывание наказания Безрукову О.В. должно быть назначено в исправительной колонии строгого режима.  Судьбу вещественных доказательств, суд, считает необходимым разрешить в соответствии с требованиями ст.81 УПК РФ.   На основании изложенного, руководствуясь ст. 316 УПК РФ, суд,  ПРИГОВОРИЛ: '"
            ]
          },
          "metadata": {
            "tags": []
          },
          "execution_count": 34
        }
      ]
    },
    {
      "metadata": {
        "id": "DOIKw-8tgTaE",
        "colab_type": "code",
        "outputId": "da756539-080c-46bb-acf3-6ab25ee7c6b4",
        "colab": {
          "base_uri": "https://localhost:8080/",
          "height": 1608
        }
      },
      "cell_type": "code",
      "source": [
        "# Обучаем FastText\n",
        "import gensim\n",
        "fast_text = gensim.models.FastText([str(text).split() for text in df.main_part_no_tags.apply(normalize)], size=50, min_n=2, max_n=6)"
      ],
      "execution_count": 0,
      "outputs": [
        {
          "output_type": "error",
          "ename": "KeyboardInterrupt",
          "evalue": "ignored",
          "traceback": [
            "\u001b[0;31m---------------------------------------------------------------------------\u001b[0m",
            "\u001b[0;31mKeyboardInterrupt\u001b[0m                         Traceback (most recent call last)",
            "\u001b[0;32m<ipython-input-35-11d92f10a676>\u001b[0m in \u001b[0;36m<module>\u001b[0;34m()\u001b[0m\n\u001b[1;32m      1\u001b[0m \u001b[0;32mimport\u001b[0m \u001b[0mgensim\u001b[0m\u001b[0;34m\u001b[0m\u001b[0;34m\u001b[0m\u001b[0m\n\u001b[0;32m----> 2\u001b[0;31m \u001b[0mfast_text\u001b[0m \u001b[0;34m=\u001b[0m \u001b[0mgensim\u001b[0m\u001b[0;34m.\u001b[0m\u001b[0mmodels\u001b[0m\u001b[0;34m.\u001b[0m\u001b[0mFastText\u001b[0m\u001b[0;34m(\u001b[0m\u001b[0;34m[\u001b[0m\u001b[0mstr\u001b[0m\u001b[0;34m(\u001b[0m\u001b[0mtext\u001b[0m\u001b[0;34m)\u001b[0m\u001b[0;34m.\u001b[0m\u001b[0msplit\u001b[0m\u001b[0;34m(\u001b[0m\u001b[0;34m)\u001b[0m \u001b[0;32mfor\u001b[0m \u001b[0mtext\u001b[0m \u001b[0;32min\u001b[0m \u001b[0mdf\u001b[0m\u001b[0;34m.\u001b[0m\u001b[0mmain_part_no_tags\u001b[0m\u001b[0;34m.\u001b[0m\u001b[0mapply\u001b[0m\u001b[0;34m(\u001b[0m\u001b[0mnormalize\u001b[0m\u001b[0;34m)\u001b[0m\u001b[0;34m]\u001b[0m\u001b[0;34m,\u001b[0m \u001b[0msize\u001b[0m\u001b[0;34m=\u001b[0m\u001b[0;36m50\u001b[0m\u001b[0;34m,\u001b[0m \u001b[0mmin_n\u001b[0m\u001b[0;34m=\u001b[0m\u001b[0;36m2\u001b[0m\u001b[0;34m,\u001b[0m \u001b[0mmax_n\u001b[0m\u001b[0;34m=\u001b[0m\u001b[0;36m6\u001b[0m\u001b[0;34m)\u001b[0m\u001b[0;34m\u001b[0m\u001b[0;34m\u001b[0m\u001b[0m\n\u001b[0m",
            "\u001b[0;32m/usr/local/lib/python3.6/dist-packages/pandas/core/series.py\u001b[0m in \u001b[0;36mapply\u001b[0;34m(self, func, convert_dtype, args, **kwds)\u001b[0m\n\u001b[1;32m   2549\u001b[0m             \u001b[0;32melse\u001b[0m\u001b[0;34m:\u001b[0m\u001b[0;34m\u001b[0m\u001b[0;34m\u001b[0m\u001b[0m\n\u001b[1;32m   2550\u001b[0m                 \u001b[0mvalues\u001b[0m \u001b[0;34m=\u001b[0m \u001b[0mself\u001b[0m\u001b[0;34m.\u001b[0m\u001b[0masobject\u001b[0m\u001b[0;34m\u001b[0m\u001b[0;34m\u001b[0m\u001b[0m\n\u001b[0;32m-> 2551\u001b[0;31m                 \u001b[0mmapped\u001b[0m \u001b[0;34m=\u001b[0m \u001b[0mlib\u001b[0m\u001b[0;34m.\u001b[0m\u001b[0mmap_infer\u001b[0m\u001b[0;34m(\u001b[0m\u001b[0mvalues\u001b[0m\u001b[0;34m,\u001b[0m \u001b[0mf\u001b[0m\u001b[0;34m,\u001b[0m \u001b[0mconvert\u001b[0m\u001b[0;34m=\u001b[0m\u001b[0mconvert_dtype\u001b[0m\u001b[0;34m)\u001b[0m\u001b[0;34m\u001b[0m\u001b[0;34m\u001b[0m\u001b[0m\n\u001b[0m\u001b[1;32m   2552\u001b[0m \u001b[0;34m\u001b[0m\u001b[0m\n\u001b[1;32m   2553\u001b[0m         \u001b[0;32mif\u001b[0m \u001b[0mlen\u001b[0m\u001b[0;34m(\u001b[0m\u001b[0mmapped\u001b[0m\u001b[0;34m)\u001b[0m \u001b[0;32mand\u001b[0m \u001b[0misinstance\u001b[0m\u001b[0;34m(\u001b[0m\u001b[0mmapped\u001b[0m\u001b[0;34m[\u001b[0m\u001b[0;36m0\u001b[0m\u001b[0;34m]\u001b[0m\u001b[0;34m,\u001b[0m \u001b[0mSeries\u001b[0m\u001b[0;34m)\u001b[0m\u001b[0;34m:\u001b[0m\u001b[0;34m\u001b[0m\u001b[0;34m\u001b[0m\u001b[0m\n",
            "\u001b[0;32mpandas/_libs/src/inference.pyx\u001b[0m in \u001b[0;36mpandas._libs.lib.map_infer\u001b[0;34m()\u001b[0m\n",
            "\u001b[0;32m<ipython-input-17-2906680e5d56>\u001b[0m in \u001b[0;36mnormalize\u001b[0;34m(text)\u001b[0m\n\u001b[1;32m     10\u001b[0m       \u001b[0mwords\u001b[0m \u001b[0;34m=\u001b[0m \u001b[0;34m[\u001b[0m\u001b[0mword\u001b[0m\u001b[0;34m.\u001b[0m\u001b[0mstrip\u001b[0m\u001b[0;34m(\u001b[0m\u001b[0mpunct\u001b[0m\u001b[0;34m)\u001b[0m \u001b[0;32mfor\u001b[0m \u001b[0mword\u001b[0m \u001b[0;32min\u001b[0m \u001b[0mtext\u001b[0m\u001b[0;34m.\u001b[0m\u001b[0mlower\u001b[0m\u001b[0;34m(\u001b[0m\u001b[0;34m)\u001b[0m\u001b[0;34m.\u001b[0m\u001b[0msplit\u001b[0m\u001b[0;34m(\u001b[0m\u001b[0;34m)\u001b[0m\u001b[0;34m]\u001b[0m\u001b[0;34m\u001b[0m\u001b[0;34m\u001b[0m\u001b[0m\n\u001b[1;32m     11\u001b[0m       \u001b[0mwords\u001b[0m \u001b[0;34m=\u001b[0m \u001b[0;34m[\u001b[0m\u001b[0mword\u001b[0m \u001b[0;32mfor\u001b[0m \u001b[0mword\u001b[0m \u001b[0;32min\u001b[0m \u001b[0mwords\u001b[0m \u001b[0;32mif\u001b[0m \u001b[0mword\u001b[0m \u001b[0;32mand\u001b[0m \u001b[0mword\u001b[0m \u001b[0;32mnot\u001b[0m \u001b[0;32min\u001b[0m \u001b[0mstops\u001b[0m\u001b[0;34m]\u001b[0m\u001b[0;34m\u001b[0m\u001b[0;34m\u001b[0m\u001b[0m\n\u001b[0;32m---> 12\u001b[0;31m       \u001b[0mwords\u001b[0m \u001b[0;34m=\u001b[0m \u001b[0;34m[\u001b[0m\u001b[0mmorph\u001b[0m\u001b[0;34m.\u001b[0m\u001b[0mparse\u001b[0m\u001b[0;34m(\u001b[0m\u001b[0mword\u001b[0m\u001b[0;34m)\u001b[0m\u001b[0;34m[\u001b[0m\u001b[0;36m0\u001b[0m\u001b[0;34m]\u001b[0m\u001b[0;34m.\u001b[0m\u001b[0mnormal_form\u001b[0m \u001b[0;32mfor\u001b[0m \u001b[0mword\u001b[0m \u001b[0;32min\u001b[0m \u001b[0mwords\u001b[0m \u001b[0;32mif\u001b[0m \u001b[0mword\u001b[0m \u001b[0;32mand\u001b[0m \u001b[0mword\u001b[0m \u001b[0;32mnot\u001b[0m \u001b[0;32min\u001b[0m \u001b[0mstops\u001b[0m\u001b[0;34m]\u001b[0m\u001b[0;34m\u001b[0m\u001b[0;34m\u001b[0m\u001b[0m\n\u001b[0m\u001b[1;32m     13\u001b[0m \u001b[0;34m\u001b[0m\u001b[0m\n\u001b[1;32m     14\u001b[0m       \u001b[0;32mreturn\u001b[0m \u001b[0mwords\u001b[0m\u001b[0;34m\u001b[0m\u001b[0;34m\u001b[0m\u001b[0m\n",
            "\u001b[0;32m<ipython-input-17-2906680e5d56>\u001b[0m in \u001b[0;36m<listcomp>\u001b[0;34m(.0)\u001b[0m\n\u001b[1;32m     10\u001b[0m       \u001b[0mwords\u001b[0m \u001b[0;34m=\u001b[0m \u001b[0;34m[\u001b[0m\u001b[0mword\u001b[0m\u001b[0;34m.\u001b[0m\u001b[0mstrip\u001b[0m\u001b[0;34m(\u001b[0m\u001b[0mpunct\u001b[0m\u001b[0;34m)\u001b[0m \u001b[0;32mfor\u001b[0m \u001b[0mword\u001b[0m \u001b[0;32min\u001b[0m \u001b[0mtext\u001b[0m\u001b[0;34m.\u001b[0m\u001b[0mlower\u001b[0m\u001b[0;34m(\u001b[0m\u001b[0;34m)\u001b[0m\u001b[0;34m.\u001b[0m\u001b[0msplit\u001b[0m\u001b[0;34m(\u001b[0m\u001b[0;34m)\u001b[0m\u001b[0;34m]\u001b[0m\u001b[0;34m\u001b[0m\u001b[0;34m\u001b[0m\u001b[0m\n\u001b[1;32m     11\u001b[0m       \u001b[0mwords\u001b[0m \u001b[0;34m=\u001b[0m \u001b[0;34m[\u001b[0m\u001b[0mword\u001b[0m \u001b[0;32mfor\u001b[0m \u001b[0mword\u001b[0m \u001b[0;32min\u001b[0m \u001b[0mwords\u001b[0m \u001b[0;32mif\u001b[0m \u001b[0mword\u001b[0m \u001b[0;32mand\u001b[0m \u001b[0mword\u001b[0m \u001b[0;32mnot\u001b[0m \u001b[0;32min\u001b[0m \u001b[0mstops\u001b[0m\u001b[0;34m]\u001b[0m\u001b[0;34m\u001b[0m\u001b[0;34m\u001b[0m\u001b[0m\n\u001b[0;32m---> 12\u001b[0;31m       \u001b[0mwords\u001b[0m \u001b[0;34m=\u001b[0m \u001b[0;34m[\u001b[0m\u001b[0mmorph\u001b[0m\u001b[0;34m.\u001b[0m\u001b[0mparse\u001b[0m\u001b[0;34m(\u001b[0m\u001b[0mword\u001b[0m\u001b[0;34m)\u001b[0m\u001b[0;34m[\u001b[0m\u001b[0;36m0\u001b[0m\u001b[0;34m]\u001b[0m\u001b[0;34m.\u001b[0m\u001b[0mnormal_form\u001b[0m \u001b[0;32mfor\u001b[0m \u001b[0mword\u001b[0m \u001b[0;32min\u001b[0m \u001b[0mwords\u001b[0m \u001b[0;32mif\u001b[0m \u001b[0mword\u001b[0m \u001b[0;32mand\u001b[0m \u001b[0mword\u001b[0m \u001b[0;32mnot\u001b[0m \u001b[0;32min\u001b[0m \u001b[0mstops\u001b[0m\u001b[0;34m]\u001b[0m\u001b[0;34m\u001b[0m\u001b[0;34m\u001b[0m\u001b[0m\n\u001b[0m\u001b[1;32m     13\u001b[0m \u001b[0;34m\u001b[0m\u001b[0m\n\u001b[1;32m     14\u001b[0m       \u001b[0;32mreturn\u001b[0m \u001b[0mwords\u001b[0m\u001b[0;34m\u001b[0m\u001b[0;34m\u001b[0m\u001b[0m\n",
            "\u001b[0;32m/usr/local/lib/python3.6/dist-packages/pymorphy2/analyzer.py\u001b[0m in \u001b[0;36mparse\u001b[0;34m(self, word)\u001b[0m\n\u001b[1;32m    243\u001b[0m                 \u001b[0;32mbreak\u001b[0m\u001b[0;34m\u001b[0m\u001b[0;34m\u001b[0m\u001b[0m\n\u001b[1;32m    244\u001b[0m \u001b[0;34m\u001b[0m\u001b[0m\n\u001b[0;32m--> 245\u001b[0;31m         \u001b[0mres\u001b[0m \u001b[0;34m=\u001b[0m \u001b[0mself\u001b[0m\u001b[0;34m.\u001b[0m\u001b[0mprob_estimator\u001b[0m\u001b[0;34m.\u001b[0m\u001b[0mapply_to_parses\u001b[0m\u001b[0;34m(\u001b[0m\u001b[0mword\u001b[0m\u001b[0;34m,\u001b[0m \u001b[0mword_lower\u001b[0m\u001b[0;34m,\u001b[0m \u001b[0mres\u001b[0m\u001b[0;34m)\u001b[0m\u001b[0;34m\u001b[0m\u001b[0;34m\u001b[0m\u001b[0m\n\u001b[0m\u001b[1;32m    246\u001b[0m \u001b[0;34m\u001b[0m\u001b[0m\n\u001b[1;32m    247\u001b[0m         \u001b[0;32mif\u001b[0m \u001b[0mself\u001b[0m\u001b[0;34m.\u001b[0m\u001b[0m_result_type\u001b[0m \u001b[0;32mis\u001b[0m \u001b[0;32mNone\u001b[0m\u001b[0;34m:\u001b[0m\u001b[0;34m\u001b[0m\u001b[0;34m\u001b[0m\u001b[0m\n",
            "\u001b[0;32m/usr/local/lib/python3.6/dist-packages/pymorphy2/analyzer.py\u001b[0m in \u001b[0;36mapply_to_parses\u001b[0;34m(self, word, word_lower, parses)\u001b[0m\n\u001b[1;32m     70\u001b[0m \u001b[0;34m\u001b[0m\u001b[0m\n\u001b[1;32m     71\u001b[0m         probs = [self.p_t_given_w.prob(word_lower, tag)\n\u001b[0;32m---> 72\u001b[0;31m                 for (word, tag, normal_form, score, methods_stack) in parses]\n\u001b[0m\u001b[1;32m     73\u001b[0m \u001b[0;34m\u001b[0m\u001b[0m\n\u001b[1;32m     74\u001b[0m         \u001b[0;32mif\u001b[0m \u001b[0msum\u001b[0m\u001b[0;34m(\u001b[0m\u001b[0mprobs\u001b[0m\u001b[0;34m)\u001b[0m \u001b[0;34m==\u001b[0m \u001b[0;36m0\u001b[0m\u001b[0;34m:\u001b[0m\u001b[0;34m\u001b[0m\u001b[0;34m\u001b[0m\u001b[0m\n",
            "\u001b[0;32m/usr/local/lib/python3.6/dist-packages/pymorphy2/analyzer.py\u001b[0m in \u001b[0;36m<listcomp>\u001b[0;34m(.0)\u001b[0m\n\u001b[1;32m     70\u001b[0m \u001b[0;34m\u001b[0m\u001b[0m\n\u001b[1;32m     71\u001b[0m         probs = [self.p_t_given_w.prob(word_lower, tag)\n\u001b[0;32m---> 72\u001b[0;31m                 for (word, tag, normal_form, score, methods_stack) in parses]\n\u001b[0m\u001b[1;32m     73\u001b[0m \u001b[0;34m\u001b[0m\u001b[0m\n\u001b[1;32m     74\u001b[0m         \u001b[0;32mif\u001b[0m \u001b[0msum\u001b[0m\u001b[0;34m(\u001b[0m\u001b[0mprobs\u001b[0m\u001b[0;34m)\u001b[0m \u001b[0;34m==\u001b[0m \u001b[0;36m0\u001b[0m\u001b[0;34m:\u001b[0m\u001b[0;34m\u001b[0m\u001b[0;34m\u001b[0m\u001b[0m\n",
            "\u001b[0;32m/usr/local/lib/python3.6/dist-packages/pymorphy2/dawg.py\u001b[0m in \u001b[0;36mprob\u001b[0;34m(self, word, tag)\u001b[0m\n\u001b[1;32m     63\u001b[0m     \u001b[0;32mdef\u001b[0m \u001b[0mprob\u001b[0m\u001b[0;34m(\u001b[0m\u001b[0mself\u001b[0m\u001b[0;34m,\u001b[0m \u001b[0mword\u001b[0m\u001b[0;34m,\u001b[0m \u001b[0mtag\u001b[0m\u001b[0;34m)\u001b[0m\u001b[0;34m:\u001b[0m\u001b[0;34m\u001b[0m\u001b[0;34m\u001b[0m\u001b[0m\n\u001b[1;32m     64\u001b[0m         \u001b[0mdawg_key\u001b[0m \u001b[0;34m=\u001b[0m \u001b[0;34m\"%s:%s\"\u001b[0m \u001b[0;34m%\u001b[0m \u001b[0;34m(\u001b[0m\u001b[0mword\u001b[0m\u001b[0;34m,\u001b[0m \u001b[0mtag\u001b[0m\u001b[0;34m)\u001b[0m\u001b[0;34m\u001b[0m\u001b[0;34m\u001b[0m\u001b[0m\n\u001b[0;32m---> 65\u001b[0;31m         \u001b[0;32mreturn\u001b[0m \u001b[0mself\u001b[0m\u001b[0;34m.\u001b[0m\u001b[0mget\u001b[0m\u001b[0;34m(\u001b[0m\u001b[0mdawg_key\u001b[0m\u001b[0;34m,\u001b[0m \u001b[0;36m0\u001b[0m\u001b[0;34m)\u001b[0m \u001b[0;34m/\u001b[0m \u001b[0mself\u001b[0m\u001b[0;34m.\u001b[0m\u001b[0mMULTIPLIER\u001b[0m\u001b[0;34m\u001b[0m\u001b[0;34m\u001b[0m\u001b[0m\n\u001b[0m",
            "\u001b[0;32m/usr/local/lib/python3.6/dist-packages/dawg_python/dawgs.py\u001b[0m in \u001b[0;36mget\u001b[0;34m(self, key, default)\u001b[0m\n\u001b[1;32m    451\u001b[0m         \u001b[0;32mif\u001b[0m \u001b[0;32mnot\u001b[0m \u001b[0misinstance\u001b[0m\u001b[0;34m(\u001b[0m\u001b[0mkey\u001b[0m\u001b[0;34m,\u001b[0m \u001b[0mbytes\u001b[0m\u001b[0;34m)\u001b[0m\u001b[0;34m:\u001b[0m\u001b[0;34m\u001b[0m\u001b[0;34m\u001b[0m\u001b[0m\n\u001b[1;32m    452\u001b[0m             \u001b[0mkey\u001b[0m \u001b[0;34m=\u001b[0m \u001b[0mkey\u001b[0m\u001b[0;34m.\u001b[0m\u001b[0mencode\u001b[0m\u001b[0;34m(\u001b[0m\u001b[0;34m'utf8'\u001b[0m\u001b[0;34m)\u001b[0m\u001b[0;34m\u001b[0m\u001b[0;34m\u001b[0m\u001b[0m\n\u001b[0;32m--> 453\u001b[0;31m         \u001b[0mres\u001b[0m \u001b[0;34m=\u001b[0m \u001b[0mself\u001b[0m\u001b[0;34m.\u001b[0m\u001b[0mb_get_value\u001b[0m\u001b[0;34m(\u001b[0m\u001b[0mkey\u001b[0m\u001b[0;34m)\u001b[0m\u001b[0;34m\u001b[0m\u001b[0;34m\u001b[0m\u001b[0m\n\u001b[0m\u001b[1;32m    454\u001b[0m         \u001b[0;32mif\u001b[0m \u001b[0mres\u001b[0m \u001b[0;34m==\u001b[0m \u001b[0mLOOKUP_ERROR\u001b[0m\u001b[0;34m:\u001b[0m\u001b[0;34m\u001b[0m\u001b[0;34m\u001b[0m\u001b[0m\n\u001b[1;32m    455\u001b[0m             \u001b[0;32mreturn\u001b[0m \u001b[0mdefault\u001b[0m\u001b[0;34m\u001b[0m\u001b[0;34m\u001b[0m\u001b[0m\n",
            "\u001b[0;32m/usr/local/lib/python3.6/dist-packages/dawg_python/dawgs.py\u001b[0m in \u001b[0;36mb_get_value\u001b[0;34m(self, key)\u001b[0m\n\u001b[1;32m    457\u001b[0m \u001b[0;34m\u001b[0m\u001b[0m\n\u001b[1;32m    458\u001b[0m     \u001b[0;32mdef\u001b[0m \u001b[0mb_get_value\u001b[0m\u001b[0;34m(\u001b[0m\u001b[0mself\u001b[0m\u001b[0;34m,\u001b[0m \u001b[0mkey\u001b[0m\u001b[0;34m)\u001b[0m\u001b[0;34m:\u001b[0m\u001b[0;34m\u001b[0m\u001b[0;34m\u001b[0m\u001b[0m\n\u001b[0;32m--> 459\u001b[0;31m         \u001b[0;32mreturn\u001b[0m \u001b[0mself\u001b[0m\u001b[0;34m.\u001b[0m\u001b[0mdct\u001b[0m\u001b[0;34m.\u001b[0m\u001b[0mfind\u001b[0m\u001b[0;34m(\u001b[0m\u001b[0mkey\u001b[0m\u001b[0;34m)\u001b[0m\u001b[0;34m\u001b[0m\u001b[0;34m\u001b[0m\u001b[0m\n\u001b[0m\u001b[1;32m    460\u001b[0m \u001b[0;34m\u001b[0m\u001b[0m\n\u001b[1;32m    461\u001b[0m \u001b[0;34m\u001b[0m\u001b[0m\n",
            "\u001b[0;32m/usr/local/lib/python3.6/dist-packages/dawg_python/wrapper.py\u001b[0m in \u001b[0;36mfind\u001b[0;34m(self, key)\u001b[0m\n\u001b[1;32m     42\u001b[0m     \u001b[0;32mdef\u001b[0m \u001b[0mfind\u001b[0m\u001b[0;34m(\u001b[0m\u001b[0mself\u001b[0m\u001b[0;34m,\u001b[0m \u001b[0mkey\u001b[0m\u001b[0;34m)\u001b[0m\u001b[0;34m:\u001b[0m\u001b[0;34m\u001b[0m\u001b[0;34m\u001b[0m\u001b[0m\n\u001b[1;32m     43\u001b[0m         \u001b[0;34m\"Exact matching (returns value)\"\u001b[0m\u001b[0;34m\u001b[0m\u001b[0;34m\u001b[0m\u001b[0m\n\u001b[0;32m---> 44\u001b[0;31m         \u001b[0mindex\u001b[0m \u001b[0;34m=\u001b[0m \u001b[0mself\u001b[0m\u001b[0;34m.\u001b[0m\u001b[0mfollow_bytes\u001b[0m\u001b[0;34m(\u001b[0m\u001b[0mkey\u001b[0m\u001b[0;34m,\u001b[0m \u001b[0mself\u001b[0m\u001b[0;34m.\u001b[0m\u001b[0mROOT\u001b[0m\u001b[0;34m)\u001b[0m\u001b[0;34m\u001b[0m\u001b[0;34m\u001b[0m\u001b[0m\n\u001b[0m\u001b[1;32m     45\u001b[0m         \u001b[0;32mif\u001b[0m \u001b[0mindex\u001b[0m \u001b[0;32mis\u001b[0m \u001b[0;32mNone\u001b[0m\u001b[0;34m:\u001b[0m\u001b[0;34m\u001b[0m\u001b[0;34m\u001b[0m\u001b[0m\n\u001b[1;32m     46\u001b[0m             \u001b[0;32mreturn\u001b[0m \u001b[0;34m-\u001b[0m\u001b[0;36m1\u001b[0m\u001b[0;34m\u001b[0m\u001b[0;34m\u001b[0m\u001b[0m\n",
            "\u001b[0;32m/usr/local/lib/python3.6/dist-packages/dawg_python/wrapper.py\u001b[0m in \u001b[0;36mfollow_bytes\u001b[0;34m(self, s, index)\u001b[0m\n\u001b[1;32m     62\u001b[0m         \u001b[0;34m\"Follows transitions.\"\u001b[0m\u001b[0;34m\u001b[0m\u001b[0;34m\u001b[0m\u001b[0m\n\u001b[1;32m     63\u001b[0m         \u001b[0;32mfor\u001b[0m \u001b[0mch\u001b[0m \u001b[0;32min\u001b[0m \u001b[0ms\u001b[0m\u001b[0;34m:\u001b[0m\u001b[0;34m\u001b[0m\u001b[0;34m\u001b[0m\u001b[0m\n\u001b[0;32m---> 64\u001b[0;31m             \u001b[0mindex\u001b[0m \u001b[0;34m=\u001b[0m \u001b[0mself\u001b[0m\u001b[0;34m.\u001b[0m\u001b[0mfollow_char\u001b[0m\u001b[0;34m(\u001b[0m\u001b[0mint_from_byte\u001b[0m\u001b[0;34m(\u001b[0m\u001b[0mch\u001b[0m\u001b[0;34m)\u001b[0m\u001b[0;34m,\u001b[0m \u001b[0mindex\u001b[0m\u001b[0;34m)\u001b[0m\u001b[0;34m\u001b[0m\u001b[0;34m\u001b[0m\u001b[0m\n\u001b[0m\u001b[1;32m     65\u001b[0m             \u001b[0;32mif\u001b[0m \u001b[0mindex\u001b[0m \u001b[0;32mis\u001b[0m \u001b[0;32mNone\u001b[0m\u001b[0;34m:\u001b[0m\u001b[0;34m\u001b[0m\u001b[0;34m\u001b[0m\u001b[0m\n\u001b[1;32m     66\u001b[0m                 \u001b[0;32mreturn\u001b[0m \u001b[0;32mNone\u001b[0m\u001b[0;34m\u001b[0m\u001b[0;34m\u001b[0m\u001b[0m\n",
            "\u001b[0;32m/usr/local/lib/python3.6/dist-packages/dawg_python/wrapper.py\u001b[0m in \u001b[0;36mfollow_char\u001b[0;34m(self, label, index)\u001b[0m\n\u001b[1;32m     51\u001b[0m     \u001b[0;32mdef\u001b[0m \u001b[0mfollow_char\u001b[0m\u001b[0;34m(\u001b[0m\u001b[0mself\u001b[0m\u001b[0;34m,\u001b[0m \u001b[0mlabel\u001b[0m\u001b[0;34m,\u001b[0m \u001b[0mindex\u001b[0m\u001b[0;34m)\u001b[0m\u001b[0;34m:\u001b[0m\u001b[0;34m\u001b[0m\u001b[0;34m\u001b[0m\u001b[0m\n\u001b[1;32m     52\u001b[0m         \u001b[0;34m\"Follows a transition\"\u001b[0m\u001b[0;34m\u001b[0m\u001b[0;34m\u001b[0m\u001b[0m\n\u001b[0;32m---> 53\u001b[0;31m         \u001b[0moffset\u001b[0m \u001b[0;34m=\u001b[0m \u001b[0munits\u001b[0m\u001b[0;34m.\u001b[0m\u001b[0moffset\u001b[0m\u001b[0;34m(\u001b[0m\u001b[0mself\u001b[0m\u001b[0;34m.\u001b[0m\u001b[0m_units\u001b[0m\u001b[0;34m[\u001b[0m\u001b[0mindex\u001b[0m\u001b[0;34m]\u001b[0m\u001b[0;34m)\u001b[0m\u001b[0;34m\u001b[0m\u001b[0;34m\u001b[0m\u001b[0m\n\u001b[0m\u001b[1;32m     54\u001b[0m         \u001b[0mnext_index\u001b[0m \u001b[0;34m=\u001b[0m \u001b[0;34m(\u001b[0m\u001b[0mindex\u001b[0m \u001b[0;34m^\u001b[0m \u001b[0moffset\u001b[0m \u001b[0;34m^\u001b[0m \u001b[0mlabel\u001b[0m\u001b[0;34m)\u001b[0m \u001b[0;34m&\u001b[0m \u001b[0munits\u001b[0m\u001b[0;34m.\u001b[0m\u001b[0mPRECISION_MASK\u001b[0m\u001b[0;34m\u001b[0m\u001b[0;34m\u001b[0m\u001b[0m\n\u001b[1;32m     55\u001b[0m \u001b[0;34m\u001b[0m\u001b[0m\n",
            "\u001b[0;31mKeyboardInterrupt\u001b[0m: "
          ]
        }
      ]
    },
    {
      "metadata": {
        "id": "io21ehSvzx_k",
        "colab_type": "code",
        "colab": {}
      },
      "cell_type": "code",
      "source": [
        "from collections import Counter\n",
        "import numpy as np\n",
        "\n",
        "def get_sent_emb(text):\n",
        "    \n",
        "    # чтобы не доставать одно слово несколько раз\n",
        "    # сделаем счетчик, а потом векторы домножим на частоту\n",
        "    words = Counter(text)\n",
        "    total = len(text)\n",
        "    vectors = np.zeros((len(words), 50))\n",
        "    \n",
        "    for i,word in enumerate(words):\n",
        "        try:\n",
        "            v = fast_text[word]\n",
        "            vectors[i] = v*(words[word]/total) # просто умножаем вектор на частоту\n",
        "        except (KeyError, ValueError):\n",
        "            continue\n",
        "    \n",
        "    if vectors.any():\n",
        "        vector = np.average(vectors, axis=0)\n",
        "    else:\n",
        "        vector = np.zeros((50))\n",
        "    \n",
        "    return vector"
      ],
      "execution_count": 0,
      "outputs": []
    },
    {
      "metadata": {
        "id": "w2rXzB6bksHG",
        "colab_type": "code",
        "colab": {}
      },
      "cell_type": "code",
      "source": [
        "def get_embs(text):\n",
        "    embs = []\n",
        "    for sent in text:\n",
        "      #emb = get_sentence_embedding(sent)\n",
        "      emb = get_sent_emb(sent)\n",
        "      embs.append(emb)\n",
        "    return embs\n",
        "  \n",
        "df['sentences_embs'] = df['sentences_spl'].apply(get_embs)"
      ],
      "execution_count": 0,
      "outputs": []
    },
    {
      "metadata": {
        "id": "CoZ0OqxQrbXd",
        "colab_type": "code",
        "colab": {}
      },
      "cell_type": "code",
      "source": [
        "# Функция для склеивания предложений в абзацы по cosine similarity эмбеддингов\n",
        "\n",
        "from sklearn.metrics.pairwise import cosine_similarity\n",
        "\n",
        "# Test data\n",
        "# lines_list = ['Ненавижу комплинг!', 'Ненавижу практиколы!', 'Что, где, когда?', 'По вечерам у меня светские мероприятия.']\n",
        "# lines_embs = np.array([[1, 2, 3, 4], [1, 2, 3, 5], [0, 0, 0, 0], [0, 0, 0, 0]])\n",
        "\n",
        "\n",
        "def concatenate_similar_sentences(lines, embs):\n",
        "  \"\"\"\n",
        "  Cчитает косинусную меру сходства между 1-ым и 2-м предложением текста, 2-м и 3-м и так далее.\n",
        "  Берет некоторый порог и если cosine similarity выше этого порога - объединяет предложения в один абзац.\n",
        "  Возвращает список абзацев.\n",
        "  \"\"\"\n",
        "  \"\"\"parts = []\n",
        "  for l, e in zip(lines, embs):\n",
        "    cur_part = l[0]\n",
        "    for i in range(len(e)-1):\n",
        "      sim = cosine_similarity(e[i].reshape(-1, 1), e[i+1].reshape(-1, 1))[0][0]\n",
        "      if sim >= 0.8:\n",
        "        cur_part = cur_part + ' ' + l[i+1]\n",
        "      else:\n",
        "        parts.append(cur_part)\n",
        "        cur_part = l[i+1]\n",
        "    parts.append(cur_part) \"\"\"\n",
        "  cur_part = lines[0]\n",
        "  parts = []\n",
        "  for i in range(len(embs)-1):\n",
        "    sim = cosine_similarity(embs[i].reshape(-1, 1), embs[i+1].reshape(-1, 1))[0][0]\n",
        "    if sim >= 0.8:\n",
        "      cur_part = cur_part + ' ' + lines[i+1]\n",
        "    else:\n",
        "      parts.append(cur_part)\n",
        "      cur_part = lines[i+1]\n",
        "  parts.append(cur_part)\n",
        "  return parts\n",
        " "
      ],
      "execution_count": 0,
      "outputs": []
    },
    {
      "metadata": {
        "id": "0mZGTPDE6tSI",
        "colab_type": "code",
        "colab": {}
      },
      "cell_type": "code",
      "source": [
        "res = []\n",
        "for text, emb in zip(df.sentences, df.sentences_embs):\n",
        "    parts = concatenate_similar_sentences(text, emb)\n",
        "    res.append(parts)"
      ],
      "execution_count": 0,
      "outputs": []
    },
    {
      "metadata": {
        "id": "mJanqynjoiYs",
        "colab_type": "code",
        "outputId": "39e34579-0077-4748-cb7f-d1d9aaf7733d",
        "colab": {
          "base_uri": "https://localhost:8080/",
          "height": 571
        }
      },
      "cell_type": "code",
      "source": [
        "# df['parts_emb'] = df.apply(concatenate_similar_sentences, lines=df['sentences'], embs=df['sentences_embs'])\n",
        "# df['parts_emb'] = df[['sentences', 'sentences_embs']].applymap(concatenate_similar_sentences)\n",
        "\n",
        "# норм рабочая версия apply для двух аргументов\n",
        "df['parts_emb'] = df.apply(lambda x: concatenate_similar_sentences(x.sentences, x.sentences_embs), axis=1)"
      ],
      "execution_count": 0,
      "outputs": [
        {
          "output_type": "error",
          "ename": "IndexError",
          "evalue": "ignored",
          "traceback": [
            "\u001b[0;31m---------------------------------------------------------------------------\u001b[0m",
            "\u001b[0;31mIndexError\u001b[0m                                Traceback (most recent call last)",
            "\u001b[0;32m<ipython-input-62-c5f33f4e3b8d>\u001b[0m in \u001b[0;36m<module>\u001b[0;34m()\u001b[0m\n\u001b[0;32m----> 1\u001b[0;31m \u001b[0mdf\u001b[0m\u001b[0;34m[\u001b[0m\u001b[0;34m'parts_emb'\u001b[0m\u001b[0;34m]\u001b[0m \u001b[0;34m=\u001b[0m \u001b[0mdf\u001b[0m\u001b[0;34m.\u001b[0m\u001b[0mapply\u001b[0m\u001b[0;34m(\u001b[0m\u001b[0;32mlambda\u001b[0m \u001b[0mx\u001b[0m\u001b[0;34m:\u001b[0m \u001b[0mconcatenate_similar_sentences\u001b[0m\u001b[0;34m(\u001b[0m\u001b[0mx\u001b[0m\u001b[0;34m.\u001b[0m\u001b[0msentences\u001b[0m\u001b[0;34m,\u001b[0m \u001b[0mx\u001b[0m\u001b[0;34m.\u001b[0m\u001b[0msentences_embs\u001b[0m\u001b[0;34m)\u001b[0m\u001b[0;34m,\u001b[0m \u001b[0maxis\u001b[0m\u001b[0;34m=\u001b[0m\u001b[0;36m1\u001b[0m\u001b[0;34m)\u001b[0m\u001b[0;34m\u001b[0m\u001b[0;34m\u001b[0m\u001b[0m\n\u001b[0m",
            "\u001b[0;32m/usr/local/lib/python3.6/dist-packages/pandas/core/frame.py\u001b[0m in \u001b[0;36mapply\u001b[0;34m(self, func, axis, broadcast, raw, reduce, args, **kwds)\u001b[0m\n\u001b[1;32m   4875\u001b[0m                         \u001b[0mf\u001b[0m\u001b[0;34m,\u001b[0m \u001b[0maxis\u001b[0m\u001b[0;34m,\u001b[0m\u001b[0;34m\u001b[0m\u001b[0;34m\u001b[0m\u001b[0m\n\u001b[1;32m   4876\u001b[0m                         \u001b[0mreduce\u001b[0m\u001b[0;34m=\u001b[0m\u001b[0mreduce\u001b[0m\u001b[0;34m,\u001b[0m\u001b[0;34m\u001b[0m\u001b[0;34m\u001b[0m\u001b[0m\n\u001b[0;32m-> 4877\u001b[0;31m                         ignore_failures=ignore_failures)\n\u001b[0m\u001b[1;32m   4878\u001b[0m             \u001b[0;32melse\u001b[0m\u001b[0;34m:\u001b[0m\u001b[0;34m\u001b[0m\u001b[0;34m\u001b[0m\u001b[0m\n\u001b[1;32m   4879\u001b[0m                 \u001b[0;32mreturn\u001b[0m \u001b[0mself\u001b[0m\u001b[0;34m.\u001b[0m\u001b[0m_apply_broadcast\u001b[0m\u001b[0;34m(\u001b[0m\u001b[0mf\u001b[0m\u001b[0;34m,\u001b[0m \u001b[0maxis\u001b[0m\u001b[0;34m)\u001b[0m\u001b[0;34m\u001b[0m\u001b[0;34m\u001b[0m\u001b[0m\n",
            "\u001b[0;32m/usr/local/lib/python3.6/dist-packages/pandas/core/frame.py\u001b[0m in \u001b[0;36m_apply_standard\u001b[0;34m(self, func, axis, ignore_failures, reduce)\u001b[0m\n\u001b[1;32m   4971\u001b[0m             \u001b[0;32mtry\u001b[0m\u001b[0;34m:\u001b[0m\u001b[0;34m\u001b[0m\u001b[0;34m\u001b[0m\u001b[0m\n\u001b[1;32m   4972\u001b[0m                 \u001b[0;32mfor\u001b[0m \u001b[0mi\u001b[0m\u001b[0;34m,\u001b[0m \u001b[0mv\u001b[0m \u001b[0;32min\u001b[0m \u001b[0menumerate\u001b[0m\u001b[0;34m(\u001b[0m\u001b[0mseries_gen\u001b[0m\u001b[0;34m)\u001b[0m\u001b[0;34m:\u001b[0m\u001b[0;34m\u001b[0m\u001b[0;34m\u001b[0m\u001b[0m\n\u001b[0;32m-> 4973\u001b[0;31m                     \u001b[0mresults\u001b[0m\u001b[0;34m[\u001b[0m\u001b[0mi\u001b[0m\u001b[0;34m]\u001b[0m \u001b[0;34m=\u001b[0m \u001b[0mfunc\u001b[0m\u001b[0;34m(\u001b[0m\u001b[0mv\u001b[0m\u001b[0;34m)\u001b[0m\u001b[0;34m\u001b[0m\u001b[0;34m\u001b[0m\u001b[0m\n\u001b[0m\u001b[1;32m   4974\u001b[0m                     \u001b[0mkeys\u001b[0m\u001b[0;34m.\u001b[0m\u001b[0mappend\u001b[0m\u001b[0;34m(\u001b[0m\u001b[0mv\u001b[0m\u001b[0;34m.\u001b[0m\u001b[0mname\u001b[0m\u001b[0;34m)\u001b[0m\u001b[0;34m\u001b[0m\u001b[0;34m\u001b[0m\u001b[0m\n\u001b[1;32m   4975\u001b[0m             \u001b[0;32mexcept\u001b[0m \u001b[0mException\u001b[0m \u001b[0;32mas\u001b[0m \u001b[0me\u001b[0m\u001b[0;34m:\u001b[0m\u001b[0;34m\u001b[0m\u001b[0;34m\u001b[0m\u001b[0m\n",
            "\u001b[0;32m<ipython-input-62-c5f33f4e3b8d>\u001b[0m in \u001b[0;36m<lambda>\u001b[0;34m(x)\u001b[0m\n\u001b[0;32m----> 1\u001b[0;31m \u001b[0mdf\u001b[0m\u001b[0;34m[\u001b[0m\u001b[0;34m'parts_emb'\u001b[0m\u001b[0;34m]\u001b[0m \u001b[0;34m=\u001b[0m \u001b[0mdf\u001b[0m\u001b[0;34m.\u001b[0m\u001b[0mapply\u001b[0m\u001b[0;34m(\u001b[0m\u001b[0;32mlambda\u001b[0m \u001b[0mx\u001b[0m\u001b[0;34m:\u001b[0m \u001b[0mconcatenate_similar_sentences\u001b[0m\u001b[0;34m(\u001b[0m\u001b[0mx\u001b[0m\u001b[0;34m.\u001b[0m\u001b[0msentences\u001b[0m\u001b[0;34m,\u001b[0m \u001b[0mx\u001b[0m\u001b[0;34m.\u001b[0m\u001b[0msentences_embs\u001b[0m\u001b[0;34m)\u001b[0m\u001b[0;34m,\u001b[0m \u001b[0maxis\u001b[0m\u001b[0;34m=\u001b[0m\u001b[0;36m1\u001b[0m\u001b[0;34m)\u001b[0m\u001b[0;34m\u001b[0m\u001b[0;34m\u001b[0m\u001b[0m\n\u001b[0m",
            "\u001b[0;32m<ipython-input-61-aa8abe54c814>\u001b[0m in \u001b[0;36mconcatenate_similar_sentences\u001b[0;34m(lines, embs)\u001b[0m\n\u001b[1;32m     19\u001b[0m       \u001b[0msim\u001b[0m \u001b[0;34m=\u001b[0m \u001b[0mcosine_similarity\u001b[0m\u001b[0;34m(\u001b[0m\u001b[0me\u001b[0m\u001b[0;34m[\u001b[0m\u001b[0mi\u001b[0m\u001b[0;34m]\u001b[0m\u001b[0;34m.\u001b[0m\u001b[0mreshape\u001b[0m\u001b[0;34m(\u001b[0m\u001b[0;34m-\u001b[0m\u001b[0;36m1\u001b[0m\u001b[0;34m,\u001b[0m \u001b[0;36m1\u001b[0m\u001b[0;34m)\u001b[0m\u001b[0;34m,\u001b[0m \u001b[0me\u001b[0m\u001b[0;34m[\u001b[0m\u001b[0mi\u001b[0m\u001b[0;34m+\u001b[0m\u001b[0;36m1\u001b[0m\u001b[0;34m]\u001b[0m\u001b[0;34m.\u001b[0m\u001b[0mreshape\u001b[0m\u001b[0;34m(\u001b[0m\u001b[0;34m-\u001b[0m\u001b[0;36m1\u001b[0m\u001b[0;34m,\u001b[0m \u001b[0;36m1\u001b[0m\u001b[0;34m)\u001b[0m\u001b[0;34m)\u001b[0m\u001b[0;34m[\u001b[0m\u001b[0;36m0\u001b[0m\u001b[0;34m]\u001b[0m\u001b[0;34m[\u001b[0m\u001b[0;36m0\u001b[0m\u001b[0;34m]\u001b[0m\u001b[0;34m\u001b[0m\u001b[0;34m\u001b[0m\u001b[0m\n\u001b[1;32m     20\u001b[0m       \u001b[0;32mif\u001b[0m \u001b[0msim\u001b[0m \u001b[0;34m>=\u001b[0m \u001b[0;36m0.8\u001b[0m\u001b[0;34m:\u001b[0m\u001b[0;34m\u001b[0m\u001b[0;34m\u001b[0m\u001b[0m\n\u001b[0;32m---> 21\u001b[0;31m         \u001b[0mcur_part\u001b[0m \u001b[0;34m=\u001b[0m \u001b[0mcur_part\u001b[0m \u001b[0;34m+\u001b[0m \u001b[0;34m' '\u001b[0m \u001b[0;34m+\u001b[0m \u001b[0ml\u001b[0m\u001b[0;34m[\u001b[0m\u001b[0mi\u001b[0m\u001b[0;34m+\u001b[0m\u001b[0;36m1\u001b[0m\u001b[0;34m]\u001b[0m\u001b[0;34m\u001b[0m\u001b[0;34m\u001b[0m\u001b[0m\n\u001b[0m\u001b[1;32m     22\u001b[0m       \u001b[0;32melse\u001b[0m\u001b[0;34m:\u001b[0m\u001b[0;34m\u001b[0m\u001b[0;34m\u001b[0m\u001b[0m\n\u001b[1;32m     23\u001b[0m         \u001b[0mparts\u001b[0m\u001b[0;34m.\u001b[0m\u001b[0mappend\u001b[0m\u001b[0;34m(\u001b[0m\u001b[0mcur_part\u001b[0m\u001b[0;34m)\u001b[0m\u001b[0;34m\u001b[0m\u001b[0;34m\u001b[0m\u001b[0m\n",
            "\u001b[0;31mIndexError\u001b[0m: ('string index out of range', 'occurred at index 2')"
          ]
        }
      ]
    },
    {
      "metadata": {
        "id": "PTHg0DTg5M3B",
        "colab_type": "code",
        "colab": {}
      },
      "cell_type": "code",
      "source": [
        "# Функция для оценки качества деления на абзацы эмбеддингами предложений (спонсор - мишь нефедов)\n",
        "\n",
        "def evaluate(true_kws, predicted_kws):\n",
        "    assert len(true_kws) == len(predicted_kws)\n",
        "    \n",
        "    precisions = []\n",
        "    recalls = []\n",
        "    f1s = []\n",
        "    \n",
        "    for i in range(len(true_kws)):\n",
        "        true_kw = set(true_kws[i])\n",
        "        predicted_kw = set(predicted_kws[i])\n",
        "        \n",
        "        tp = len(true_kw & predicted_kw)\n",
        "        union = len(true_kw | predicted_kw)\n",
        "        fp = len(predicted_kw - true_kw)\n",
        "        fn = len(true_kw - predicted_kw)\n",
        "        \n",
        "        if (tp+fp) == 0:\n",
        "            prec = 0\n",
        "        else:\n",
        "            prec = tp / (tp + fp)\n",
        "        \n",
        "        if (tp+fn) == 0:\n",
        "            rec = 0\n",
        "        else:\n",
        "            rec = tp / (tp + fn)\n",
        "        if (prec+rec) == 0:\n",
        "            f1 = 0\n",
        "        else:\n",
        "            f1 = (2*(prec*rec))/(prec+rec)\n",
        "                    \n",
        "        precisions.append(prec)\n",
        "        recalls.append(rec)\n",
        "        f1s.append(f1)\n",
        "    print('Precision - ', round(np.mean(precisions), 2))\n",
        "    print('Recall - ', round(np.mean(recalls), 2))\n",
        "    print('F1 - ', round(np.mean(f1s), 2))"
      ],
      "execution_count": 0,
      "outputs": []
    },
    {
      "metadata": {
        "id": "arv4c9sf59yQ",
        "colab_type": "code",
        "colab": {}
      },
      "cell_type": "code",
      "source": [
        "# Модель эмбеддингов предложений ELMO/skip-thoughts"
      ],
      "execution_count": 0,
      "outputs": []
    },
    {
      "metadata": {
        "id": "aTC5pUwf6GKW",
        "colab_type": "code",
        "colab": {}
      },
      "cell_type": "code",
      "source": [
        "# Модель эмбеддингов предложений на основе усреднения эмбеддингов (w2v/Fasttext) для отдельных слов\n",
        "\n",
        "\n",
        "  \n"
      ],
      "execution_count": 0,
      "outputs": []
    },
    {
      "metadata": {
        "id": "0Jwpf-2EYoPs",
        "colab_type": "code",
        "colab": {}
      },
      "cell_type": "code",
      "source": [
        ""
      ],
      "execution_count": 0,
      "outputs": []
    },
    {
      "metadata": {
        "id": "bqIK81aM5zuY",
        "colab_type": "code",
        "colab": {}
      },
      "cell_type": "code",
      "source": [
        ""
      ],
      "execution_count": 0,
      "outputs": []
    },
    {
      "metadata": {
        "id": "OqaQ1_Tvt7_j",
        "colab_type": "code",
        "colab": {}
      },
      "cell_type": "code",
      "source": [
        ""
      ],
      "execution_count": 0,
      "outputs": []
    }
  ]
}