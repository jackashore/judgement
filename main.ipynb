{
 "cells": [
  {
   "cell_type": "markdown",
   "metadata": {},
   "source": [
    "Главный модуль обработки. Использует все модули, и собирает их в один пайплайн. "
   ]
  },
  {
   "cell_type": "code",
   "execution_count": 2,
   "metadata": {},
   "outputs": [
    {
     "name": "stdout",
     "output_type": "stream",
     "text": [
      "importing Jupyter notebook from names_hider.ipynb\n"
     ]
    }
   ],
   "source": [
    "import import_ipynb\n",
    "from preprocessing import preprocess\n",
    "from meta_extraction import get_meta_data\n",
    "from names_hider import hide_all_names"
   ]
  },
  {
   "cell_type": "code",
   "execution_count": 3,
   "metadata": {},
   "outputs": [],
   "source": [
    "def process_judgement(path):\n",
    "    text, base_meta_data = preprocess(path)\n",
    "    additional_meta_data = get_meta_data(text)\n",
    "#     merge_meta_data(base_meta_data, additional_meta_data) # нужно дописать\n",
    "    text_with_hidden_names = hide_all_names(text)\n",
    "    return text_with_hidden_names"
   ]
  },
  {
   "cell_type": "code",
   "execution_count": 1,
   "metadata": {},
   "outputs": [],
   "source": [
    "# process_judgement('belinskij-rajonnyj-sud-penzenskaya-oblast-263')"
   ]
  }
 ],
 "metadata": {
  "kernelspec": {
   "display_name": "Python 3",
   "language": "python",
   "name": "python3"
  },
  "language_info": {
   "codemirror_mode": {
    "name": "ipython",
    "version": 3
   },
   "file_extension": ".py",
   "mimetype": "text/x-python",
   "name": "python",
   "nbconvert_exporter": "python",
   "pygments_lexer": "ipython3",
   "version": "3.7.3"
  }
 },
 "nbformat": 4,
 "nbformat_minor": 2
}
