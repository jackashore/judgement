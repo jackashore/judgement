{
 "cells": [
  {
   "cell_type": "markdown",
   "metadata": {
    "colab_type": "text",
    "id": "view-in-github"
   },
   "source": [
    "<a href=\"https://colab.research.google.com/github/jackashore/judgement/blob/develop/Ngrams.ipynb\" target=\"_parent\"><img src=\"https://colab.research.google.com/assets/colab-badge.svg\" alt=\"Open In Colab\"/></a>"
   ]
  },
  {
   "cell_type": "code",
   "execution_count": 58,
   "metadata": {},
   "outputs": [],
   "source": [
    "import os\n",
    "import re\n",
    "import nltk\n",
    "import pandas as pd\n",
    "import random\n",
    "from bs4 import BeautifulSoup\n",
    "from string import punctuation\n",
    "from pymorphy2 import MorphAnalyzer\n",
    "from nltk.collocations import *\n",
    "from nltk.corpus import stopwords\n",
    "from nltk.util import everygrams\n",
    "\n",
    "stops = set(stopwords.words('russian'))\n",
    "punct = punctuation+'«»—…“”*№–).'\n",
    "morph = MorphAnalyzer()"
   ]
  },
  {
   "cell_type": "code",
   "execution_count": 3,
   "metadata": {
    "colab": {
     "base_uri": "https://localhost:8080/",
     "height": 68
    },
    "colab_type": "code",
    "id": "p3ERnzrZebr1",
    "outputId": "c11f1823-359e-4ae8-f0a2-79049fbf75b5"
   },
   "outputs": [],
   "source": [
    "# nltk.download('stopwords')"
   ]
  },
  {
   "cell_type": "code",
   "execution_count": 4,
   "metadata": {
    "colab": {},
    "colab_type": "code",
    "id": "TO1jFyK7aaOp"
   },
   "outputs": [],
   "source": [
    "court1 = pd.DataFrame()"
   ]
  },
  {
   "cell_type": "code",
   "execution_count": 22,
   "metadata": {
    "colab": {},
    "colab_type": "code",
    "id": "963ybMP14sGs"
   },
   "outputs": [],
   "source": [
    "# препроцессинг\n",
    "\n",
    "meta_data = {'court': '', 'judge': '', 'prosecutor': '', 'secretary': '', 'accused': '', 'result': '', 'category': '', \n",
    "            'punishment_type': '', 'punishment_term': ''}\n",
    "\n",
    "def parse_xml(path):   # парсим xml\n",
    "    with open(path, 'r', encoding='utf-8')as f:\n",
    "        soup = BeautifulSoup(f.read(), 'html.parser')\n",
    "        \n",
    "        meta_data['court'] = soup.court.string     # добавляем в метаданные то, что имеется в разметке\n",
    "        meta_data['judge'] = soup.judge.string\n",
    "        meta_data['result'] = soup.result.string\n",
    "        meta_data['category'] = soup.category.string\n",
    "        \n",
    "        html = []\n",
    "        for line in soup.body:\n",
    "            line = line.replace('[', '')\n",
    "            line = line.replace(']', '') \n",
    "            html.append(line)\n",
    "        true_html = ' '.join(html)\n",
    "                \n",
    "        html_soup = BeautifulSoup(true_html, 'html.parser')\n",
    "        return html_soup.get_text()\n",
    "    \n",
    "def get_parts(text):    # делим на части\n",
    "    lines = [line for line in text.split('\\n')]\n",
    "    beg, end = 0, 0 \n",
    "    for num, line in enumerate(lines):\n",
    "        if re.search(r'у\\s*с\\s*т\\s*а\\s*н\\s*о\\s*в\\s*и\\s*л', line.lower()):\n",
    "            beg = num + 1\n",
    "        \n",
    "        if re.search(r'п\\s*р\\s*и\\s*г\\s*о\\s*в\\s*о\\s*р\\s*и\\s*л', line.lower()) \\\n",
    "        or re.search(r'п\\s*о\\s*с\\s*т\\s*а\\s*н\\s*о\\s*в\\s*и\\s*л', line.lower()):\n",
    "        #if re.search(r'[приговорил ]{10,}', line.lower()) or re.search(r'[постановил ]{10,}', line.lower()):\n",
    "        #if 'приговорил' in line.lower() or 'п р и г о в о р и л' in line.lower() or 'постановил'\\\n",
    "         #in line.lower() or 'п о с т а н о в и л' in line.lower():\n",
    "            end = num + 1\n",
    "\n",
    "        if beg and end:\n",
    "            beginning = [stroka.strip() for stroka in lines[:beg]]\n",
    "            main_part = [stroka.strip() for stroka in lines[beg:end]]\n",
    "            ending = [stroka.strip() for stroka in lines[end:]]\n",
    "            return [' '.join(main_part), ' '.join(beginning), ' '.join(ending)]\n",
    "                \n",
    "        \n",
    "def clean(text):\n",
    "    pattern1 = re.compile(r'(п|ч|ст)(\\.|\\s|\\d)')             # обозначение статьи (пункт,часть,статья)\n",
    "    pattern2 = re.compile(r'((У|Г)П?К|КоАП|ПДД)\\sРФ')     # названия кодексов\n",
    "    pattern3 = re.compile('\\d')                            # цифры\n",
    "    pattern4 = re.compile('(ДД.ММ.ГГ|дд.мм.гг)')           # даты\n",
    "\n",
    "    text = re.sub(pattern1, ' ABBR ', text)\n",
    "    text = re.sub(pattern2, ' DOCUMENT ', text)\n",
    "    text = re.sub(pattern3, ' DIGIT ', text)\n",
    "    text = re.sub(pattern4, ' DATE ', text)\n",
    "    text = text.replace('\\xad', '')\n",
    "    text = text.replace('п р и г о в о р и л', '')\n",
    "    text = text.replace('п о с т а н о в и л', '')\n",
    "    text = text.replace('П Р И Г О В О Р И Л', '')\n",
    "    text = text.replace('П О С Т А Н О В И Л', '')\n",
    "    return text\n",
    "        \n",
    "def process_xml(path):\n",
    "    try:\n",
    "        return clean(get_parts(parse_xml(path))[0])\n",
    "    except TypeError:\n",
    "        return None"
   ]
  },
  {
   "cell_type": "code",
   "execution_count": 23,
   "metadata": {
    "colab": {},
    "colab_type": "code",
    "id": "RW_UaxlDzqQ1",
    "scrolled": true
   },
   "outputs": [],
   "source": [
    "def get_texts(main_path):  # получаем тексты приговоров\n",
    "    raw_texts = []\n",
    "    for items in os.walk(main_path):\n",
    "        for file in items[2]:\n",
    "            if file.split('.')[~0] == 'xml':\n",
    "                file_path = os.path.join(items[0], file)\n",
    "                raw_texts.append(process_xml(file_path))\n",
    "    return raw_texts"
   ]
  },
  {
   "cell_type": "code",
   "execution_count": 7,
   "metadata": {
    "scrolled": true
   },
   "outputs": [],
   "source": [
    "# записываем тексты в датафрейм\n",
    "# в этом суде больше всего приговоров (6 тысяч)\n",
    "\n",
    "court1['raw_main_parts'] = get_texts('data/leninskij-rajonnyj-sud-g-barnaula-altajskij-kraj-1102')"
   ]
  },
  {
   "cell_type": "code",
   "execution_count": 8,
   "metadata": {},
   "outputs": [
    {
     "data": {
      "text/html": [
       "<div>\n",
       "<style scoped>\n",
       "    .dataframe tbody tr th:only-of-type {\n",
       "        vertical-align: middle;\n",
       "    }\n",
       "\n",
       "    .dataframe tbody tr th {\n",
       "        vertical-align: top;\n",
       "    }\n",
       "\n",
       "    .dataframe thead th {\n",
       "        text-align: right;\n",
       "    }\n",
       "</style>\n",
       "<table border=\"1\" class=\"dataframe\">\n",
       "  <thead>\n",
       "    <tr style=\"text-align: right;\">\n",
       "      <th></th>\n",
       "      <th>raw_main_parts</th>\n",
       "    </tr>\n",
       "  </thead>\n",
       "  <tbody>\n",
       "    <tr>\n",
       "      <th>0</th>\n",
       "      <td>Котелевцев А.Г. совершил кражу, то есть тайно...</td>\n",
       "    </tr>\n",
       "    <tr>\n",
       "      <th>1</th>\n",
       "      <td>Агулова М.А. совершила тайное хищение чужого и...</td>\n",
       "    </tr>\n",
       "    <tr>\n",
       "      <th>2</th>\n",
       "      <td>Подсудимый Шакеров Р.А. совершил грабеж, то ес...</td>\n",
       "    </tr>\n",
       "    <tr>\n",
       "      <th>3</th>\n",
       "      <td>+++ в период времени с  DIGIT  DIGIT  часов  D...</td>\n",
       "    </tr>\n",
       "    <tr>\n",
       "      <th>4</th>\n",
       "      <td>Лукьянченко А.В. совершил тайное хищение чужог...</td>\n",
       "    </tr>\n",
       "  </tbody>\n",
       "</table>\n",
       "</div>"
      ],
      "text/plain": [
       "                                      raw_main_parts\n",
       "0   Котелевцев А.Г. совершил кражу, то есть тайно...\n",
       "1  Агулова М.А. совершила тайное хищение чужого и...\n",
       "2  Подсудимый Шакеров Р.А. совершил грабеж, то ес...\n",
       "3  +++ в период времени с  DIGIT  DIGIT  часов  D...\n",
       "4  Лукьянченко А.В. совершил тайное хищение чужог..."
      ]
     },
     "execution_count": 8,
     "metadata": {},
     "output_type": "execute_result"
    }
   ],
   "source": [
    "court1.head()"
   ]
  },
  {
   "cell_type": "code",
   "execution_count": 60,
   "metadata": {
    "colab": {
     "base_uri": "https://localhost:8080/",
     "height": 289
    },
    "colab_type": "code",
    "id": "eT-GnFex4xnM",
    "outputId": "c3d2612a-3ac7-471f-d2c1-fe8f57b40285"
   },
   "outputs": [],
   "source": [
    "def normalize(text):\n",
    "    words = [word.strip(punct) for word in text.lower().split()] \n",
    "    words = [word for word in words if word]\n",
    "    words = [morph.parse(word)[0].normal_form for word in words if word]\n",
    "\n",
    "    return words"
   ]
  },
  {
   "cell_type": "code",
   "execution_count": 10,
   "metadata": {
    "colab": {},
    "colab_type": "code",
    "id": "Oh7SCnKPt_NJ"
   },
   "outputs": [],
   "source": [
    "court1 = court1.dropna()"
   ]
  },
  {
   "cell_type": "code",
   "execution_count": 11,
   "metadata": {},
   "outputs": [],
   "source": [
    "court1['norm_main_parts'] = court1['raw_main_parts'].apply(normalize)  # нормализуем"
   ]
  },
  {
   "cell_type": "code",
   "execution_count": 12,
   "metadata": {
    "colab": {
     "base_uri": "https://localhost:8080/",
     "height": 204
    },
    "colab_type": "code",
    "id": "qG63JseFrcV4",
    "outputId": "234a2b87-ce37-4285-bcdd-b9bb016eada3"
   },
   "outputs": [
    {
     "data": {
      "text/html": [
       "<div>\n",
       "<style scoped>\n",
       "    .dataframe tbody tr th:only-of-type {\n",
       "        vertical-align: middle;\n",
       "    }\n",
       "\n",
       "    .dataframe tbody tr th {\n",
       "        vertical-align: top;\n",
       "    }\n",
       "\n",
       "    .dataframe thead th {\n",
       "        text-align: right;\n",
       "    }\n",
       "</style>\n",
       "<table border=\"1\" class=\"dataframe\">\n",
       "  <thead>\n",
       "    <tr style=\"text-align: right;\">\n",
       "      <th></th>\n",
       "      <th>raw_main_parts</th>\n",
       "      <th>norm_main_parts</th>\n",
       "    </tr>\n",
       "  </thead>\n",
       "  <tbody>\n",
       "    <tr>\n",
       "      <th>0</th>\n",
       "      <td>Котелевцев А.Г. совершил кражу, то есть тайно...</td>\n",
       "      <td>[котелевец, а.г, совершить, кража, то, есть, т...</td>\n",
       "    </tr>\n",
       "    <tr>\n",
       "      <th>1</th>\n",
       "      <td>Агулова М.А. совершила тайное хищение чужого и...</td>\n",
       "      <td>[агулов, м.а, совершить, тайный, хищение, чужо...</td>\n",
       "    </tr>\n",
       "    <tr>\n",
       "      <th>2</th>\n",
       "      <td>Подсудимый Шакеров Р.А. совершил грабеж, то ес...</td>\n",
       "      <td>[подсудимый, шакер, р.а, совершить, грабёж, то...</td>\n",
       "    </tr>\n",
       "    <tr>\n",
       "      <th>3</th>\n",
       "      <td>+++ в период времени с  DIGIT  DIGIT  часов  D...</td>\n",
       "      <td>[в, период, время, с, часы, минута, до, часы, ...</td>\n",
       "    </tr>\n",
       "    <tr>\n",
       "      <th>4</th>\n",
       "      <td>Лукьянченко А.В. совершил тайное хищение чужог...</td>\n",
       "      <td>[лукьянченко, а.в, совершить, тайный, хищение,...</td>\n",
       "    </tr>\n",
       "  </tbody>\n",
       "</table>\n",
       "</div>"
      ],
      "text/plain": [
       "                                      raw_main_parts  \\\n",
       "0   Котелевцев А.Г. совершил кражу, то есть тайно...   \n",
       "1  Агулова М.А. совершила тайное хищение чужого и...   \n",
       "2  Подсудимый Шакеров Р.А. совершил грабеж, то ес...   \n",
       "3  +++ в период времени с  DIGIT  DIGIT  часов  D...   \n",
       "4  Лукьянченко А.В. совершил тайное хищение чужог...   \n",
       "\n",
       "                                     norm_main_parts  \n",
       "0  [котелевец, а.г, совершить, кража, то, есть, т...  \n",
       "1  [агулов, м.а, совершить, тайный, хищение, чужо...  \n",
       "2  [подсудимый, шакер, р.а, совершить, грабёж, то...  \n",
       "3  [в, период, время, с, часы, минута, до, часы, ...  \n",
       "4  [лукьянченко, а.в, совершить, тайный, хищение,...  "
      ]
     },
     "execution_count": 12,
     "metadata": {},
     "output_type": "execute_result"
    }
   ],
   "source": [
    "court1.head()"
   ]
  },
  {
   "cell_type": "code",
   "execution_count": 15,
   "metadata": {},
   "outputs": [],
   "source": [
    "def get_ngrams(court):   # выделяем 5000 самых частотных энграмм\n",
    "    all_texts = []\n",
    "    colloc_5000 = [] \n",
    "    for text in court.norm_main_parts:    # записываем все тексты в одно место\n",
    "        all_texts.extend(text)\n",
    "    for col in Counter(list(everygrams(all_texts, min_len=3, max_len=20))).most_common(5000):\n",
    "        colloc_5000.append(' '.join(col[0]))\n",
    "    return colloc_5000"
   ]
  },
  {
   "cell_type": "code",
   "execution_count": 16,
   "metadata": {},
   "outputs": [],
   "source": [
    "gold_std = get_ngrams(court1)    # 5000 частотных энграмм большого суда"
   ]
  },
  {
   "cell_type": "code",
   "execution_count": 18,
   "metadata": {
    "scrolled": true
   },
   "outputs": [
    {
     "name": "stdout",
     "output_type": "stream",
     "text": [
      "в судебный заседание\n",
      "кодекс российский федерация\n",
      "в соответствие с\n",
      "без цель сбыт\n",
      "степень общественный опасность\n",
      "сбыт наркотический средство\n",
      "в связь с\n",
      "характер и степень\n",
      "и степень общественный\n",
      "и степень общественный опасность\n",
      "хищение чужое имущество\n",
      "характер и степень общественный\n",
      "характер и степень общественный опасность\n",
      "явка с повинный\n",
      "уголовный кодекс российский\n",
      "уголовный кодекс российский федерация\n",
      "по адрес адрес\n",
      "цель сбыт наркотический\n",
      "цель сбыт наркотический средство\n",
      "без цель сбыт наркотический\n"
     ]
    }
   ],
   "source": [
    "print(*(gold_std[:20]), sep='\\n')"
   ]
  },
  {
   "cell_type": "code",
   "execution_count": 19,
   "metadata": {},
   "outputs": [],
   "source": [
    "random.shuffle(os.listdir('data'))     # взяли 10 рандомных судов\n",
    "ten_courts = os.listdir('data')[:10]"
   ]
  },
  {
   "cell_type": "markdown",
   "metadata": {},
   "source": [
    "Дальше нужно снова выделить для этих 10 судов их частотные энграммы и по очереди пересечь с `gold_std`"
   ]
  },
  {
   "cell_type": "code",
   "execution_count": 20,
   "metadata": {},
   "outputs": [
    {
     "data": {
      "text/plain": [
       "['krasnozerskij-rajonnyj-sud-novosibirskaya-oblast-986',\n",
       " 'kondinskij-rajonnyj-sud-xanty-mansijskij-avtonomnyj-okrug-927',\n",
       " 'kulundinskij-rajonnyj-sud-altajskij-kraj-1040',\n",
       " 'primorskij-rajonnyj-sud-arxangelskaya-oblast-1632',\n",
       " 'korochanskij-rajonnyj-sud-belgorodskaya-oblast-941',\n",
       " 'verxnepyshminskij-gorodskoj-sud-sverdlovskaya-oblast-400',\n",
       " 'saratovskij-oblastnoj-sud-saratovskaya-oblast-2403',\n",
       " 'ketchenerovskij-rajonnyj-sud-respublika-kalmykiya-834',\n",
       " 'bogdanovichskij-gorodskoj-sud-sverdlovskaya-oblast-310',\n",
       " 'severouralskij-gorodskoj-sud-sverdlovskaya-oblast-1768']"
      ]
     },
     "execution_count": 20,
     "metadata": {},
     "output_type": "execute_result"
    }
   ],
   "source": [
    "ten_courts"
   ]
  },
  {
   "cell_type": "code",
   "execution_count": 21,
   "metadata": {},
   "outputs": [
    {
     "data": {
      "text/plain": [
       "{'krasnozerskij-rajonnyj-sud-novosibirskaya-oblast-986': 'court_2',\n",
       " 'kondinskij-rajonnyj-sud-xanty-mansijskij-avtonomnyj-okrug-927': 'court_3',\n",
       " 'kulundinskij-rajonnyj-sud-altajskij-kraj-1040': 'court_4',\n",
       " 'primorskij-rajonnyj-sud-arxangelskaya-oblast-1632': 'court_5',\n",
       " 'korochanskij-rajonnyj-sud-belgorodskaya-oblast-941': 'court_6',\n",
       " 'verxnepyshminskij-gorodskoj-sud-sverdlovskaya-oblast-400': 'court_7',\n",
       " 'saratovskij-oblastnoj-sud-saratovskaya-oblast-2403': 'court_8',\n",
       " 'ketchenerovskij-rajonnyj-sud-respublika-kalmykiya-834': 'court_9',\n",
       " 'bogdanovichskij-gorodskoj-sud-sverdlovskaya-oblast-310': 'court_10',\n",
       " 'severouralskij-gorodskoj-sud-sverdlovskaya-oblast-1768': 'court_11'}"
      ]
     },
     "execution_count": 21,
     "metadata": {},
     "output_type": "execute_result"
    }
   ],
   "source": [
    "court_dict = {court:'court_'+str(i) for i, court in enumerate(ten_courts, 2)}\n",
    "court_dict"
   ]
  },
  {
   "cell_type": "code",
   "execution_count": 22,
   "metadata": {},
   "outputs": [],
   "source": [
    "def get_all_done(dictionary):\n",
    "    d_ngrams = {}\n",
    "    for court, df in dictionary.items():\n",
    "        print(court)\n",
    "        df = pd.DataFrame()\n",
    "        df['raw_main_parts'] = get_texts(os.path.join('data', court))\n",
    "        df = df.dropna()\n",
    "        print('got texts for %s' % court)\n",
    "        print(df.shape)\n",
    "        df['norm_main_parts'] = df['raw_main_parts'].apply(normalize)\n",
    "        print('%s normalized' % court)\n",
    "        d_ngrams[court] = get_ngrams(df)\n",
    "        print('got ngrams for %s' % court)\n",
    "    return d_ngrams"
   ]
  },
  {
   "cell_type": "code",
   "execution_count": 23,
   "metadata": {
    "scrolled": false
   },
   "outputs": [
    {
     "name": "stdout",
     "output_type": "stream",
     "text": [
      "krasnozerskij-rajonnyj-sud-novosibirskaya-oblast-986\n",
      "got texts for krasnozerskij-rajonnyj-sud-novosibirskaya-oblast-986\n",
      "(274, 1)\n",
      "krasnozerskij-rajonnyj-sud-novosibirskaya-oblast-986 normalized\n",
      "got ngrams for krasnozerskij-rajonnyj-sud-novosibirskaya-oblast-986\n",
      "kondinskij-rajonnyj-sud-xanty-mansijskij-avtonomnyj-okrug-927\n",
      "got texts for kondinskij-rajonnyj-sud-xanty-mansijskij-avtonomnyj-okrug-927\n",
      "(364, 1)\n",
      "kondinskij-rajonnyj-sud-xanty-mansijskij-avtonomnyj-okrug-927 normalized\n",
      "got ngrams for kondinskij-rajonnyj-sud-xanty-mansijskij-avtonomnyj-okrug-927\n",
      "kulundinskij-rajonnyj-sud-altajskij-kraj-1040\n",
      "got texts for kulundinskij-rajonnyj-sud-altajskij-kraj-1040\n",
      "(349, 1)\n",
      "kulundinskij-rajonnyj-sud-altajskij-kraj-1040 normalized\n",
      "got ngrams for kulundinskij-rajonnyj-sud-altajskij-kraj-1040\n",
      "primorskij-rajonnyj-sud-arxangelskaya-oblast-1632\n",
      "got texts for primorskij-rajonnyj-sud-arxangelskaya-oblast-1632\n",
      "(445, 1)\n",
      "primorskij-rajonnyj-sud-arxangelskaya-oblast-1632 normalized\n",
      "got ngrams for primorskij-rajonnyj-sud-arxangelskaya-oblast-1632\n",
      "korochanskij-rajonnyj-sud-belgorodskaya-oblast-941\n",
      "got texts for korochanskij-rajonnyj-sud-belgorodskaya-oblast-941\n",
      "(241, 1)\n",
      "korochanskij-rajonnyj-sud-belgorodskaya-oblast-941 normalized\n",
      "got ngrams for korochanskij-rajonnyj-sud-belgorodskaya-oblast-941\n",
      "verxnepyshminskij-gorodskoj-sud-sverdlovskaya-oblast-400\n",
      "got texts for verxnepyshminskij-gorodskoj-sud-sverdlovskaya-oblast-400\n",
      "(609, 1)\n",
      "verxnepyshminskij-gorodskoj-sud-sverdlovskaya-oblast-400 normalized\n",
      "got ngrams for verxnepyshminskij-gorodskoj-sud-sverdlovskaya-oblast-400\n",
      "saratovskij-oblastnoj-sud-saratovskaya-oblast-2403\n",
      "got texts for saratovskij-oblastnoj-sud-saratovskaya-oblast-2403\n",
      "(46, 1)\n",
      "saratovskij-oblastnoj-sud-saratovskaya-oblast-2403 normalized\n",
      "got ngrams for saratovskij-oblastnoj-sud-saratovskaya-oblast-2403\n",
      "ketchenerovskij-rajonnyj-sud-respublika-kalmykiya-834\n",
      "got texts for ketchenerovskij-rajonnyj-sud-respublika-kalmykiya-834\n",
      "(69, 1)\n",
      "ketchenerovskij-rajonnyj-sud-respublika-kalmykiya-834 normalized\n",
      "got ngrams for ketchenerovskij-rajonnyj-sud-respublika-kalmykiya-834\n",
      "bogdanovichskij-gorodskoj-sud-sverdlovskaya-oblast-310\n",
      "got texts for bogdanovichskij-gorodskoj-sud-sverdlovskaya-oblast-310\n",
      "(600, 1)\n",
      "bogdanovichskij-gorodskoj-sud-sverdlovskaya-oblast-310 normalized\n",
      "got ngrams for bogdanovichskij-gorodskoj-sud-sverdlovskaya-oblast-310\n",
      "severouralskij-gorodskoj-sud-sverdlovskaya-oblast-1768\n",
      "got texts for severouralskij-gorodskoj-sud-sverdlovskaya-oblast-1768\n",
      "(227, 1)\n",
      "severouralskij-gorodskoj-sud-sverdlovskaya-oblast-1768 normalized\n",
      "got ngrams for severouralskij-gorodskoj-sud-sverdlovskaya-oblast-1768\n"
     ]
    }
   ],
   "source": [
    "courts_ngrams = get_all_done(court_dict)"
   ]
  },
  {
   "cell_type": "code",
   "execution_count": 24,
   "metadata": {
    "scrolled": true
   },
   "outputs": [
    {
     "name": "stdout",
     "output_type": "stream",
     "text": [
      "{'по уголовный кодекс', 'уголовный кодекс российский федерация в', 'не находить основание для', 'не находить основание', 'психотропный вещество и', 'в тот число', 'ходатайство о постановление приговор без проведение судебный', 'и личность виновный', 'есть открытый хищение чужое имущество', 'следующий обстоятельство год около', 'цель сбыт наркотический средство в особо', 'применение насилие не', 'магазин дать изъять', 'год в период', 'крупный размер при', 'средство в особо крупный', 'есть тайный хищение чужое имущество совершенный', 'наказание суд учитывать', 'обстоятельство год около', 'влияние назначить наказание на исправление осудить и на условие жизнь', 'квартира по адрес адрес', 'грабёж то есть открытый', 'на исправление осудить и на условие жизнь', 'осознать характер и', 'россия по год', 'в установленный закон', 'по уголовный дело', 'в состояние алкогольный опьянение', 'о постановление приговор', 'без цель сбыт наркотический средство в особо', 'с часы до', 'наказание суд учитывать характер и степень общественный опасность', 'цель сбыт наркотический средство в особо крупный', 'по уголовный кодекс российский', 'соответствие с уголовный кодекс', 'фио фио фио', 'дело в отношение', 'установленный закон порядок', 'характер и последствие заявить', 'наказание в вид лишение свобода', 'учитывать характер и степень общественный', 'наказание на исправление осудить и на', 'уголовный дело в отношение', 'в который находиться', 'в период время с часы', 'не возражать против', 'суд в соответствие', 'влияние назначить наказание на исправление осудить и на', 'наказание в вид', 'в соответствие с', 'наркотический средство и психотропный', 'наказание суд учитывать характер и степень', 'при следующий обстоятельство год', 'уголовный кодекс российский', 'опасный для жизнь и здоровье', 'причинить вред здоровье', 'назначить наказание на исправление', 'по адрес адрес', 'наказание суд учитывать характер и степень общественный', 'в период с', 'осознать характер и последствие', 'то есть тайный хищение чужое имущество', 'характер и степень общественный', 'в вид лишение свобода', 'о постановление приговор без проведение судебный', 'средство в крупный размер', 'наркотический средство смесь', 'основание изложить руководствоваться', 'минута до часы', 'исправление осудить и на условие жизнь он', 'есть открытый хищение чужое', 'наркотический средство в особо крупный', 'на условие жизнь он семья', 'есть тайный хищение', 'в особо крупный размер', 'назначить наказание на исправление осудить и на условие жизнь он', 'изготовление и потребление', 'причинение тяжкий вред здоровье', 'не опасный для жизнь и', 'и потребление наркотический средство', 'признание вина раскаяние', 'раскаяние в содеять', 'сбыт наркотический средство в особо', 'ходатайство о постановление приговор без', 'с часы минута', 'кража то есть тайный', 'находиться в состояние', 'ущерб на общий сумма рубль', 'крупный и особо крупный', 'ооо дать изъять', 'исправление осудить и на условие жизнь он семья', 'на основание изложить руководствоваться', 'суд находить возможный', 'сумма дать изъять', 'свой усмотрение причинить', 'степень общественный опасность совершенный', 'не причинить вред здоровье', 'приходить к вывод', 'по свой усмотрение', 'не опасный для жизнь', 'влияние назначить наказание на исправление осудить и на условие', 'то есть открытый хищение чужое', 'влияние назначить наказание на исправление осудить и на условие жизнь он', 'и степень общественный опасность', 'наркотический средство психотропный', 'наркотический средство и', 'общественный опасность содеять', 'лишение свобода с', 'соответствие с уголовный', 'проведение консультация с', 'квалифицировать по уголовный кодекс российский', 'кража то есть тайный хищение чужое имущество совершенный', 'условие жизнь он', 'грабёж то есть открытый хищение чужое', 'влияние назначить наказание на исправление осудить и на условие жизнь он семья', 'средство в сумма', 'характер и степень общественный опасность совершенный', 'чужое имущество совершенный', 'с незаконный проникновение', 'в соответствие с уголовный', 'на исправление осудить и на', 'уголовно-процессуальный кодекс российский федерация', 'наркотический средство психотропный вещество', 'связь с чем', 'кража то есть', 'явка с повинный', 'и психотропный вещество', 'особый порядок судебный разбирательство', 'и степень общественный', 'с учёт требование', 'содержимый наркотический средство', 'общий сумма рубль', 'в сумма рубль', 'время с часы', 'степень общественный опасность содеять', 'в крупный размер', 'в квартира по адрес', 'денежный средство в', 'средство в сумма рубль', 'постановление приговор без проведение', 'постановление правительство рф от', 'без цель сбыт наркотический средство в особо крупный размер', 'и уголовный кодекс российский федерация', 'преступление средний тяжесть', 'расположить по адрес адрес', 'в настоящее время', 'есть тайный хищение чужое имущество совершенный с', 'год около часы', 'и особо крупный', 'крупный и особо крупный размер', 'при следующий обстоятельство в', 'в уголовный кодекс', 'не опасный для жизнь и здоровье', 'цель сбыт наркотический средство в', 'причинение значительный ущерб', 'уголовно-процессуальный кодекс российский', 'после проведение консультация с защитник', 'по дело не', 'постоянный место жительство', 'и уголовный кодекс', 'потребление наркотический средство', 'наказание на исправление осудить и на условие', 'обнаружить и изъять', 'с часы минута до', 'характер и последствие', 'ходатайство о постановление приговор без проведение', 'в связь с чем', 'назначить наказание на исправление осудить', 'на исправление осудить и', 'протокол осмотр место происшествие', 'не установить с учёт', 'сумма дать изъять рубль', 'деньга в сумма', 'суд не усматривать', 'исправление осудить и на', 'квартира по адрес', 'кража то есть тайный хищение', 'цель сбыт наркотический средство в особо крупный размер', 'употребление наркотический средство', 'осознавать характер и последствие заявить', 'насилие не опасный для жизнь и', 'расположить по адрес', 'кража то есть тайный хищение чужое', 'условие жизнь он семья', 'период время с часы', 'назначить наказание на исправление осудить и на условие', 'быть обнаружить и', 'наркотический средство в особо крупный размер', 'вина в совершение', 'год в период время с', 'при следующий обстоятельство', 'правительство рф от', 'с причинение значительный ущерб гражданин', 'хранить без цель сбыт', 'исправление осудить и', 'хранение без цель сбыт', 'рф от год', 'сбыт наркотический средство', 'наказание на исправление осудить и на условие жизнь он', 'кодекс российский федерация суд', 'назначить наказание на', 'сбыт наркотический средство в особо крупный размер', 'постановление приговор без', 'по место жительство характеризоваться', 'имущество совершенный с', 'и на условие жизнь он', 'признание вина раскаяние в', 'после проведение консультация с', 'характер и степень общественный опасность', 'общественный опасность совершенный', 'то есть тайный хищение чужое', 'о постановление приговор без проведение судебный разбирательство', 'из корыстный побуждение', 'с причинение значительный ущерб', 'пояснить что в', 'и на условие', 'цель сбыт наркотический средство', 'хранить без цель', 'находиться в квартира', 'материал уголовный дело', 'чужое имущество совершенный с', 'значительный ущерб гражданин', 'причинение тяжкий вред', 'соответствие с уголовный кодекс российский федерация', 'открытый хищение чужое имущество', 'сбыт наркотический средство в крупный размер', 'тайный хищение чужое имущество совершенный с', 'хранение без цель', 'и потребление наркотический', 'хищение чужое имущество совершенный', 'руководствоваться уголовно-процессуальный кодекс российский', 'активный способствование раскрытие', 'около часы минута', 'влияние назначить наказание', 'назначить наказание на исправление осудить и на условие жизнь', 'суд приходить к вывод', 'без цель сбыт наркотический средство в особо крупный', 'год около часы минута', 'год о утверждение', 'в вид лишение', 'приговор без проведение', 'ходатайство о постановление', 'по уголовный кодекс российский федерация', 'признание вина раскаяние в содеять', 'и степень общественный опасность совершенный', 'место жительство характеризоваться', 'степень общественный опасность', 'кража то есть тайный хищение чужое имущество', 'суд не находить', 'то есть открытый', 'то есть тайный хищение чужое имущество совершенный', 'без проведение судебный разбирательство', 'влияние назначить наказание на исправление осудить и', 'средство в особо крупный размер', 'не установить с', 'сбыт наркотический средство в крупный', 'то есть открытый хищение', 'до часы минута', 'без реальный отбывание', 'обстоятельство смягчающий наказание', 'что год около', 'наказание на исправление осудить и', 'кодекс российский федерация в', 'не причинить вред', 'и на условие жизнь он семья', 'денежный средство в сумма', 'причинение значительный ущерб гражданин', 'насилие не опасный для', 'суд приходить к вывод что', 'назначить наказание на исправление осудить и на', 'следующий обстоятельство в', 'ущерб на общий сумма', 'российский федерация суд', 'на сумма рубль', 'особый порядок судебный', 'насилие не опасный', 'то есть тайный хищение', 'вина раскаяние в содеять', 'суд показать что', 'вид лишение свобода', 'в ход который', 'наркотический средство дезоморфин', 'незаконный проникновение в', 'наказание на исправление осудить и на условие жизнь он семья', 'с применение насилие', 'грабёж то есть', 'наркотический средство в', 'суд учитывать характер', 'без цель сбыт наркотический средство', 'и общественный опасность', 'приговор без проведение судебный разбирательство', 'наказание на исправление осудить и на условие жизнь', 'денежный средство в сумма рубль', 'следующий обстоятельство год', 'на исправление осудить', 'суд считать возможный', 'в российский федерация', 'принимать в внимание', 'психотропный вещество и они', 'тяжкий вред здоровье', 'протокол осмотр место', 'наказание на исправление', 'уголовный кодекс российский федерация', 'наркотический средство в особо', 'руководствоваться уголовно-процессуальный кодекс российский федерация', 'с часы минута до часы', 'с причинение значительный', 'сбыт наркотический средство в', 'общественный опасность свой действие', 'назначить наказание на исправление осудить и', 'часы минута до часы минута', 'фио и фио', 'на условие жизнь', 'о постановление приговор без проведение', 'назначить наказание на исправление осудить и на условие жизнь он семья', 'наркотический средство и психотропный вещество', 'к вывод о', 'с часы минута до часы минута', 'влияние назначить наказание на исправление осудить', 'не опасный для', 'влияние назначить наказание на', 'осудить и на условие жизнь', 'крупный и особо', 'к вывод что', 'то есть тайный', 'свой действие и', 'в судебный заседание', 'установить с учёт', 'на общий сумма', 'и общественный опасность свой', 'характер и степень', 'по место жительство', 'грабёж то есть открытый хищение', 'тайный хищение чужое имущество совершенный', 'причинить тяжкий вред', 'суд учитывать характер и', 'в совершение преступление', 'показание свидетель фио', 'влияние назначить наказание на исправление', 'и особо крупный размер', 'ущерб на общий', 'год в период время с часы', 'и уголовный кодекс российский', 'дом по адрес', 'дать изъять в', 'опасность свой действие', 'от год о', 'осудить и на', 'в период время с', 'причинить тяжкий вред здоровье', 'в связь с', 'дать изъять рубль', 'суд приходить к вывод о', 'часы до часы', 'средство психотропный вещество', 'шприц однократный применение', 'осудить и на условие жизнь он', 'наркотический средство в крупный', 'находить основание для', 'жизнь он семья', 'учитывать характер и', 'обстоятельство отягчать наказание', 'кража то есть тайный хищение чужое имущество совершенный с', 'средство и психотропный', 'при назначение подсудимый', 'часы минута до', 'в особо крупный', 'постановление правительство рф', 'суд учитывать характер и степень общественный опасность', 'средство в особо', 'вещество и они', 'часы минута до часы', 'опасный для жизнь', 'суд в соответствие с', 'осознавать характер и', 'осмотр место происшествие', 'уголовный дело в', 'с незаконный проникновение в', 'дать о личность', 'уголовно-процессуальный кодекс российский федерация суд', 'консультация с защитник', 'период время с', 'наказание в вид лишение', 'тайный хищение чужое имущество', 'наказание суд учитывать характер', 'и общественный опасность свой действие', 'с часы до часы', 'приговор без проведение судебный', 'на условие жизнь он', 'насилие не опасный для жизнь и здоровье', 'то есть тайный хищение чужое имущество совершенный с', 'основание для применение', 'насилие не опасный для жизнь', 'жизнь и здоровье', 'соответствие с уголовный кодекс российский', 'исправление осудить и на условие жизнь', 'хранение без цель сбыт наркотический', 'приходить к вывод о', 'хищение чужое имущество совершенный с', 'по вышеуказанный адрес', 'с уголовный кодекс', 'постановление приговор без проведение судебный', 'учитывать характер и степень', 'грабёж то есть открытый хищение чужое имущество', 'то есть открытый хищение чужое имущество', 'опасный для жизнь и', 'осудить и на условие жизнь он семья', 'в соответствие с уголовный кодекс российский', 'без цель сбыт наркотический средство в', 'о постановление приговор без', 'проведение консультация с защитник', 'на общий сумма рубль', 'без проведение судебный', 'общественный опасность свой', 'сбыт наркотический средство в особо крупный', 'в квартира по', 'в период время', 'тайный хищение чужое', 'стоимость рубль с', 'без цель сбыт', 'ходатайство о постановление приговор без проведение судебный разбирательство', 'с уголовный кодекс российский', 'учитывать характер и степень общественный опасность совершенный', 'в часы минута', 'минута до часы минута', 'суд квалифицировать по', 'суд приходить к', 'состояние алкогольный опьянение', 'российский федерация в', 'что год около часы', 'хранение без цель сбыт наркотический средство в', 'в соответствие с уголовный кодекс', 'после проведение консультация', 'квалифицировать по уголовный кодекс российский федерация', 'суд считать необходимый', 'наказание на исправление осудить', 'через некоторый время', 'есть тайный хищение чужое', 'квалифицировать по уголовный кодекс', 'квалифицировать по уголовный', 'в соответствие с уголовный кодекс российский федерация', 'суд учитывать характер и степень общественный опасность совершенный', 'кодекс российский федерация', 'наказание суд учитывать характер и', 'для жизнь и', 'и на условие жизнь', 'порядок судебный разбирательство', 'подлежащее контроль в', 'ходатайство о постановление приговор', 'перечень наркотический средство', 'вина раскаяние в', 'на исправление осудить и на условие жизнь он', 'в установленный закон порядок', 'на исправление осудить и на условие', 'наркотический средство в крупный размер', 'и последствие заявить', 'для жизнь и здоровье', 'в состояние алкогольный', 'в особый порядок', 'средство и психотропный вещество', 'в это время', 'особо крупный размер', 'руководствоваться уголовно-процессуальный кодекс', 'учитывать характер и степень общественный опасность', 'исправление осудить и на условие', 'средство в крупный', 'цель сбыт наркотический', 'с согласие сторона', 'суд учитывать характер и степень', 'суд учитывать характер и степень общественный', 'хищение чужое имущество', 'о тот что', 'постановление приговор без проведение судебный разбирательство', 'год в период время', 'есть тайный хищение чужое имущество', 'на исправление осудить и на условие жизнь он семья', 'приходить к вывод что', 'есть открытый хищение', 'при следующий обстоятельство год около', 'по адрес в', 'по свой усмотрение причинить', 'отягчать наказание обстоятельство', 'проведение судебный разбирательство', 'при назначение наказание', 'в ход предварительный', 'с уголовный кодекс российский федерация', 'на основание изложить', 'открытый хищение чужое', 'без цель сбыт наркотический', 'в размер рубль', 'осознавать характер и последствие', 'суд пояснить что', 'осудить и на условие', 'быть обнаружить и изъять', 'хранение без цель сбыт наркотический средство'}\n"
     ]
    }
   ],
   "source": [
    "for ngrams in courts_ngrams.values():\n",
    "    final_ngrams = []\n",
    "    final_ngrams.extend(set(gold_std)&set(ngrams))\n",
    "final_ngrams=set(final_ngrams)\n",
    "print(final_ngrams)"
   ]
  },
  {
   "cell_type": "code",
   "execution_count": 25,
   "metadata": {},
   "outputs": [
    {
     "data": {
      "text/plain": [
       "495"
      ]
     },
     "execution_count": 25,
     "metadata": {},
     "output_type": "execute_result"
    }
   ],
   "source": [
    "len(final_ngrams)"
   ]
  },
  {
   "cell_type": "code",
   "execution_count": 26,
   "metadata": {},
   "outputs": [],
   "source": [
    "with open('juridisms.txt', 'w', encoding='utf-8') as f:\n",
    "    for item in final_ngrams:\n",
    "        f.write(item+'\\n')"
   ]
  }
 ],
 "metadata": {
  "colab": {
   "collapsed_sections": [],
   "include_colab_link": true,
   "name": "Ngrams.ipynb",
   "provenance": [],
   "version": "0.3.2"
  },
  "kernelspec": {
   "display_name": "Python 3",
   "language": "python",
   "name": "python3"
  },
  "language_info": {
   "codemirror_mode": {
    "name": "ipython",
    "version": 3
   },
   "file_extension": ".py",
   "mimetype": "text/x-python",
   "name": "python",
   "nbconvert_exporter": "python",
   "pygments_lexer": "ipython3",
   "version": "3.7.3"
  }
 },
 "nbformat": 4,
 "nbformat_minor": 1
}
